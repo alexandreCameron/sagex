{
 "cells": [
  {
   "cell_type": "markdown",
   "metadata": {
    "ExecuteTime": {
     "end_time": "2019-07-11T17:20:23.111348Z",
     "start_time": "2019-07-11T17:20:23.105107Z"
    }
   },
   "source": [
    "# Water physical properties"
   ]
  },
  {
   "cell_type": "markdown",
   "metadata": {},
   "source": [
    "## Setings\n",
    "### Notebook configuration"
   ]
  },
  {
   "cell_type": "code",
   "execution_count": null,
   "metadata": {
    "ExecuteTime": {
     "end_time": "2019-07-16T13:12:22.073299Z",
     "start_time": "2019-07-16T13:12:21.829539Z"
    }
   },
   "outputs": [],
   "source": [
    "%load_ext autoreload\n",
    "%autoreload 2\n",
    "%matplotlib inline"
   ]
  },
  {
   "cell_type": "markdown",
   "metadata": {
    "ExecuteTime": {
     "end_time": "2019-07-11T17:23:24.456714Z",
     "start_time": "2019-07-11T17:23:24.446198Z"
    }
   },
   "source": [
    "### Packages"
   ]
  },
  {
   "cell_type": "code",
   "execution_count": null,
   "metadata": {
    "ExecuteTime": {
     "end_time": "2019-07-16T13:12:22.230338Z",
     "start_time": "2019-07-16T13:12:22.074664Z"
    }
   },
   "outputs": [],
   "source": [
    "import os  # manage path and os interaction\n",
    "import numpy as np  # manage array and math operation\n",
    "import pandas as pd  # manage table\n",
    "\n",
    "import matplotlib as mpl  # plot data\n",
    "import matplotlib.pyplot as plt  # plot data"
   ]
  },
  {
   "cell_type": "markdown",
   "metadata": {
    "ExecuteTime": {
     "end_time": "2019-07-11T17:31:04.281549Z",
     "start_time": "2019-07-11T17:31:04.216551Z"
    }
   },
   "source": [
    "## Import data"
   ]
  },
  {
   "cell_type": "code",
   "execution_count": null,
   "metadata": {
    "ExecuteTime": {
     "end_time": "2019-07-16T13:12:22.244011Z",
     "start_time": "2019-07-16T13:12:22.231514Z"
    }
   },
   "outputs": [],
   "source": [
    "data_path = '../data/water/water.csv'\n",
    "df_0 = pd.read_csv(data_path)"
   ]
  },
  {
   "cell_type": "markdown",
   "metadata": {
    "ExecuteTime": {
     "end_time": "2019-07-11T17:32:12.598345Z",
     "start_time": "2019-07-11T17:32:12.554580Z"
    }
   },
   "source": [
    "## Explore data"
   ]
  },
  {
   "cell_type": "code",
   "execution_count": null,
   "metadata": {
    "ExecuteTime": {
     "end_time": "2019-07-16T13:12:22.272390Z",
     "start_time": "2019-07-16T13:12:22.245071Z"
    }
   },
   "outputs": [],
   "source": [
    "df_0.head(n=3)"
   ]
  },
  {
   "cell_type": "markdown",
   "metadata": {},
   "source": [
    "## Correct import\n",
    "\n",
    "The second line of the header should be taken out"
   ]
  },
  {
   "cell_type": "code",
   "execution_count": null,
   "metadata": {
    "ExecuteTime": {
     "end_time": "2019-07-16T13:12:22.299699Z",
     "start_time": "2019-07-16T13:12:22.273929Z"
    }
   },
   "outputs": [],
   "source": [
    "df_1 = pd.read_csv(data_path, header=1)\n",
    "\n",
    "df_1.head()"
   ]
  },
  {
   "cell_type": "markdown",
   "metadata": {},
   "source": [
    "## Replace column names"
   ]
  },
  {
   "cell_type": "code",
   "execution_count": null,
   "metadata": {
    "ExecuteTime": {
     "end_time": "2019-07-16T13:12:22.317248Z",
     "start_time": "2019-07-16T13:12:22.301474Z"
    }
   },
   "outputs": [],
   "source": [
    "df_0.columns"
   ]
  },
  {
   "cell_type": "code",
   "execution_count": null,
   "metadata": {
    "ExecuteTime": {
     "end_time": "2019-07-16T13:12:22.343390Z",
     "start_time": "2019-07-16T13:12:22.319033Z"
    }
   },
   "outputs": [],
   "source": [
    "df_1.columns = df_0.columns\n",
    "\n",
    "df_1.head()"
   ]
  },
  {
   "cell_type": "markdown",
   "metadata": {},
   "source": [
    "## Set index"
   ]
  },
  {
   "cell_type": "code",
   "execution_count": null,
   "metadata": {
    "ExecuteTime": {
     "end_time": "2019-07-16T13:12:22.366825Z",
     "start_time": "2019-07-16T13:12:22.345114Z"
    }
   },
   "outputs": [],
   "source": [
    "df_1.set_index('Temperature').head(n=5)"
   ]
  },
  {
   "cell_type": "markdown",
   "metadata": {},
   "source": [
    "The operation generated a copy, to apply directly the operation use inplace."
   ]
  },
  {
   "cell_type": "code",
   "execution_count": null,
   "metadata": {
    "ExecuteTime": {
     "end_time": "2019-07-16T13:12:22.377472Z",
     "start_time": "2019-07-16T13:12:22.368063Z"
    }
   },
   "outputs": [],
   "source": [
    "df_1.set_index('Temperature', inplace=True)"
   ]
  },
  {
   "cell_type": "markdown",
   "metadata": {},
   "source": [
    "## Plot Density"
   ]
  },
  {
   "cell_type": "code",
   "execution_count": null,
   "metadata": {
    "ExecuteTime": {
     "end_time": "2019-07-16T13:12:22.552648Z",
     "start_time": "2019-07-16T13:12:22.378909Z"
    }
   },
   "outputs": [],
   "source": [
    "df_1['Density'].plot(kind='line')"
   ]
  },
  {
   "cell_type": "markdown",
   "metadata": {},
   "source": [
    "Add axis to make a clean plot"
   ]
  },
  {
   "cell_type": "code",
   "execution_count": null,
   "metadata": {
    "ExecuteTime": {
     "end_time": "2019-07-16T13:12:22.742011Z",
     "start_time": "2019-07-16T13:12:22.558133Z"
    }
   },
   "outputs": [],
   "source": [
    "x_var = df_1.index.name\n",
    "y_var = 'Density'\n",
    "\n",
    "plt.plot()\n",
    "df_1[y_var].plot(kind='line')\n",
    "plt.xlabel(x_var)\n",
    "plt.ylabel(y_var)\n",
    "plt.title(f'{y_var} v {x_var}')\n",
    "plt.draw()"
   ]
  },
  {
   "cell_type": "markdown",
   "metadata": {
    "ExecuteTime": {
     "end_time": "2019-07-11T17:40:58.622822Z",
     "start_time": "2019-07-11T17:40:58.599448Z"
    }
   },
   "source": [
    "## View the curve between 45 and 55 degres"
   ]
  },
  {
   "cell_type": "code",
   "execution_count": null,
   "metadata": {
    "ExecuteTime": {
     "end_time": "2019-07-16T13:12:22.761375Z",
     "start_time": "2019-07-16T13:12:22.743746Z"
    }
   },
   "outputs": [],
   "source": [
    "t_min = 45\n",
    "t_max = 55\n",
    "\n",
    "series_45_55 = df_1[(df_1.index >= t_min) & (df_1.index <= t_max)] [y_var]\n",
    "series_45_55"
   ]
  },
  {
   "cell_type": "code",
   "execution_count": null,
   "metadata": {
    "ExecuteTime": {
     "end_time": "2019-07-16T13:12:22.940740Z",
     "start_time": "2019-07-16T13:12:22.763209Z"
    }
   },
   "outputs": [],
   "source": [
    "plt.plot()\n",
    "series_45_55.plot(x='a', y='b', style='o')\n",
    "plt.xlabel(x_var)\n",
    "plt.ylabel(y_var)\n",
    "plt.title(f'{y_var} v {x_var}')\n",
    "plt.draw()"
   ]
  },
  {
   "cell_type": "markdown",
   "metadata": {},
   "source": [
    "## How can we make a prediction of the temperature at 50.5 C ?"
   ]
  },
  {
   "cell_type": "markdown",
   "metadata": {},
   "source": [
    "### Interpolation"
   ]
  },
  {
   "cell_type": "code",
   "execution_count": null,
   "metadata": {
    "ExecuteTime": {
     "end_time": "2019-07-16T13:12:22.956833Z",
     "start_time": "2019-07-16T13:12:22.942522Z"
    }
   },
   "outputs": [],
   "source": [
    "# Fit\n",
    "y50 = series_45_55[50]\n",
    "b_50_5 = (series_45_55[51] - series_45_55[50]) / 1.\n",
    "delta_x_50_5 = 50.5 - 50\n",
    "\n",
    "# Predict\n",
    "yhat50_5 = y50 + b_50_5 * delta_x_50_5"
   ]
  },
  {
   "cell_type": "code",
   "execution_count": null,
   "metadata": {
    "ExecuteTime": {
     "end_time": "2019-07-16T13:12:26.897761Z",
     "start_time": "2019-07-16T13:12:26.695834Z"
    }
   },
   "outputs": [],
   "source": [
    "plt.plot()\n",
    "series_45_55.plot(x='a', y='b', style='o')\n",
    "\n",
    "plt.plot([50.5], [yhat50_5], 'rx')\n",
    "\n",
    "plt.xlabel(x_var)\n",
    "plt.ylabel(y_var)\n",
    "plt.title(f'{y_var} v {x_var}')\n",
    "plt.draw()\n",
    "\n",
    "print('Interpolated value:')\n",
    "print(yhat50_5)"
   ]
  },
  {
   "cell_type": "markdown",
   "metadata": {},
   "source": [
    "### Test method on known values\n",
    "\n",
    "Test and train value should have the general behavior\n",
    "\n",
    "Let us try to predict 51 usin 50 and 52."
   ]
  },
  {
   "cell_type": "code",
   "execution_count": null,
   "metadata": {
    "ExecuteTime": {
     "end_time": "2019-07-16T13:12:27.898223Z",
     "start_time": "2019-07-16T13:12:27.880748Z"
    }
   },
   "outputs": [],
   "source": [
    "# Fit\n",
    "b_51 = (series_45_55[52] - series_45_55[50]) / 2.\n",
    "delta_x_51 = 51 - 50\n",
    "\n",
    "# Predict\n",
    "yhat51 = y50 + b_51 * delta_x_51"
   ]
  },
  {
   "cell_type": "code",
   "execution_count": null,
   "metadata": {
    "ExecuteTime": {
     "end_time": "2019-07-16T13:12:28.123216Z",
     "start_time": "2019-07-16T13:12:28.103758Z"
    }
   },
   "outputs": [],
   "source": [
    "print(\"Prediction on test\")\n",
    "print(yhat51)\n",
    "print(\"\")\n",
    "print(\"True value\")\n",
    "print(series_45_55[51])\n",
    "print(\"\")\n",
    "print(\"Error\")\n",
    "print(yhat51 - series_45_55[51])\n",
    "print(\"\")\n",
    "print(\"MRSE\")\n",
    "print(np.sqrt(((yhat51 - series_45_55[51]) ** 2).mean()))"
   ]
  },
  {
   "cell_type": "markdown",
   "metadata": {
    "ExecuteTime": {
     "end_time": "2019-07-15T15:07:30.770504Z",
     "start_time": "2019-07-15T15:07:30.726368Z"
    }
   },
   "source": [
    "## Using a framework"
   ]
  },
  {
   "cell_type": "markdown",
   "metadata": {},
   "source": [
    "### Split data"
   ]
  },
  {
   "cell_type": "code",
   "execution_count": null,
   "metadata": {
    "ExecuteTime": {
     "end_time": "2019-07-16T13:12:28.601332Z",
     "start_time": "2019-07-16T13:12:28.408216Z"
    }
   },
   "outputs": [],
   "source": [
    "from sklearn.model_selection import train_test_split\n",
    "\n",
    "## Define input and output\n",
    "X, y = df_1.index.values, df_1['Density'].values\n",
    "\n",
    "## \n",
    "X_train, X_test, y_train, y_test = train_test_split(X, y, test_size=0.2, random_state=42)"
   ]
  },
  {
   "cell_type": "code",
   "execution_count": null,
   "metadata": {
    "ExecuteTime": {
     "end_time": "2019-07-16T13:12:28.791022Z",
     "start_time": "2019-07-16T13:12:28.623597Z"
    }
   },
   "outputs": [],
   "source": [
    "plt.plot()\n",
    "plt.scatter(X_train, y_train, label='train')\n",
    "plt.scatter(X_test, y_test, label='test')\n",
    "plt.legend()\n",
    "plt.show()"
   ]
  },
  {
   "cell_type": "markdown",
   "metadata": {
    "ExecuteTime": {
     "end_time": "2019-07-15T15:08:24.198492Z",
     "start_time": "2019-07-15T15:08:24.181415Z"
    }
   },
   "source": [
    "### Train algo"
   ]
  },
  {
   "cell_type": "code",
   "execution_count": null,
   "metadata": {
    "ExecuteTime": {
     "end_time": "2019-07-16T13:12:29.058641Z",
     "start_time": "2019-07-16T13:12:28.977530Z"
    }
   },
   "outputs": [],
   "source": [
    "from catboost import CatBoostRegressor"
   ]
  },
  {
   "cell_type": "code",
   "execution_count": null,
   "metadata": {
    "ExecuteTime": {
     "end_time": "2019-07-16T13:12:29.147726Z",
     "start_time": "2019-07-16T13:12:29.131235Z"
    }
   },
   "outputs": [],
   "source": [
    "more_algos = False\n",
    "if more_algos:\n",
    "    clf_2 = CatBoostRegressor(l2_leaf_reg=1e-2)\n",
    "    clf_5 = CatBoostRegressor(l2_leaf_reg=1e-5)\n",
    "    clf_7 = CatBoostRegressor(l2_leaf_reg=1e-7)\n",
    "\n",
    "clf_0 = CatBoostRegressor()\n",
    "clf_3 = CatBoostRegressor(l2_leaf_reg=1e-3)\n",
    "clf_1 = CatBoostRegressor(l2_leaf_reg=1e-1)"
   ]
  },
  {
   "cell_type": "code",
   "execution_count": null,
   "metadata": {
    "ExecuteTime": {
     "end_time": "2019-07-16T13:12:32.142952Z",
     "start_time": "2019-07-16T13:12:29.200620Z"
    },
    "scrolled": false
   },
   "outputs": [],
   "source": [
    "# Need to reshape to separate the different examples\n",
    "if more_algos:\n",
    "    clf_2.fit(X_train.reshape(-1,1), y_train, plot=True, logging_level='Silent')\n",
    "    clf_5.fit(X_train.reshape(-1,1), y_train, plot=True, logging_level='Silent')\n",
    "    clf_7.fit(X_train.reshape(-1,1), y_train, plot=True, logging_level='Silent')\n",
    "\n",
    "clf_0.fit(X_train.reshape(-1,1), y_train, plot=True, logging_level='Silent')\n",
    "clf_1.fit(X_train.reshape(-1,1), y_train, plot=True, logging_level='Silent')\n",
    "clf_3.fit(X_train.reshape(-1,1), y_train, plot=True, logging_level='Silent')"
   ]
  },
  {
   "cell_type": "markdown",
   "metadata": {},
   "source": [
    "### View prediction curve"
   ]
  },
  {
   "cell_type": "code",
   "execution_count": null,
   "metadata": {
    "ExecuteTime": {
     "end_time": "2019-07-16T13:12:32.308715Z",
     "start_time": "2019-07-16T13:12:32.153313Z"
    }
   },
   "outputs": [],
   "source": [
    "plt.figure()\n",
    "\n",
    "plt.plot(X, y, label='Reference')\n",
    "plt.plot(X, clf_3.predict(X.reshape(-1,1)), label='Predictions')\n",
    "\n",
    "plt.show()"
   ]
  },
  {
   "cell_type": "code",
   "execution_count": null,
   "metadata": {
    "ExecuteTime": {
     "end_time": "2019-07-16T13:12:32.520831Z",
     "start_time": "2019-07-16T13:12:32.313407Z"
    }
   },
   "outputs": [],
   "source": [
    "plt.figure()\n",
    "plt.plot(X, clf_3.predict(X.reshape(-1,1))-y, label='Reference')\n",
    "plt.show()"
   ]
  },
  {
   "cell_type": "markdown",
   "metadata": {},
   "source": [
    "### Test algo on useen data"
   ]
  },
  {
   "cell_type": "markdown",
   "metadata": {
    "ExecuteTime": {
     "end_time": "2019-07-15T15:29:11.067603Z",
     "start_time": "2019-07-15T15:29:11.046998Z"
    }
   },
   "source": [
    "### Using numpy"
   ]
  },
  {
   "cell_type": "code",
   "execution_count": null,
   "metadata": {
    "ExecuteTime": {
     "end_time": "2019-07-16T13:12:37.057183Z",
     "start_time": "2019-07-16T13:12:37.019515Z"
    }
   },
   "outputs": [],
   "source": [
    "clf_3.predict(X_test.reshape(-1,1)) - y_test"
   ]
  },
  {
   "cell_type": "code",
   "execution_count": null,
   "metadata": {
    "ExecuteTime": {
     "end_time": "2019-07-16T13:12:37.164690Z",
     "start_time": "2019-07-16T13:12:37.138531Z"
    }
   },
   "outputs": [],
   "source": [
    "np.square(clf_3.predict(X_test.reshape(-1,1)) - y_test).mean()"
   ]
  },
  {
   "cell_type": "markdown",
   "metadata": {},
   "source": [
    "### Using sklearn"
   ]
  },
  {
   "cell_type": "code",
   "execution_count": null,
   "metadata": {
    "ExecuteTime": {
     "end_time": "2019-07-16T13:12:38.105962Z",
     "start_time": "2019-07-16T13:12:38.063461Z"
    }
   },
   "outputs": [],
   "source": [
    "from sklearn.metrics import mean_squared_error\n",
    "y_true = y_test\n",
    "y_pred = clf_3.predict(X_test.reshape(-1,1))\n",
    "\n",
    "mean_squared_error(y_true, y_pred)"
   ]
  },
  {
   "cell_type": "markdown",
   "metadata": {},
   "source": [
    "# End of script"
   ]
  }
 ],
 "metadata": {
  "kernelspec": {
   "display_name": "venv3_plasticc",
   "language": "python",
   "name": "venv3_plasticc"
  },
  "language_info": {
   "codemirror_mode": {
    "name": "ipython",
    "version": 3
   },
   "file_extension": ".py",
   "mimetype": "text/x-python",
   "name": "python",
   "nbconvert_exporter": "python",
   "pygments_lexer": "ipython3",
   "version": "3.6.8"
  },
  "toc": {
   "base_numbering": 1,
   "nav_menu": {},
   "number_sections": true,
   "sideBar": true,
   "skip_h1_title": false,
   "title_cell": "Table of Contents",
   "title_sidebar": "Contents",
   "toc_cell": false,
   "toc_position": {},
   "toc_section_display": true,
   "toc_window_display": false
  }
 },
 "nbformat": 4,
 "nbformat_minor": 2
}
