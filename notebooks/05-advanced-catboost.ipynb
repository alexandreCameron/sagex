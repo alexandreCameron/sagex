{
 "cells": [
  {
   "cell_type": "markdown",
   "metadata": {},
   "source": [
    "# Advance catboost option tested on titanic"
   ]
  },
  {
   "cell_type": "markdown",
   "metadata": {},
   "source": [
    "## Import lib"
   ]
  },
  {
   "cell_type": "code",
   "execution_count": null,
   "metadata": {
    "ExecuteTime": {
     "end_time": "2019-09-25T13:06:24.827110Z",
     "start_time": "2019-09-25T13:06:24.794565Z"
    }
   },
   "outputs": [],
   "source": [
    "import os\n",
    "import sys\n",
    "\n",
    "import numpy as np\n",
    "import pandas as pd\n",
    "\n",
    "import matplotlib as mpl\n",
    "import matplotlib.pyplot as plt\n",
    "\n",
    "# ML\n",
    "import sklearn\n",
    "\n",
    "## Replace missing\n",
    "from sklearn.compose import ColumnTransformer\n",
    "from sklearn.pipeline import Pipeline\n",
    "from sklearn.impute import SimpleImputer\n",
    "\n",
    "## Stratified\n",
    "from sklearn.model_selection import StratifiedShuffleSplit\n",
    "\n",
    "## Metric\n",
    "from sklearn.metrics import roc_auc_score\n",
    "\n",
    "## Train\n",
    "from catboost import CatBoostClassifier, Pool\n",
    "\n",
    "%load_ext autoreload\n",
    "%autoreload 2"
   ]
  },
  {
   "cell_type": "markdown",
   "metadata": {},
   "source": [
    "## Import data"
   ]
  },
  {
   "cell_type": "code",
   "execution_count": null,
   "metadata": {
    "ExecuteTime": {
     "end_time": "2019-09-25T13:06:25.908843Z",
     "start_time": "2019-09-25T13:06:25.842079Z"
    }
   },
   "outputs": [],
   "source": [
    "df_raw = pd.read_csv('../data/titanic/train.csv')"
   ]
  },
  {
   "cell_type": "markdown",
   "metadata": {},
   "source": [
    "## Select columns"
   ]
  },
  {
   "cell_type": "code",
   "execution_count": null,
   "metadata": {
    "ExecuteTime": {
     "end_time": "2019-09-25T13:06:26.363496Z",
     "start_time": "2019-09-25T13:06:26.292702Z"
    }
   },
   "outputs": [],
   "source": [
    "id_cols = ['PassengerId', 'Name', 'Cabin', 'Ticket']\n",
    "y_cols = ['Survived']\n",
    "X_cols = [col for col in df_raw.columns if col not in (id_cols + y_cols) ]\n",
    "\n",
    "# Define what is a categorical feature\n",
    "type_list = df_raw[X_cols].dtypes\n",
    "cat_cols = list(type_list[type_list == 'object'].to_dict().keys())\n",
    "print(50 * '-')\n",
    "print('Categorical')\n",
    "print(cat_cols)\n",
    "print('')\n",
    "\n",
    "num_cols = [col for col in X_cols if col not in cat_cols]\n",
    "print(50 * '-')\n",
    "print('Numerical')\n",
    "print(num_cols)\n",
    "print('')"
   ]
  },
  {
   "cell_type": "markdown",
   "metadata": {},
   "source": [
    "## Fill missing values\n",
    "\n",
    "https://scikit-learn.org/stable/modules/generated/sklearn.impute.SimpleImputer.html\n"
   ]
  },
  {
   "cell_type": "code",
   "execution_count": null,
   "metadata": {
    "ExecuteTime": {
     "end_time": "2019-09-25T13:15:22.167115Z",
     "start_time": "2019-09-25T13:15:22.077836Z"
    }
   },
   "outputs": [],
   "source": [
    "imputer_numeric = Pipeline(steps=[\n",
    "    ('imputer', SimpleImputer(strategy='median')),\n",
    "])\n",
    "imputer_categoric = Pipeline(steps=[\n",
    "    ('imputer', SimpleImputer(strategy='most_frequent'))\n",
    "])\n",
    "\n",
    "# then we put the features list and the transformers together\n",
    "# using the column transformer\n",
    "\n",
    "preprocessor = ColumnTransformer(transformers=[\n",
    "    ('path_passthrough_id', 'passthrough', id_cols + y_cols),  # can use 'drop' to drop column\n",
    "    ('imputer_numeric', imputer_numeric, num_cols),\n",
    "    ('imputer_categoric', imputer_categoric, cat_cols),\n",
    "])\n",
    "\n",
    "df_train = pd.DataFrame(\n",
    "    data=preprocessor.fit_transform(df_raw),\n",
    "    columns=id_cols + y_cols + num_cols + cat_cols\n",
    ")"
   ]
  },
  {
   "cell_type": "markdown",
   "metadata": {},
   "source": [
    "## Define X and y"
   ]
  },
  {
   "cell_type": "code",
   "execution_count": null,
   "metadata": {
    "ExecuteTime": {
     "end_time": "2019-09-25T13:15:23.846950Z",
     "start_time": "2019-09-25T13:15:23.820749Z"
    }
   },
   "outputs": [],
   "source": [
    "X = df_train[X_cols]\n",
    "y = df_train[y_cols]"
   ]
  },
  {
   "cell_type": "markdown",
   "metadata": {},
   "source": [
    "## Train valid split "
   ]
  },
  {
   "cell_type": "code",
   "execution_count": null,
   "metadata": {
    "ExecuteTime": {
     "end_time": "2019-09-25T13:20:09.850874Z",
     "start_time": "2019-09-25T13:20:09.752308Z"
    }
   },
   "outputs": [],
   "source": [
    "sss = StratifiedShuffleSplit(n_splits=1, test_size=0.2, random_state=0)\n",
    "\n",
    "count = 0\n",
    "for train_index, valid_index in sss.split(X, y):\n",
    "    # print(\"TRAIN:\", train_index, \"VALID:\", valid_index)\n",
    "    X_train, X_valid = X[X.index.isin(train_index)], X[X.index.isin(valid_index)]\n",
    "    y_train, y_valid = y[y.index.isin(train_index)].astype(int), y[y.index.isin(valid_index)].astype(int)"
   ]
  },
  {
   "cell_type": "markdown",
   "metadata": {},
   "source": [
    "## Catboost training"
   ]
  },
  {
   "cell_type": "code",
   "execution_count": null,
   "metadata": {
    "ExecuteTime": {
     "end_time": "2019-09-25T14:23:50.082644Z",
     "start_time": "2019-09-25T14:23:46.884803Z"
    },
    "scrolled": false
   },
   "outputs": [],
   "source": [
    "nb_estimators = [2, 5, 10, 20, 50, 100, 200, 500, 1000]  #, 2000]\n",
    "records = []\n",
    "\n",
    "y_true = y_valid.values.reshape(1,-1)[0]\n",
    "\n",
    "for i_esti, nb_esti in enumerate(nb_estimators):\n",
    "    # Define classifier\n",
    "    early_stopping_step = np.max([5, int(np.ceil(4*np.log10(nb_esti)))]) \n",
    "    clf = CatBoostClassifier(\n",
    "        # Define categorical features\n",
    "        cat_features=cat_cols,\n",
    "        # Define overfit detector parameters\n",
    "        od_pval=None,\n",
    "        od_wait=early_stopping_step,\n",
    "        od_type='Iter',\n",
    "        # Define number of estimator\n",
    "        n_estimators=nb_esti,\n",
    "        random_seed=42,\n",
    "    )\n",
    "\n",
    "    # Train classifier\n",
    "    clf.fit(\n",
    "        X_train,\n",
    "        y_train,\n",
    "        eval_set=[(X_valid, y_valid)],\n",
    "        plot=True,\n",
    "        logging_level=\"Silent\",\n",
    "    )\n",
    "    \n",
    "    # Compute scores and metric\n",
    "    y_scores = clf.predict_proba(X_valid)[:,1]\n",
    "    auc = roc_auc_score(y_true, y_scores)\n",
    "\n",
    "    # Compute feature importance\n",
    "    df_feat_imp = pd.DataFrame(\n",
    "        data=clf.get_feature_importance().reshape(1, -1),\n",
    "        columns=X_train.columns\n",
    "    )\n",
    "    \n",
    "    # Save results in dictionary\n",
    "    model_record = {\n",
    "        'nb_esti': nb_esti,\n",
    "        'auc': auc,\n",
    "        'clf': clf,\n",
    "        'early_stopping_step': early_stopping_step,\n",
    "        **df_feat_imp.transpose().sort_values(by=0, ascending=False).to_dict()[0]\n",
    "#        'feature_imp': df_feat_imp.transpose().sort_values(by=0, ascending=False).to_dict()[0],\n",
    "    }\n",
    "    records.append(model_record)\n",
    "    \n",
    "    # Log infos\n",
    "    print(25*\"-\")\n",
    "    print(f\"nb_esti: {nb_esti}\")\n",
    "    print(f\"early_stopping_step: {early_stopping_step}\")\n",
    "    print(f\"AUC {auc}\")\n",
    "    print(df_feat_imp.sort_values(by=0, ascending=False, axis=1))\n",
    "    print(25*\"=\")\n",
    "    print(\"\")\n",
    "    \n",
    "    if i_esti==0:\n",
    "        sorted_input_cols = list(df_feat_imp.sort_values(by=0, ascending=False, axis=1).columns)"
   ]
  },
  {
   "cell_type": "markdown",
   "metadata": {},
   "source": [
    "## Order results"
   ]
  },
  {
   "cell_type": "code",
   "execution_count": null,
   "metadata": {
    "ExecuteTime": {
     "end_time": "2019-09-25T14:15:56.017206Z",
     "start_time": "2019-09-25T14:15:55.933594Z"
    }
   },
   "outputs": [],
   "source": [
    "ordered_cols = (\n",
    "    [\"nb_esti\", \"auc\", \"early_stopping_step\"] +\n",
    "    sorted_input_cols +\n",
    "    [\"clf\"]\n",
    ")\n",
    "\n",
    "df_records = pd.DataFrame(records)[ordered_cols]\n",
    "\n",
    "display(df_records[df_records.columns[:-1]].set_index(\"nb_esti\"))"
   ]
  },
  {
   "cell_type": "markdown",
   "metadata": {},
   "source": [
    "## Compare results"
   ]
  },
  {
   "cell_type": "code",
   "execution_count": null,
   "metadata": {
    "ExecuteTime": {
     "end_time": "2019-09-25T14:16:15.321938Z",
     "start_time": "2019-09-25T14:16:14.835746Z"
    }
   },
   "outputs": [],
   "source": [
    "plt.figure()\n",
    "plt.plot(df_records['nb_esti'], df_records['auc'])\n",
    "plt.xscale('log')\n",
    "plt.xlabel('nb_esti')\n",
    "plt.ylabel('AUC')\n",
    "plt.title('Hyperoptimization')\n",
    "plt.show()"
   ]
  },
  {
   "cell_type": "markdown",
   "metadata": {},
   "source": [
    "## Select best model"
   ]
  },
  {
   "cell_type": "code",
   "execution_count": null,
   "metadata": {
    "ExecuteTime": {
     "end_time": "2019-09-25T14:16:16.726398Z",
     "start_time": "2019-09-25T14:16:16.659346Z"
    }
   },
   "outputs": [],
   "source": [
    "max_auc = df_records['auc'].max()\n",
    "model_max = df_records[df_records['auc']==max_auc].to_dict('r')[0]\n",
    "clf_max = model_max['clf'] \n",
    "print(model_max)"
   ]
  },
  {
   "cell_type": "markdown",
   "metadata": {},
   "source": [
    "---"
   ]
  },
  {
   "cell_type": "markdown",
   "metadata": {
    "ExecuteTime": {
     "end_time": "2019-07-16T14:49:25.731276Z",
     "start_time": "2019-07-16T14:49:25.703649Z"
    }
   },
   "source": [
    "# End of script"
   ]
  }
 ],
 "metadata": {
  "kernelspec": {
   "display_name": "venv3_plasticc",
   "language": "python",
   "name": "venv3_plasticc"
  },
  "language_info": {
   "codemirror_mode": {
    "name": "ipython",
    "version": 3
   },
   "file_extension": ".py",
   "mimetype": "text/x-python",
   "name": "python",
   "nbconvert_exporter": "python",
   "pygments_lexer": "ipython3",
   "version": "3.6.8"
  },
  "toc": {
   "base_numbering": 1,
   "nav_menu": {},
   "number_sections": true,
   "sideBar": true,
   "skip_h1_title": false,
   "title_cell": "Table of Contents",
   "title_sidebar": "Contents",
   "toc_cell": false,
   "toc_position": {},
   "toc_section_display": true,
   "toc_window_display": false
  }
 },
 "nbformat": 4,
 "nbformat_minor": 2
}
