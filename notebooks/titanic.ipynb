{
 "cells": [
  {
   "cell_type": "markdown",
   "metadata": {},
   "source": [
    "# Test for titanic dataset"
   ]
  },
  {
   "cell_type": "markdown",
   "metadata": {},
   "source": [
    "## Import lib"
   ]
  },
  {
   "cell_type": "code",
   "execution_count": null,
   "metadata": {
    "ExecuteTime": {
     "end_time": "2019-07-16T16:25:16.408929Z",
     "start_time": "2019-07-16T16:25:15.948103Z"
    }
   },
   "outputs": [],
   "source": [
    "import os\n",
    "import sys\n",
    "\n",
    "import numpy as np\n",
    "import pandas as pd\n",
    "import sklearn\n",
    "\n",
    "import matplotlib as mpl\n",
    "import matplotlib.pyplot as plt\n",
    "\n",
    "import pandas_profiling"
   ]
  },
  {
   "cell_type": "code",
   "execution_count": null,
   "metadata": {
    "ExecuteTime": {
     "end_time": "2019-07-16T16:25:16.427539Z",
     "start_time": "2019-07-16T16:25:16.410455Z"
    }
   },
   "outputs": [],
   "source": [
    "%load_ext autoreload\n",
    "%autoreload 2"
   ]
  },
  {
   "cell_type": "markdown",
   "metadata": {},
   "source": [
    "## Import data"
   ]
  },
  {
   "cell_type": "code",
   "execution_count": null,
   "metadata": {
    "ExecuteTime": {
     "end_time": "2019-07-16T16:25:16.485635Z",
     "start_time": "2019-07-16T16:25:16.429004Z"
    }
   },
   "outputs": [],
   "source": [
    "df_train = pd.read_csv('../data/titanic/train.csv')\n",
    "df_test = pd.read_csv('../data/titanic/test.csv')"
   ]
  },
  {
   "cell_type": "code",
   "execution_count": null,
   "metadata": {
    "ExecuteTime": {
     "end_time": "2019-07-16T16:26:06.512095Z",
     "start_time": "2019-07-16T16:25:49.747123Z"
    }
   },
   "outputs": [],
   "source": [
    "profile = pandas_profiling.ProfileReport(df_train)\n",
    "profile.to_file(output_file=\"titanic_pandas_profile.html\")"
   ]
  },
  {
   "cell_type": "code",
   "execution_count": null,
   "metadata": {
    "ExecuteTime": {
     "end_time": "2019-07-16T16:29:11.455261Z",
     "start_time": "2019-07-16T16:29:11.399732Z"
    }
   },
   "outputs": [],
   "source": [
    "profile"
   ]
  },
  {
   "cell_type": "markdown",
   "metadata": {},
   "source": [
    "## Select columns"
   ]
  },
  {
   "cell_type": "code",
   "execution_count": null,
   "metadata": {
    "ExecuteTime": {
     "end_time": "2019-07-16T15:52:48.981802Z",
     "start_time": "2019-07-16T15:52:48.969543Z"
    }
   },
   "outputs": [],
   "source": [
    "id_cols = ['PassengerId', 'Name', 'Cabin', 'Ticket']\n",
    "y_cols = ['Survived']\n",
    "X_cols = [col for col in df_train.columns if col not in (id_cols + y_cols) ]"
   ]
  },
  {
   "cell_type": "code",
   "execution_count": null,
   "metadata": {
    "ExecuteTime": {
     "end_time": "2019-07-16T15:52:49.005277Z",
     "start_time": "2019-07-16T15:52:48.984606Z"
    }
   },
   "outputs": [],
   "source": [
    "type_list = df_train[X_cols].dtypes\n",
    "cat_cols = list(type_list[type_list == 'object'].to_dict().keys())\n",
    "print(50 * '-')\n",
    "print('Categorical')\n",
    "print(cat_cols)\n",
    "print('')\n",
    "\n",
    "num_cols = [col for col in X_cols if col not in cat_cols]\n",
    "print(50 * '-')\n",
    "print('Numerical')\n",
    "print(num_cols)\n",
    "print('')"
   ]
  },
  {
   "cell_type": "markdown",
   "metadata": {},
   "source": [
    "## Transform objet data"
   ]
  },
  {
   "cell_type": "code",
   "execution_count": null,
   "metadata": {
    "ExecuteTime": {
     "end_time": "2019-07-16T15:52:49.201673Z",
     "start_time": "2019-07-16T15:52:49.007445Z"
    }
   },
   "outputs": [],
   "source": [
    "from collections import defaultdict\n",
    "\n",
    "from sklearn.preprocessing import LabelEncoder\n",
    "from sklearn.preprocessing import OneHotEncoder"
   ]
  },
  {
   "cell_type": "markdown",
   "metadata": {},
   "source": [
    "### X encoding"
   ]
  },
  {
   "cell_type": "code",
   "execution_count": null,
   "metadata": {
    "ExecuteTime": {
     "end_time": "2019-07-16T15:52:49.215997Z",
     "start_time": "2019-07-16T15:52:49.203075Z"
    }
   },
   "outputs": [],
   "source": [
    "label_encoders = defaultdict(LabelEncoder)"
   ]
  },
  {
   "cell_type": "code",
   "execution_count": null,
   "metadata": {
    "ExecuteTime": {
     "end_time": "2019-07-16T15:52:49.235710Z",
     "start_time": "2019-07-16T15:52:49.217190Z"
    }
   },
   "outputs": [],
   "source": [
    "df_train[cat_cols] = df_train[cat_cols].apply(\n",
    "    lambda x: label_encoders[x.name].fit_transform(x.fillna('NAN')))\n",
    "\n",
    "df_test[cat_cols] = df_test[cat_cols].apply(\n",
    "    lambda x: label_encoders[x.name].transform(x.fillna('NAN')))"
   ]
  },
  {
   "cell_type": "markdown",
   "metadata": {},
   "source": [
    "### y label encoding"
   ]
  },
  {
   "cell_type": "code",
   "execution_count": null,
   "metadata": {
    "ExecuteTime": {
     "end_time": "2019-07-16T15:52:49.248321Z",
     "start_time": "2019-07-16T15:52:49.236752Z"
    }
   },
   "outputs": [],
   "source": [
    "le_y = defaultdict(LabelEncoder)\n",
    "\n",
    "df_train[y_cols] = df_train[y_cols].apply(\n",
    "    lambda x: le_y[x.name].fit_transform(x))"
   ]
  },
  {
   "cell_type": "markdown",
   "metadata": {},
   "source": [
    "### Fill missing values"
   ]
  },
  {
   "cell_type": "markdown",
   "metadata": {},
   "source": [
    "#### Get missing values"
   ]
  },
  {
   "cell_type": "code",
   "execution_count": null,
   "metadata": {
    "ExecuteTime": {
     "end_time": "2019-07-16T15:52:49.259499Z",
     "start_time": "2019-07-16T15:52:49.249433Z"
    }
   },
   "outputs": [],
   "source": [
    "fill_values = {}\n",
    "    \n",
    "for col in num_cols:\n",
    "    fill_values[col] = df_train[col].median()"
   ]
  },
  {
   "cell_type": "markdown",
   "metadata": {},
   "source": [
    "#### Replace missing values"
   ]
  },
  {
   "cell_type": "code",
   "execution_count": null,
   "metadata": {
    "ExecuteTime": {
     "end_time": "2019-07-16T15:52:49.276610Z",
     "start_time": "2019-07-16T15:52:49.260722Z"
    }
   },
   "outputs": [],
   "source": [
    "df_train = df_train.fillna(value=fill_values)\n",
    "df_test = df_test.fillna(value=fill_values)"
   ]
  },
  {
   "cell_type": "markdown",
   "metadata": {},
   "source": [
    "### Get numpy data"
   ]
  },
  {
   "cell_type": "code",
   "execution_count": null,
   "metadata": {
    "ExecuteTime": {
     "end_time": "2019-07-16T15:52:49.289086Z",
     "start_time": "2019-07-16T15:52:49.277710Z"
    }
   },
   "outputs": [],
   "source": [
    "X = df_train[X_cols].values\n",
    "X_test = df_test[X_cols].values\n",
    "\n",
    "y = df_train[y_cols].values"
   ]
  },
  {
   "cell_type": "markdown",
   "metadata": {},
   "source": [
    "## Test sklearn"
   ]
  },
  {
   "cell_type": "markdown",
   "metadata": {},
   "source": [
    "### Stratified shuffle split"
   ]
  },
  {
   "cell_type": "code",
   "execution_count": null,
   "metadata": {
    "ExecuteTime": {
     "end_time": "2019-07-16T15:52:49.306538Z",
     "start_time": "2019-07-16T15:52:49.290146Z"
    }
   },
   "outputs": [],
   "source": [
    "from sklearn.model_selection import StratifiedShuffleSplit"
   ]
  },
  {
   "cell_type": "code",
   "execution_count": null,
   "metadata": {
    "ExecuteTime": {
     "end_time": "2019-07-16T16:14:03.495090Z",
     "start_time": "2019-07-16T16:14:03.471893Z"
    }
   },
   "outputs": [],
   "source": [
    "sss = StratifiedShuffleSplit(n_splits=1, test_size=0.2, random_state=0)\n",
    "\n",
    "count = 0\n",
    "for train_index, valid_index in sss.split(X, y):\n",
    "    # print(\"TRAIN:\", train_index, \"VALID:\", valid_index)\n",
    "    X_train, X_valid = X[train_index], X[valid_index]\n",
    "    y_train, y_valid = y[train_index], y[valid_index]"
   ]
  },
  {
   "cell_type": "markdown",
   "metadata": {},
   "source": [
    "### Random forest hyperoptimization"
   ]
  },
  {
   "cell_type": "code",
   "execution_count": null,
   "metadata": {
    "ExecuteTime": {
     "end_time": "2019-07-16T15:52:49.346278Z",
     "start_time": "2019-07-16T15:52:49.328912Z"
    }
   },
   "outputs": [],
   "source": [
    "from catboost import CatBoostClassifier, Pool\n",
    "\n",
    "from sklearn.metrics import roc_auc_score"
   ]
  },
  {
   "cell_type": "code",
   "execution_count": null,
   "metadata": {
    "ExecuteTime": {
     "end_time": "2019-07-16T16:16:40.423617Z",
     "start_time": "2019-07-16T16:16:19.302255Z"
    },
    "scrolled": false
   },
   "outputs": [],
   "source": [
    "nb_estimators = [2, 5, 10, 20, 50, 100, 200, 500, 1000]  #, 2000]\n",
    "records = []\n",
    "\n",
    "y_true = np.copy(y_valid)\n",
    "\n",
    "train_data = Pool(data=X_train.tolist(), label=y_train.ravel().tolist())\n",
    "\n",
    "for nb_esti in nb_estimators:\n",
    "    # Define classifier\n",
    "    clf = CatBoostClassifier(n_estimators=nb_esti, random_seed=42)\n",
    "    clf.fit(train_data, plot=True, logging_level=\"Silent\")\n",
    "    \n",
    "    # Compute scores and metric\n",
    "    y_scores = clf.predict_proba(X_valid)[:,1]\n",
    "    auc = roc_auc_score(y_true, y_scores)\n",
    "    \n",
    "    # Save results in dictionary\n",
    "    model_record = {'nb_estimators': nb_esti, 'auc': auc, 'clf': clf}\n",
    "    records.append(model_record)\n",
    "    \n",
    "    print(25*\"-\")\n",
    "    print(f\"Nb_ estimator: {nb_esti}\")\n",
    "    print(f\"AUC {auc}\")\n",
    "    print(25*\"=\")\n",
    "    print(\"\")"
   ]
  },
  {
   "cell_type": "markdown",
   "metadata": {},
   "source": [
    "### Order results"
   ]
  },
  {
   "cell_type": "code",
   "execution_count": null,
   "metadata": {
    "ExecuteTime": {
     "end_time": "2019-07-16T16:17:11.249599Z",
     "start_time": "2019-07-16T16:17:11.218233Z"
    }
   },
   "outputs": [],
   "source": [
    "df_records = pd.DataFrame(records)\n",
    "df_records"
   ]
  },
  {
   "cell_type": "markdown",
   "metadata": {},
   "source": [
    "### Compare results"
   ]
  },
  {
   "cell_type": "code",
   "execution_count": null,
   "metadata": {
    "ExecuteTime": {
     "end_time": "2019-07-16T16:17:14.464885Z",
     "start_time": "2019-07-16T16:17:14.184746Z"
    }
   },
   "outputs": [],
   "source": [
    "plt.figure()\n",
    "plt.plot(df_records['nb_estimators'], df_records['auc'])\n",
    "plt.xscale('log')\n",
    "plt.xlabel('nb_estimators')\n",
    "plt.ylabel('AUC')\n",
    "plt.title('Hyperoptimization')\n",
    "plt.show()"
   ]
  },
  {
   "cell_type": "markdown",
   "metadata": {},
   "source": [
    "### Select best model"
   ]
  },
  {
   "cell_type": "code",
   "execution_count": null,
   "metadata": {
    "ExecuteTime": {
     "end_time": "2019-07-16T16:17:22.564084Z",
     "start_time": "2019-07-16T16:17:22.532149Z"
    }
   },
   "outputs": [],
   "source": [
    "max_auc = df_records['auc'].max()\n",
    "model_max = df_records[df_records['auc']==max_auc].to_dict('r')[0]\n",
    "clf_max = model_max['clf'] \n",
    "print(model_max)"
   ]
  },
  {
   "cell_type": "markdown",
   "metadata": {},
   "source": [
    "### Apply best model"
   ]
  },
  {
   "cell_type": "code",
   "execution_count": null,
   "metadata": {
    "ExecuteTime": {
     "end_time": "2019-07-16T16:17:23.061959Z",
     "start_time": "2019-07-16T16:17:23.034647Z"
    }
   },
   "outputs": [],
   "source": [
    "y_proba_valid = clf_max.predict_proba(X_valid)[:,1]\n",
    "\n",
    "y_proba_test = clf_max.predict_proba(X_test)[:,1]\n",
    "y_predict_test = clf_max.predict(X_test)"
   ]
  },
  {
   "cell_type": "markdown",
   "metadata": {},
   "source": [
    "#### Numpy"
   ]
  },
  {
   "cell_type": "code",
   "execution_count": null,
   "metadata": {
    "ExecuteTime": {
     "end_time": "2019-07-16T16:17:23.377063Z",
     "start_time": "2019-07-16T16:17:23.358883Z"
    }
   },
   "outputs": [],
   "source": [
    "inverse_y_test = list(le_y.values())[0].inverse_transform(y_predict_test.astype(int))"
   ]
  },
  {
   "cell_type": "markdown",
   "metadata": {},
   "source": [
    "#### Pandas"
   ]
  },
  {
   "cell_type": "code",
   "execution_count": null,
   "metadata": {
    "ExecuteTime": {
     "end_time": "2019-07-16T16:17:23.785873Z",
     "start_time": "2019-07-16T16:17:23.764619Z"
    }
   },
   "outputs": [],
   "source": [
    "df_preds = pd.DataFrame(y_predict_test)\n",
    "df_preds.columns = y_cols\n",
    "df_preds = df_preds.apply(lambda x: le_y[x.name].inverse_transform(x.astype(int)))"
   ]
  },
  {
   "cell_type": "markdown",
   "metadata": {},
   "source": [
    "### Find optimal threshold for F1-score"
   ]
  },
  {
   "cell_type": "code",
   "execution_count": null,
   "metadata": {
    "ExecuteTime": {
     "end_time": "2019-07-16T16:17:24.162609Z",
     "start_time": "2019-07-16T16:17:24.143802Z"
    }
   },
   "outputs": [],
   "source": [
    "from sklearn.metrics import f1_score"
   ]
  },
  {
   "cell_type": "code",
   "execution_count": null,
   "metadata": {
    "ExecuteTime": {
     "end_time": "2019-07-16T16:17:24.334277Z",
     "start_time": "2019-07-16T16:17:24.309219Z"
    }
   },
   "outputs": [],
   "source": [
    "y_proba = np.copy(y_proba_valid)"
   ]
  },
  {
   "cell_type": "code",
   "execution_count": null,
   "metadata": {
    "ExecuteTime": {
     "end_time": "2019-07-16T16:17:24.977909Z",
     "start_time": "2019-07-16T16:17:24.534758Z"
    }
   },
   "outputs": [],
   "source": [
    "step = 1.e-3\n",
    "thresholds = np.arange(0, 1, step)\n",
    "\n",
    "preds = []\n",
    "for threshold in thresholds:\n",
    "    y_pred = np.copy(y_proba)\n",
    "    y_pred[y_pred > threshold] = 1\n",
    "    y_pred[y_pred <= threshold] = 0\n",
    "    \n",
    "    f1 = f1_score(y_valid, y_pred)\n",
    "    \n",
    "    res = {'threshold': threshold, 'f1_score': f1}\n",
    "    preds.append(res)"
   ]
  },
  {
   "cell_type": "code",
   "execution_count": null,
   "metadata": {
    "ExecuteTime": {
     "end_time": "2019-07-16T16:17:24.991198Z",
     "start_time": "2019-07-16T16:17:24.979407Z"
    }
   },
   "outputs": [],
   "source": [
    "df_preds = pd.DataFrame(preds)"
   ]
  },
  {
   "cell_type": "markdown",
   "metadata": {},
   "source": [
    "### Compare threshold"
   ]
  },
  {
   "cell_type": "code",
   "execution_count": null,
   "metadata": {
    "ExecuteTime": {
     "end_time": "2019-07-16T16:17:26.301942Z",
     "start_time": "2019-07-16T16:17:26.147195Z"
    }
   },
   "outputs": [],
   "source": [
    "plt.figure()\n",
    "plt.plot(df_preds['threshold'], df_preds['f1_score'])\n",
    "plt.xlabel('threshold')\n",
    "plt.ylabel('f1_score')\n",
    "plt.title('Threshold selection')\n",
    "plt.show()"
   ]
  },
  {
   "cell_type": "markdown",
   "metadata": {},
   "source": [
    "### Find optimal threshold for f1_score"
   ]
  },
  {
   "cell_type": "code",
   "execution_count": null,
   "metadata": {
    "ExecuteTime": {
     "end_time": "2019-07-16T16:17:27.379230Z",
     "start_time": "2019-07-16T16:17:27.347166Z"
    }
   },
   "outputs": [],
   "source": [
    "max_f1 = df_preds['f1_score'].max()\n",
    "cut_max = df_preds[df_preds['f1_score']==max_f1].to_dict('r')[0]\n",
    "print(cut_max)"
   ]
  },
  {
   "cell_type": "code",
   "execution_count": null,
   "metadata": {
    "ExecuteTime": {
     "end_time": "2019-07-16T16:17:27.791614Z",
     "start_time": "2019-07-16T16:17:27.623781Z"
    }
   },
   "outputs": [],
   "source": [
    "plt.figure()\n",
    "plt.plot(cut_max['threshold'], cut_max['f1_score'], 'ro', ms=14)\n",
    "plt.plot(df_preds['threshold'], df_preds['f1_score'])\n",
    "plt.xlabel('threshold')\n",
    "plt.ylabel('f1_score')\n",
    "plt.title('Threshold selection')\n",
    "plt.show()"
   ]
  },
  {
   "cell_type": "markdown",
   "metadata": {
    "ExecuteTime": {
     "end_time": "2019-07-16T14:49:25.731276Z",
     "start_time": "2019-07-16T14:49:25.703649Z"
    }
   },
   "source": [
    "# End of script"
   ]
  }
 ],
 "metadata": {
  "kernelspec": {
   "display_name": "venv3_plasticc",
   "language": "python",
   "name": "venv3_plasticc"
  },
  "language_info": {
   "codemirror_mode": {
    "name": "ipython",
    "version": 3
   },
   "file_extension": ".py",
   "mimetype": "text/x-python",
   "name": "python",
   "nbconvert_exporter": "python",
   "pygments_lexer": "ipython3",
   "version": "3.6.8"
  },
  "toc": {
   "base_numbering": 1,
   "nav_menu": {},
   "number_sections": true,
   "sideBar": true,
   "skip_h1_title": false,
   "title_cell": "Table of Contents",
   "title_sidebar": "Contents",
   "toc_cell": false,
   "toc_position": {},
   "toc_section_display": true,
   "toc_window_display": false
  }
 },
 "nbformat": 4,
 "nbformat_minor": 2
}
