{
 "cells": [
  {
   "cell_type": "markdown",
   "metadata": {
    "toc": true
   },
   "source": [
    "<h1>Table of Contents<span class=\"tocSkip\"></span></h1>\n",
    "<div class=\"toc\"><ul class=\"toc-item\"><li><span><a href=\"#Correction-of-the-exercise\" data-toc-modified-id=\"Correction-of-the-exercise-1\"><span class=\"toc-item-num\">1&nbsp;&nbsp;</span>Correction of the exercise</a></span></li></ul></div>"
   ]
  },
  {
   "cell_type": "markdown",
   "metadata": {
    "ExecuteTime": {
     "end_time": "2019-02-18T09:45:16.838885Z",
     "start_time": "2019-02-18T09:45:16.825269Z"
    }
   },
   "source": [
    "# Correction of the exercise"
   ]
  },
  {
   "cell_type": "markdown",
   "metadata": {
    "ExecuteTime": {
     "end_time": "2019-02-18T09:48:00.194822Z",
     "start_time": "2019-02-18T09:48:00.187502Z"
    }
   },
   "source": [
    "Create a folder with a typestamp indicating the current date (YYYY-MM-DD).\n",
    "\n",
    "If the folder does not exist create it and print `I created the date stamp folder`.\n",
    "\n",
    "If the folder already exists print `The folder alredy exists.` "
   ]
  },
  {
   "cell_type": "code",
   "execution_count": null,
   "metadata": {
    "ExecuteTime": {
     "end_time": "2019-07-17T07:55:00.264556Z",
     "start_time": "2019-07-17T07:55:00.261086Z"
    }
   },
   "outputs": [],
   "source": [
    "import os\n",
    "import datetime"
   ]
  },
  {
   "cell_type": "code",
   "execution_count": null,
   "metadata": {
    "ExecuteTime": {
     "end_time": "2019-07-17T07:55:00.274504Z",
     "start_time": "2019-07-17T07:55:00.268939Z"
    }
   },
   "outputs": [],
   "source": [
    "# Get present day\n",
    "now = datetime.datetime.now()\n",
    "my_date = now.strftime('%Y-%m-%d_%H-%M-%S')[:10]\n",
    "# Get current working directory\n",
    "my_cwd = os.getcwd()\n",
    "# Prepare path\n",
    "dir_path = os.path.join(my_cwd, 'new_folder_' + my_date)"
   ]
  },
  {
   "cell_type": "code",
   "execution_count": null,
   "metadata": {
    "ExecuteTime": {
     "end_time": "2019-07-17T07:55:00.284493Z",
     "start_time": "2019-07-17T07:55:00.278154Z"
    }
   },
   "outputs": [],
   "source": [
    "if os.path.exists(dir_path):\n",
    "    print('The folder alredy exists.')\n",
    "else:\n",
    "    os.makedirs(dir_path)\n",
    "    print('I created the date stamp folder.')"
   ]
  },
  {
   "cell_type": "code",
   "execution_count": null,
   "metadata": {
    "ExecuteTime": {
     "end_time": "2019-07-17T07:55:00.298121Z",
     "start_time": "2019-07-17T07:55:00.288419Z"
    }
   },
   "outputs": [],
   "source": [
    "if os.path.exists(dir_path):\n",
    "    print('The folder alredy exists.')\n",
    "else:\n",
    "    os.makedirs(dir_path)\n",
    "    print('I created the date stamp folder.')"
   ]
  }
 ],
 "metadata": {
  "kernelspec": {
   "display_name": "Python 2",
   "language": "python",
   "name": "python2"
  },
  "language_info": {
   "codemirror_mode": {
    "name": "ipython",
    "version": 2
   },
   "file_extension": ".py",
   "mimetype": "text/x-python",
   "name": "python",
   "nbconvert_exporter": "python",
   "pygments_lexer": "ipython2",
   "version": "2.7.15rc1"
  },
  "toc": {
   "base_numbering": 1,
   "nav_menu": {
    "height": "254px",
    "width": "311px"
   },
   "number_sections": true,
   "sideBar": true,
   "skip_h1_title": false,
   "title_cell": "Table of Contents",
   "title_sidebar": "Contents",
   "toc_cell": true,
   "toc_position": {
    "height": "calc(100% - 180px)",
    "left": "10px",
    "top": "150px",
    "width": "341px"
   },
   "toc_section_display": true,
   "toc_window_display": true
  }
 },
 "nbformat": 4,
 "nbformat_minor": 2
}
