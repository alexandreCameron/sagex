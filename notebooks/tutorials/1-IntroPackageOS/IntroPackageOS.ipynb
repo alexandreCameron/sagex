{
 "cells": [
  {
   "cell_type": "markdown",
   "metadata": {
    "toc": true
   },
   "source": [
    "<h1>Table of Contents<span class=\"tocSkip\"></span></h1>\n",
    "<div class=\"toc\"><ul class=\"toc-item\"><li><span><a href=\"#Introduction-to-the-os-package\" data-toc-modified-id=\"Introduction-to-the-os-package-1\"><span class=\"toc-item-num\">1&nbsp;&nbsp;</span>Introduction to the os package</a></span><ul class=\"toc-item\"><li><span><a href=\"#Importing-the-package\" data-toc-modified-id=\"Importing-the-package-1.1\"><span class=\"toc-item-num\">1.1&nbsp;&nbsp;</span>Importing the package</a></span></li><li><span><a href=\"#Find-path-and-documents\" data-toc-modified-id=\"Find-path-and-documents-1.2\"><span class=\"toc-item-num\">1.2&nbsp;&nbsp;</span>Find path and documents</a></span><ul class=\"toc-item\"><li><span><a href=\"#os.getcwd()\" data-toc-modified-id=\"os.getcwd()-1.2.1\"><span class=\"toc-item-num\">1.2.1&nbsp;&nbsp;</span>os.getcwd()</a></span></li><li><span><a href=\"#os.listdir()-and-os.walk()\" data-toc-modified-id=\"os.listdir()-and-os.walk()-1.2.2\"><span class=\"toc-item-num\">1.2.2&nbsp;&nbsp;</span>os.listdir() and os.walk()</a></span></li><li><span><a href=\"#os.exists()\" data-toc-modified-id=\"os.exists()-1.2.3\"><span class=\"toc-item-num\">1.2.3&nbsp;&nbsp;</span>os.exists()</a></span></li></ul></li><li><span><a href=\"#Creating-paths\" data-toc-modified-id=\"Creating-paths-1.3\"><span class=\"toc-item-num\">1.3&nbsp;&nbsp;</span>Creating paths</a></span><ul class=\"toc-item\"><li><span><a href=\"#Quick-and-dirty-path\" data-toc-modified-id=\"Quick-and-dirty-path-1.3.1\"><span class=\"toc-item-num\">1.3.1&nbsp;&nbsp;</span>Quick and dirty path</a></span></li><li><span><a href=\"#os.path.join()\" data-toc-modified-id=\"os.path.join()-1.3.2\"><span class=\"toc-item-num\">1.3.2&nbsp;&nbsp;</span>os.path.join()</a></span></li></ul></li><li><span><a href=\"#Creating-folders-with-a-time-stamp\" data-toc-modified-id=\"Creating-folders-with-a-time-stamp-1.4\"><span class=\"toc-item-num\">1.4&nbsp;&nbsp;</span>Creating folders with a time stamp</a></span><ul class=\"toc-item\"><li><span><a href=\"#datetime-package\" data-toc-modified-id=\"datetime-package-1.4.1\"><span class=\"toc-item-num\">1.4.1&nbsp;&nbsp;</span>datetime package</a></span><ul class=\"toc-item\"><li><span><a href=\"#Import-datetime\" data-toc-modified-id=\"Import-datetime-1.4.1.1\"><span class=\"toc-item-num\">1.4.1.1&nbsp;&nbsp;</span>Import datetime</a></span></li><li><span><a href=\"#datetime.datetime.now()\" data-toc-modified-id=\"datetime.datetime.now()-1.4.1.2\"><span class=\"toc-item-num\">1.4.1.2&nbsp;&nbsp;</span>datetime.datetime.now()</a></span></li><li><span><a href=\"#strftime()\" data-toc-modified-id=\"strftime()-1.4.1.3\"><span class=\"toc-item-num\">1.4.1.3&nbsp;&nbsp;</span>strftime()</a></span></li></ul></li><li><span><a href=\"#Define-the-path-of-the-new-folder\" data-toc-modified-id=\"Define-the-path-of-the-new-folder-1.4.2\"><span class=\"toc-item-num\">1.4.2&nbsp;&nbsp;</span>Define the path of the new folder</a></span></li><li><span><a href=\"#os.makedirs()\" data-toc-modified-id=\"os.makedirs()-1.4.3\"><span class=\"toc-item-num\">1.4.3&nbsp;&nbsp;</span>os.makedirs()</a></span></li></ul></li></ul></li><li><span><a href=\"#Exercise\" data-toc-modified-id=\"Exercise-2\"><span class=\"toc-item-num\">2&nbsp;&nbsp;</span>Exercise</a></span></li></ul></div>"
   ]
  },
  {
   "cell_type": "markdown",
   "metadata": {},
   "source": [
    "# Introduction to the os package\n",
    "\n",
    "\n",
    "The *os* package provides functionalties to interact with your **operating system**.\n",
    "\n",
    "This package allows you to copy, remove, create, list files and folder in your filesystem.\n",
    "\n",
    "More information can be found at:\n",
    "\n",
    "1. [English] https://docs.python.org/2.7/library/os.html\n",
    "\n",
    "2. [French]  https://docs.python.org/fr/2.7/library/os.html\n",
    "\n",
    "***"
   ]
  },
  {
   "cell_type": "markdown",
   "metadata": {},
   "source": [
    "## Importing the package\n",
    "\n",
    "The *os* package is a standard python package and does not have to be install before using it.\n",
    "\n",
    "It can be used by using the command:"
   ]
  },
  {
   "cell_type": "code",
   "execution_count": null,
   "metadata": {
    "ExecuteTime": {
     "end_time": "2019-07-17T07:54:35.333572Z",
     "start_time": "2019-07-17T07:54:35.331159Z"
    }
   },
   "outputs": [],
   "source": [
    "import os"
   ]
  },
  {
   "cell_type": "markdown",
   "metadata": {},
   "source": [
    "## Find path and documents\n",
    "\n",
    "Finding my path and listing folders (as refered to as directories) and files."
   ]
  },
  {
   "cell_type": "markdown",
   "metadata": {
    "ExecuteTime": {
     "end_time": "2019-02-18T07:59:05.720101Z",
     "start_time": "2019-02-18T07:59:05.710882Z"
    }
   },
   "source": [
    "### os.getcwd()\n",
    "\n",
    "<a id='os.getcwd()'></a>\n",
    "\n",
    "To find the location in the filesystem where my code is currently executed, execute: "
   ]
  },
  {
   "cell_type": "code",
   "execution_count": null,
   "metadata": {
    "ExecuteTime": {
     "end_time": "2019-07-17T07:54:35.344134Z",
     "start_time": "2019-07-17T07:54:35.339492Z"
    }
   },
   "outputs": [],
   "source": [
    "my_current_working_directory = os.getcwd()\n",
    "print(my_current_working_directory)"
   ]
  },
  {
   "cell_type": "markdown",
   "metadata": {},
   "source": [
    "`getcwd` stands for `get current working directory`, the output of the function is the **path** of the .\n",
    "\n",
    "This path can be read as the concatenation of the different folders to get to the current folder.\n",
    "\n",
    "These strings are separated by a special character `/` on Unix OS and `\\` on Windows OS."
   ]
  },
  {
   "cell_type": "markdown",
   "metadata": {
    "ExecuteTime": {
     "end_time": "2019-02-18T08:23:42.396724Z",
     "start_time": "2019-02-18T08:23:42.383287Z"
    }
   },
   "source": [
    "### os.listdir() and os.walk()\n",
    "To list all the elements in the current working directory, execute:"
   ]
  },
  {
   "cell_type": "code",
   "execution_count": null,
   "metadata": {
    "ExecuteTime": {
     "end_time": "2019-07-17T07:54:35.358896Z",
     "start_time": "2019-07-17T07:54:35.348328Z"
    }
   },
   "outputs": [],
   "source": [
    "os.listdir(my_current_working_directory)"
   ]
  },
  {
   "cell_type": "markdown",
   "metadata": {},
   "source": [
    "The output is a list of all the files and folder at the current path.\n",
    "\n",
    "*os.walk* can also be associted to *next* to output the current path, the list of folder and the list of files."
   ]
  },
  {
   "cell_type": "code",
   "execution_count": null,
   "metadata": {
    "ExecuteTime": {
     "end_time": "2019-07-17T07:54:35.369973Z",
     "start_time": "2019-07-17T07:54:35.360296Z"
    }
   },
   "outputs": [],
   "source": [
    "next(os.walk(my_current_working_directory))"
   ]
  },
  {
   "cell_type": "markdown",
   "metadata": {},
   "source": [
    "### os.exists()\n",
    "To check if a document (file or folder) exists, execute:"
   ]
  },
  {
   "cell_type": "code",
   "execution_count": null,
   "metadata": {
    "ExecuteTime": {
     "end_time": "2019-07-17T07:54:35.393758Z",
     "start_time": "2019-07-17T07:54:35.372107Z"
    }
   },
   "outputs": [],
   "source": [
    "os.path.exists('test_file.txt')"
   ]
  },
  {
   "cell_type": "code",
   "execution_count": null,
   "metadata": {
    "ExecuteTime": {
     "end_time": "2019-07-17T07:54:35.403623Z",
     "start_time": "2019-07-17T07:54:35.395795Z"
    }
   },
   "outputs": [],
   "source": [
    "os.path.exists('test_folder')"
   ]
  },
  {
   "cell_type": "code",
   "execution_count": null,
   "metadata": {
    "ExecuteTime": {
     "end_time": "2019-07-17T07:54:35.412312Z",
     "start_time": "2019-07-17T07:54:35.405341Z"
    }
   },
   "outputs": [],
   "source": [
    "os.path.exists('test_file_not_created.txt')"
   ]
  },
  {
   "cell_type": "code",
   "execution_count": null,
   "metadata": {
    "ExecuteTime": {
     "end_time": "2019-07-17T07:54:35.420874Z",
     "start_time": "2019-07-17T07:54:35.413770Z"
    }
   },
   "outputs": [],
   "source": [
    "os.path.exists('test_folder_not_created')"
   ]
  },
  {
   "cell_type": "markdown",
   "metadata": {
    "ExecuteTime": {
     "end_time": "2019-02-18T08:29:42.857816Z",
     "start_time": "2019-02-18T08:29:42.847676Z"
    }
   },
   "source": [
    "The output will be *True* is the file/folder exists and *False* if the file/folder does not exists."
   ]
  },
  {
   "cell_type": "markdown",
   "metadata": {},
   "source": [
    "***"
   ]
  },
  {
   "cell_type": "markdown",
   "metadata": {
    "ExecuteTime": {
     "end_time": "2019-02-18T08:34:48.479486Z",
     "start_time": "2019-02-18T08:34:48.457027Z"
    }
   },
   "source": [
    "## Creating paths"
   ]
  },
  {
   "cell_type": "markdown",
   "metadata": {},
   "source": [
    "### Quick and dirty path\n",
    "\n",
    "<a id='quick_dirty_path'></a>\n",
    "\n",
    "As mentioned in [os.getcwd()](#os.getcwd()) , paths are separted by a special character:\n",
    "1. `/` on Unix OS\n",
    "2. `\\` on Windows OS\n",
    "\n",
    "You can define a new path by simply adding the string together with a `+` sign."
   ]
  },
  {
   "cell_type": "code",
   "execution_count": null,
   "metadata": {
    "ExecuteTime": {
     "end_time": "2019-07-17T07:54:35.430090Z",
     "start_time": "2019-07-17T07:54:35.422210Z"
    }
   },
   "outputs": [],
   "source": [
    "path_separtor = '/'\n",
    "\n",
    "file_path_quickNdirty = my_current_working_directory + path_separtor + 'test_file.txt'\n",
    "\n",
    "print('The name of my new quick and dirty path is:')\n",
    "print(file_path_quickNdirty)\n",
    "print('\\n')\n",
    "print('Does my new quick and dirty path exist ?')\n",
    "print(os.path.exists(file_path_quickNdirty))"
   ]
  },
  {
   "cell_type": "markdown",
   "metadata": {
    "ExecuteTime": {
     "end_time": "2019-02-18T08:38:06.202249Z",
     "start_time": "2019-02-18T08:38:06.196089Z"
    }
   },
   "source": [
    "### os.path.join()\n",
    "\n",
    "<a id='os.path.join()'></a>\n",
    "\n",
    "Even though, the last method ([Quick and dirty path](#quick_dirty_path)) will allow you to create a new path on your operating system.\n",
    "\n",
    "The general command to execute join path is:"
   ]
  },
  {
   "cell_type": "code",
   "execution_count": null,
   "metadata": {
    "ExecuteTime": {
     "end_time": "2019-07-17T07:54:35.438893Z",
     "start_time": "2019-07-17T07:54:35.431381Z"
    }
   },
   "outputs": [],
   "source": [
    "file_path_cleanNtidy = os.path.join(my_current_working_directory, 'test_file.txt')\n",
    "\n",
    "print('The name of my new clean and tidy path is:')\n",
    "print(file_path_cleanNtidy)\n",
    "print('\\n')\n",
    "print('Does my new clean and tidy path exist ?')\n",
    "print(os.path.exists(file_path_cleanNtidy))"
   ]
  },
  {
   "cell_type": "markdown",
   "metadata": {},
   "source": [
    "## Creating folders with a time stamp\n",
    "\n",
    "In order to create a new folder you to :\n",
    "\n",
    "1. Create a time stamp\n",
    "2. define the path of the new folder \n",
    "3. create the folder"
   ]
  },
  {
   "cell_type": "markdown",
   "metadata": {},
   "source": [
    "### datetime package\n",
    "\n",
    "The datetime package gives the tools to find and write date with proper python format.\n",
    "\n",
    "More information can be found at:\n",
    "\n",
    "1. [English] https://docs.python.org/2/library/datetime.html\n",
    "2. [French]  https://docs.python.org/fr/2/library/datetime.html"
   ]
  },
  {
   "cell_type": "markdown",
   "metadata": {},
   "source": [
    "#### Import datetime\n",
    "\n",
    "To import the datetime package, execute"
   ]
  },
  {
   "cell_type": "code",
   "execution_count": null,
   "metadata": {
    "ExecuteTime": {
     "end_time": "2019-07-17T07:54:35.447378Z",
     "start_time": "2019-07-17T07:54:35.440125Z"
    }
   },
   "outputs": [],
   "source": [
    "import datetime"
   ]
  },
  {
   "cell_type": "markdown",
   "metadata": {
    "ExecuteTime": {
     "end_time": "2019-02-18T09:36:45.252258Z",
     "start_time": "2019-02-18T09:36:45.232503Z"
    }
   },
   "source": [
    "#### datetime.datetime.now()\n",
    "\n",
    "To get the current time stamp, execute"
   ]
  },
  {
   "cell_type": "code",
   "execution_count": null,
   "metadata": {
    "ExecuteTime": {
     "end_time": "2019-07-17T07:54:35.461914Z",
     "start_time": "2019-07-17T07:54:35.448517Z"
    }
   },
   "outputs": [],
   "source": [
    "now = datetime.datetime.now()\n",
    "print(now)\n",
    "print(type(now))"
   ]
  },
  {
   "cell_type": "markdown",
   "metadata": {
    "ExecuteTime": {
     "end_time": "2019-02-18T09:37:35.015706Z",
     "start_time": "2019-02-18T09:37:35.009025Z"
    }
   },
   "source": [
    "#### strftime()\n",
    "\n",
    "Datetime object are not string. They have more information.\n",
    "\n",
    "However, in our case, we need a string representing the time to write our new folder.\n",
    "\n",
    "To do that the `strftime` function will convert the datetime object to a string.\n",
    "\n",
    "`strftime` will require some information on the format of the output here `'%Y-%m-%d_%H-%M-%S'`.\n",
    "\n",
    "For more information on the time format go to:\n",
    "\n",
    "1. [English] https://docs.python.org/3/library/datetime.html#strftime-strptime-behavior\n",
    "2. [French]  https://docs.python.org/fr/3/library/datetime.html#strftime-strptime-behavior"
   ]
  },
  {
   "cell_type": "code",
   "execution_count": null,
   "metadata": {
    "ExecuteTime": {
     "end_time": "2019-07-17T07:54:35.466146Z",
     "start_time": "2019-07-17T07:54:35.463368Z"
    }
   },
   "outputs": [],
   "source": [
    "stamp = now.strftime('%Y-%m-%d_%H-%M-%S')\n",
    "print(stamp)"
   ]
  },
  {
   "cell_type": "markdown",
   "metadata": {},
   "source": [
    "### Define the path of the new folder\n",
    "\n",
    "To define the new path, you can use the command introduced in [os.path.join()](#os.path.join())"
   ]
  },
  {
   "cell_type": "code",
   "execution_count": null,
   "metadata": {
    "ExecuteTime": {
     "end_time": "2019-07-17T07:54:35.478176Z",
     "start_time": "2019-07-17T07:54:35.467691Z"
    }
   },
   "outputs": [],
   "source": [
    "new_folder_path = os.path.join(my_current_working_directory, 'new_folder_' + stamp)\n",
    "print('What is the name of my new folder ?')\n",
    "print(new_folder_path)\n",
    "print('\\n')\n",
    "print('Does my new folder exist ?')\n",
    "print(os.path.exists(new_folder_path))"
   ]
  },
  {
   "cell_type": "markdown",
   "metadata": {},
   "source": [
    "### os.makedirs()\n",
    "\n",
    "To create the new folder you just defined, execute:"
   ]
  },
  {
   "cell_type": "code",
   "execution_count": null,
   "metadata": {
    "ExecuteTime": {
     "end_time": "2019-07-17T07:54:35.487786Z",
     "start_time": "2019-07-17T07:54:35.480269Z"
    }
   },
   "outputs": [],
   "source": [
    "os.makedirs(new_folder_path)\n",
    "\n",
    "print('Does my new folder exist now ?')\n",
    "print(os.path.exists(new_folder_path))"
   ]
  },
  {
   "cell_type": "code",
   "execution_count": null,
   "metadata": {},
   "outputs": [],
   "source": []
  },
  {
   "cell_type": "markdown",
   "metadata": {
    "ExecuteTime": {
     "end_time": "2019-02-18T09:45:16.838885Z",
     "start_time": "2019-02-18T09:45:16.825269Z"
    }
   },
   "source": [
    "# Exercise"
   ]
  },
  {
   "cell_type": "markdown",
   "metadata": {
    "ExecuteTime": {
     "end_time": "2019-02-18T09:48:00.194822Z",
     "start_time": "2019-02-18T09:48:00.187502Z"
    }
   },
   "source": [
    "Create a folder with a typestamp indicating the current date (YYYY-MM-DD).\n",
    "\n",
    "If the folder does not exist create it and print `I created the date stamp folder`.\n",
    "\n",
    "If the folder already exists print `The folder alredy exists.` "
   ]
  },
  {
   "cell_type": "code",
   "execution_count": null,
   "metadata": {},
   "outputs": [],
   "source": []
  }
 ],
 "metadata": {
  "kernelspec": {
   "display_name": "venv3_plasticc",
   "language": "python",
   "name": "venv3_plasticc"
  },
  "language_info": {
   "codemirror_mode": {
    "name": "ipython",
    "version": 3
   },
   "file_extension": ".py",
   "mimetype": "text/x-python",
   "name": "python",
   "nbconvert_exporter": "python",
   "pygments_lexer": "ipython3",
   "version": "3.6.8"
  },
  "toc": {
   "base_numbering": 1,
   "nav_menu": {
    "height": "254px",
    "width": "311px"
   },
   "number_sections": true,
   "sideBar": true,
   "skip_h1_title": false,
   "title_cell": "Table of Contents",
   "title_sidebar": "Contents",
   "toc_cell": true,
   "toc_position": {
    "height": "calc(100% - 180px)",
    "left": "10px",
    "top": "150px",
    "width": "341px"
   },
   "toc_section_display": true,
   "toc_window_display": true
  }
 },
 "nbformat": 4,
 "nbformat_minor": 2
}
