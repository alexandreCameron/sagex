{
 "cells": [
  {
   "cell_type": "markdown",
   "metadata": {
    "toc": true
   },
   "source": [
    "<h1>Table of Contents<span class=\"tocSkip\"></span></h1>\n",
    "<div class=\"toc\"><ul class=\"toc-item\"><li><span><a href=\"#Groupy-reference\" data-toc-modified-id=\"Groupy-reference-1\"><span class=\"toc-item-num\">1&nbsp;&nbsp;</span>Groupy reference</a></span></li><li><span><a href=\"#Groupby\" data-toc-modified-id=\"Groupby-2\"><span class=\"toc-item-num\">2&nbsp;&nbsp;</span>Groupby</a></span></li><li><span><a href=\"#Understanding-Groupby\" data-toc-modified-id=\"Understanding-Groupby-3\"><span class=\"toc-item-num\">3&nbsp;&nbsp;</span>Understanding Groupby</a></span><ul class=\"toc-item\"><li><ul class=\"toc-item\"><li><span><a href=\"#1.-Group-the-unique-values-from-the-animal-column\" data-toc-modified-id=\"1.-Group-the-unique-values-from-the-animal-column-3.0.1\"><span class=\"toc-item-num\">3.0.1&nbsp;&nbsp;</span>1. Group the unique values from the animal column</a></span></li><li><span><a href=\"#2.-Now-there's-a-bucket-for-each-group\" data-toc-modified-id=\"2.-Now-there's-a-bucket-for-each-group-3.0.2\"><span class=\"toc-item-num\">3.0.2&nbsp;&nbsp;</span>2. Now there's a bucket for each group</a></span></li><li><span><a href=\"#3.-Toss-the-other-data-into-the-buckets\" data-toc-modified-id=\"3.-Toss-the-other-data-into-the-buckets-3.0.3\"><span class=\"toc-item-num\">3.0.3&nbsp;&nbsp;</span>3. Toss the other data into the buckets</a></span></li><li><span><a href=\"#4.-Apply-a-function-on-the-weight-column-of-each-bucket\" data-toc-modified-id=\"4.-Apply-a-function-on-the-weight-column-of-each-bucket-3.0.4\"><span class=\"toc-item-num\">3.0.4&nbsp;&nbsp;</span>4. Apply a function on the weight column of each bucket</a></span></li><li><span><a href=\"#Here-is-the-code-again:\" data-toc-modified-id=\"Here-is-the-code-again:-3.0.5\"><span class=\"toc-item-num\">3.0.5&nbsp;&nbsp;</span>Here is the code again:</a></span></li></ul></li></ul></li><li><span><a href=\"#Example\" data-toc-modified-id=\"Example-4\"><span class=\"toc-item-num\">4&nbsp;&nbsp;</span>Example</a></span></li><li><span><a href=\"#Conclusion\" data-toc-modified-id=\"Conclusion-5\"><span class=\"toc-item-num\">5&nbsp;&nbsp;</span>Conclusion</a></span></li></ul></div>"
   ]
  },
  {
   "cell_type": "markdown",
   "metadata": {},
   "source": [
    "# Groupy reference\n",
    "\n",
    "This tutorial is copied from kaggle:\n",
    "    \n",
    "https://www.kaggle.com/crawford/python-groupby-tutorial"
   ]
  },
  {
   "cell_type": "code",
   "execution_count": null,
   "metadata": {
    "ExecuteTime": {
     "end_time": "2019-02-18T19:57:05.705658Z",
     "start_time": "2019-02-18T19:57:05.701581Z"
    }
   },
   "outputs": [],
   "source": [
    "import os"
   ]
  },
  {
   "cell_type": "code",
   "execution_count": null,
   "metadata": {
    "ExecuteTime": {
     "end_time": "2019-02-18T19:57:05.957401Z",
     "start_time": "2019-02-18T19:57:05.709020Z"
    },
    "_cell_guid": "ac4ad125-35de-472a-af69-ef3b8d2525f3",
    "_kg_hide-input": true,
    "_kg_hide-output": true,
    "_uuid": "ebf015225ef3328b432fdd7f921c13a48d87784e"
   },
   "outputs": [],
   "source": [
    "import numpy as np\n",
    "import pandas as pd\n",
    "import random\n",
    "\n",
    "# Random pets column\n",
    "pet_list = [\"cat\", \"hamster\", \"alligator\", \"snake\"]\n",
    "pet = [random.choice(pet_list) for i in range(1,15)]\n",
    "\n",
    "# Random weight of animal column\n",
    "weight = [random.choice(range(5,15)) for i in range(1,15)]\n",
    "\n",
    "# Random length of animals column\n",
    "length = [random.choice(range(1,10)) for i in range(1,15)]\n",
    "\n",
    "# random age of the animals column\n",
    "age = [random.choice(range(1,15)) for i in range(1,15)]\n",
    "\n",
    "# Put everyhting into a dataframe\n",
    "df = pd.DataFrame()\n",
    "df[\"animal\"] = pet\n",
    "df[\"age\"] = age\n",
    "df[\"weight\"] = weight\n",
    "df[\"length\"] = length\n",
    "\n",
    "# make a groupby object\n",
    "animal_groups = df.groupby(\"animal\")\n"
   ]
  },
  {
   "cell_type": "markdown",
   "metadata": {
    "_cell_guid": "8cb73026-9375-4a66-ae54-9ed52b9fc73f",
    "_uuid": "f7152939db29c79d02b389e33af105d79bc2ad75"
   },
   "source": [
    "\n",
    "# Groupby \n",
    "---\n",
    "*This tutorial roughly picks up from the <a href=\"https://www.kaggle.com/crawford/python-merge-tutorial/\">Python Merge Tutorial</a> but also works as a stand alone Groupby tutorial. If you come from a background in SQL and are familiar with GROUP BY,  you can scroll through this to see some examples of the syntax. *\n",
    "<br><br>\n",
    "\n",
    "Groupby is a pretty simple concept. You create a grouping of categories and apply a function to the categories. It's a simple concept but it's an extremely valuable technique that's widely used in data science. The value of groupby really comes from it's ability to aggregate data efficiently, both in performance and the amount code it takes. In real data science projects, you'll be dealing with large amounts of data and trying things over and over, so efficiency really becomes an important consideration. \n",
    "<br><br>\n",
    "\n",
    "# Understanding Groupby\n",
    "Here's a super simple dataframe to illustrate some examples. We'll be grouping the data by the \"animal\" column where there are four categories of animals: \n",
    "- alligators\n",
    "- cats\n",
    "- snakes\n",
    "- hamsters"
   ]
  },
  {
   "cell_type": "code",
   "execution_count": null,
   "metadata": {
    "ExecuteTime": {
     "end_time": "2019-02-18T19:57:05.987022Z",
     "start_time": "2019-02-18T19:57:05.961264Z"
    },
    "_cell_guid": "fc83b57c-1e49-4751-a3b1-b6cf15657197",
    "_kg_hide-input": true,
    "_uuid": "2c99b8dc9883f372df36cd176466b04f026c2589"
   },
   "outputs": [],
   "source": [
    "df"
   ]
  },
  {
   "cell_type": "markdown",
   "metadata": {
    "_cell_guid": "0adee4d4-b0d7-474b-bdc9-34684d1d5751",
    "_uuid": "93eda48bc37648d3ee591e72d8019cbe230b6419"
   },
   "source": [
    "So one question we could ask about the animal data might be, \"What's the average weight of all the snakes, cats, hamsters, and alligators?\" To find the average weight of each category of animal, we'll group the animals by animal type and then apply the mean function. We could apply other functions too. We could apply \"sum\" to add up all the weights, \"min\" to find the lowest, \"max\" to get the highest, or \"count\" just to get a count of each animal type. \n",
    "<br><br>\n",
    "\n",
    "This is a short list of some aggregation functions that I find handy but it's definitely not a complete list of possible operations.\n",
    "<br>\n",
    "\n",
    "<table>\n",
    "<tr>\n",
    "    <td><b>Summary statistics</b></td>\n",
    "    <td><b>Numpy operations</b></td>\n",
    "    <td><b>More complex operations</b></td>\n",
    "</tr>\n",
    "<tr>\n",
    "    <td>mean</td>\n",
    "    <td>np.mean</td>\n",
    "    <td>.agg()</td>\n",
    "</tr>\n",
    "<tr>\n",
    "    <td>median</td>\n",
    "    <td>np.min</td>\n",
    "    <td>agg([\"mean\", \"median\"])</td>\n",
    "</tr>\n",
    "<tr>\n",
    "    <td>min</td>\n",
    "    <td>np.max</td>\n",
    "    <td>agg(custom_function())</td>\n",
    "</tr>\n",
    "<tr>\n",
    "    <td>max</td>\n",
    "    <td>np.sum</td>\n",
    "</tr>\n",
    "<tr>\n",
    "    <td>sum</td>\n",
    "    <td>np.product</td>\n",
    "</tr>\n",
    "<tr>\n",
    "    <td>describe</td>\n",
    "</tr>\n",
    "<tr>\n",
    "    <td>count or size</td>\n",
    "</tr>\n",
    "</table>\n",
    "\n",
    "<br><br>\n",
    "\n",
    "These two lines of code group the animals then apply the mean function to the weight column.\n",
    "```python\n",
    "# Group by animal category\n",
    "animal_groups = df.groupby(\"animal\")\n",
    "# Apply mean function to wieght column\n",
    "animal_groups['weight'].mean()\n",
    "```\n",
    "<br><br>\n",
    "\n",
    "Here's what happens when you run that code:\n",
    "\n",
    "\n",
    "### 1. Group the unique values from the animal column \n",
    "<img src=\"https://imgur.com/DRl1wil.jpg\" width=400 alt=\"group stuff\">\n",
    "<br><br>\n",
    "\n",
    "### 2. Now there's a bucket for each group\n",
    "<img src=\"https://imgur.com/Q9fHw1O.jpg\" width=250 alt=\"make buckets\">\n",
    "<br><br>\n",
    "\n",
    "### 3. Toss the other data into the buckets \n",
    "<img src=\"https://imgur.com/A29SKAY.jpg\" width=500 alt=\"add data\">\n",
    "<br><br>\n",
    "\n",
    "### 4. Apply a function on the weight column of each bucket\n",
    "<img src=\"https://imgur.com/xZnMuPZ.jpg\" width=700 alt=\"calculate something\">"
   ]
  },
  {
   "cell_type": "markdown",
   "metadata": {
    "_cell_guid": "2e987675-420c-4fac-955e-60030808dfed",
    "_uuid": "35f065be20a48cdb5d824bd8b4837d5ee9ed9199"
   },
   "source": [
    "\n",
    "\n",
    "### Here is the code again:\n",
    "```python\n",
    "# Group by category\n",
    "animal_groups = df.groupby(\"animal\")\n",
    "\n",
    "# Apply the \"mean\" function to the weight column\n",
    "animal_groups['weight'].mean()\n",
    "\n",
    "# Or apply the \"max\" function to the age column\n",
    "animal_groups['age'].max()\n",
    "```\n",
    "<br><br>\n",
    "\n",
    "\n"
   ]
  },
  {
   "cell_type": "code",
   "execution_count": null,
   "metadata": {
    "ExecuteTime": {
     "end_time": "2019-02-18T19:57:06.006302Z",
     "start_time": "2019-02-18T19:57:05.991492Z"
    }
   },
   "outputs": [],
   "source": [
    "# Apply the \"mean\" function to the weight column\n",
    "animal_groups['weight'].mean()"
   ]
  },
  {
   "cell_type": "code",
   "execution_count": null,
   "metadata": {
    "ExecuteTime": {
     "end_time": "2019-02-18T19:57:06.020629Z",
     "start_time": "2019-02-18T19:57:06.010691Z"
    }
   },
   "outputs": [],
   "source": [
    "# Or apply the \"max\" function to the age column\n",
    "animal_groups['age'].max()"
   ]
  },
  {
   "cell_type": "markdown",
   "metadata": {
    "_cell_guid": "2e640a72-0667-4a16-ab9a-a57996d677ed",
    "_uuid": "2ec49f8eb6706829339e23f738ddf0735b5a541d"
   },
   "source": [
    "# Example\n",
    "---\n",
    "\n",
    "This is the same dataset used in the <a href=\"https://www.kaggle.com/crawford/python-merge-tutorial/\">Python Merge Tutorial</a>. In that tutorial we merged restaurant ratings with restaurant parking lot info. There are four possible classes of parking: `None, Public, Valet, and Yes`. We can group the restaurants by the type of parking available then get the average rating for restaurants in each parking category. Basically, we want to know if restaurants with parking lots have higher service_ratings.  \n",
    "\n",
    "Here are the steps:\n",
    "- Merge two dataframes together (Restaurant ratings merged with restaurant parking lot info)\n",
    "- Create groups based on the types of parking available at the restaurants \n",
    "- Calculate the average ratings for each group of parking"
   ]
  },
  {
   "cell_type": "code",
   "execution_count": null,
   "metadata": {
    "ExecuteTime": {
     "end_time": "2019-02-18T19:57:06.060213Z",
     "start_time": "2019-02-18T19:57:06.025167Z"
    },
    "_cell_guid": "ee5d5a8d-1cd2-4015-b472-27788085452b",
    "_uuid": "13de47d7e3ddcaba3b345de445805bd3a718ba02"
   },
   "outputs": [],
   "source": [
    "# Load restaurant ratings and parking lot info\n",
    "ratings = pd.read_csv(os.path.join('input', 'rating_final.csv'))\n",
    "parking = pd.read_csv(os.path.join('input', 'chefmozparking.csv'))\n",
    "\n",
    "# Merge the dataframes\n",
    "df = pd.merge(left=ratings, right=parking, on=\"placeID\", how=\"left\")\n",
    "\n",
    "# Show the merged data\n",
    "df.head()"
   ]
  },
  {
   "cell_type": "code",
   "execution_count": null,
   "metadata": {
    "ExecuteTime": {
     "end_time": "2019-02-18T19:57:06.080800Z",
     "start_time": "2019-02-18T19:57:06.064840Z"
    },
    "_cell_guid": "c33d8322-4a40-434b-8864-37b02668898c",
    "_uuid": "217fe4ae91042780c1bde841da00490aa2363b67"
   },
   "outputs": [],
   "source": [
    "# Group by the parking_lot column\n",
    "parking_group = df.groupby(\"parking_lot\")\n",
    "\n",
    "# Calculate the mean ratings\n",
    "parking_group[\"service_rating\"].mean()"
   ]
  },
  {
   "cell_type": "markdown",
   "metadata": {
    "_cell_guid": "6fd74047-0373-4dc8-a864-f11870d07431",
    "_uuid": "5cb9c1b413fc905b1220a97721e0ea3249608166"
   },
   "source": [
    "Those ratings seem low... But we don't know what scale the ratings are on. If we calculate the summary statistics (mean, std, min, max, etc) we can see the scope of ratings. A common way to calculate quick summary statistics on groupby objects is to apply the \"describe\" function. "
   ]
  },
  {
   "cell_type": "code",
   "execution_count": null,
   "metadata": {
    "ExecuteTime": {
     "end_time": "2019-02-18T19:57:06.138227Z",
     "start_time": "2019-02-18T19:57:06.086098Z"
    },
    "_cell_guid": "f16964d3-5f8b-4f57-9393-af745635a5a6",
    "_uuid": "9817b0f465d59ccd08c9bb74149e53b1daea33b6"
   },
   "outputs": [],
   "source": [
    "parking_group['service_rating'].describe()"
   ]
  },
  {
   "cell_type": "markdown",
   "metadata": {
    "_cell_guid": "c32b85a6-cf79-4dd3-baa9-bb53c8ae3c7d",
    "_uuid": "3d503a7569536d1581be67df57e215ea9aaf3b95"
   },
   "source": [
    "With all of the summary statistics in front of us we can see that the lowest rating for all parking categories is 0 and the highest is 2. I would guess that users were asked to rate restaurants with 1-3 stars which equate to 0, 1, or 2 in the data. So do restaurants with valet parking have higher service_ratings?  \n",
    "<br><br>"
   ]
  },
  {
   "cell_type": "markdown",
   "metadata": {
    "_cell_guid": "48e6538e-660e-40db-9814-c3199da1da59",
    "_uuid": "c89270f94d27e8aa3b4a27b599b0a4a24f9ae6da"
   },
   "source": [
    "# Conclusion\n",
    "\n",
    "\n",
    "You've now seen how to efficiently group categorical data and apply aggregate functions like \"mean\", \"sum\" and \"describe\". Fork this kernel and try out some different aggregate functions. Mean, median, prod, sum, std, and var are a few examples. If you're feeling confident, try implementing merge and groupby on a datset by yourself.\n",
    "<br><br>"
   ]
  }
 ],
 "metadata": {
  "kernelspec": {
   "display_name": "Python 3",
   "language": "python",
   "name": "python3"
  },
  "language_info": {
   "codemirror_mode": {
    "name": "ipython",
    "version": 2
   },
   "file_extension": ".py",
   "mimetype": "text/x-python",
   "name": "python",
   "nbconvert_exporter": "python",
   "pygments_lexer": "ipython2",
   "version": "2.7.12"
  },
  "toc": {
   "nav_menu": {},
   "number_sections": true,
   "sideBar": true,
   "skip_h1_title": false,
   "title_cell": "Table of Contents",
   "title_sidebar": "Contents",
   "toc_cell": true,
   "toc_position": {},
   "toc_section_display": true,
   "toc_window_display": true
  }
 },
 "nbformat": 4,
 "nbformat_minor": 1
}
