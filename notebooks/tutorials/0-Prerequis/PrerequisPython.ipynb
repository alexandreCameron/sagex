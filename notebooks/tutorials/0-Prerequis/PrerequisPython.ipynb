{
 "cells": [
  {
   "cell_type": "markdown",
   "metadata": {
    "toc": true
   },
   "source": [
    "<h1>Table of Contents<span class=\"tocSkip\"></span></h1>\n",
    "<div class=\"toc\"><ul class=\"toc-item\"><li><span><a href=\"#A-few-notions-to-feel-more-confortable-before-launching-a-preprocessing-script.\" data-toc-modified-id=\"A-few-notions-to-feel-more-confortable-before-launching-a-preprocessing-script.-1\"><span class=\"toc-item-num\">1&nbsp;&nbsp;</span>A few notions to feel more confortable before launching a preprocessing script.</a></span><ul class=\"toc-item\"><li><span><a href=\"#Managing-libraries\" data-toc-modified-id=\"Managing-libraries-1.1\"><span class=\"toc-item-num\">1.1&nbsp;&nbsp;</span>Managing libraries</a></span><ul class=\"toc-item\"><li><span><a href=\"#1-Can-I-import-the-os-library-?\" data-toc-modified-id=\"1-Can-I-import-the-os-library-?-1.1.1\"><span class=\"toc-item-num\">1.1.1&nbsp;&nbsp;</span>1 Can I import the os library ?</a></span></li><li><span><a href=\"#2-Can-I-import-the-pandas-librairie-under-the-alias-pd-?\" data-toc-modified-id=\"2-Can-I-import-the-pandas-librairie-under-the-alias-pd-?-1.1.2\"><span class=\"toc-item-num\">1.1.2&nbsp;&nbsp;</span>2 Can I import the pandas librairie under the alias pd ?</a></span></li><li><span><a href=\"#3-Can-I-import-the-sub-library-pyplot-of-the-matplotlib-librayr-under-the-alis-plt-?\" data-toc-modified-id=\"3-Can-I-import-the-sub-library-pyplot-of-the-matplotlib-librayr-under-the-alis-plt-?-1.1.3\"><span class=\"toc-item-num\">1.1.3&nbsp;&nbsp;</span>3 Can I import the sub-library pyplot of the matplotlib librayr under the alis plt ?</a></span></li></ul></li><li><span><a href=\"#Using-librairies\" data-toc-modified-id=\"Using-librairies-1.2\"><span class=\"toc-item-num\">1.2&nbsp;&nbsp;</span>Using librairies</a></span><ul class=\"toc-item\"><li><span><a href=\"#1-Can-I-import-the-file-dataset.csv-in-pandas-'dataframe'\" data-toc-modified-id=\"1-Can-I-import-the-file-dataset.csv-in-pandas-'dataframe'-1.2.1\"><span class=\"toc-item-num\">1.2.1&nbsp;&nbsp;</span>1 Can I import the file dataset.csv in pandas 'dataframe'</a></span></li><li><span><a href=\"#2-Can-I-view-the-first-four-lines-?\" data-toc-modified-id=\"2-Can-I-view-the-first-four-lines-?-1.2.2\"><span class=\"toc-item-num\">1.2.2&nbsp;&nbsp;</span>2 Can I view the first four lines ?</a></span></li><li><span><a href=\"#3-Can-I-view-the-name-of-the-columns-?\" data-toc-modified-id=\"3-Can-I-view-the-name-of-the-columns-?-1.2.3\"><span class=\"toc-item-num\">1.2.3&nbsp;&nbsp;</span>3 Can I view the name of the columns ?</a></span></li><li><span><a href=\"#4-Can-I-view-the-column-coi1-?\" data-toc-modified-id=\"4-Can-I-view-the-column-coi1-?-1.2.4\"><span class=\"toc-item-num\">1.2.4&nbsp;&nbsp;</span>4 Can I view the column coi1 ?</a></span></li><li><span><a href=\"#5-Can-i-view-the-number-of-different-element-in-col1-?\" data-toc-modified-id=\"5-Can-i-view-the-number-of-different-element-in-col1-?-1.2.5\"><span class=\"toc-item-num\">1.2.5&nbsp;&nbsp;</span>5 Can i view the number of different element in col1 ?</a></span></li><li><span><a href=\"#6-Can-I-view-the-different-element-of-col1-with-their-number-of-appearance-?\" data-toc-modified-id=\"6-Can-I-view-the-different-element-of-col1-with-their-number-of-appearance-?-1.2.6\"><span class=\"toc-item-num\">1.2.6&nbsp;&nbsp;</span>6 Can I view the different element of col1 with their number of appearance ?</a></span></li><li><span><a href=\"#7-Can-I-view-all-the-positive-data-in-col1\" data-toc-modified-id=\"7-Can-I-view-all-the-positive-data-in-col1-1.2.7\"><span class=\"toc-item-num\">1.2.7&nbsp;&nbsp;</span>7 Can I view all the positive data in col1</a></span></li><li><span><a href=\"#8-Can-I-view-all-the-data-with-positive-col1-and-negative-col2-?\" data-toc-modified-id=\"8-Can-I-view-all-the-data-with-positive-col1-and-negative-col2-?-1.2.8\"><span class=\"toc-item-num\">1.2.8&nbsp;&nbsp;</span>8 Can I view all the data with positive col1 and negative col2 ?</a></span></li><li><span><a href=\"#9-Can-I-view-the-data-with-col1-values-in-[44,2,3]-?\" data-toc-modified-id=\"9-Can-I-view-the-data-with-col1-values-in-[44,2,3]-?-1.2.9\"><span class=\"toc-item-num\">1.2.9&nbsp;&nbsp;</span>9 Can I view the data with col1 values in [44,2,3] ?</a></span></li><li><span><a href=\"#10-Can-I-fill-missing-values-in-col1-with-0-?\" data-toc-modified-id=\"10-Can-I-fill-missing-values-in-col1-with-0-?-1.2.10\"><span class=\"toc-item-num\">1.2.10&nbsp;&nbsp;</span>10 Can I fill missing values in col1 with 0 ?</a></span></li></ul></li><li><span><a href=\"#Viewing-data-with-matplotlib\" data-toc-modified-id=\"Viewing-data-with-matplotlib-1.3\"><span class=\"toc-item-num\">1.3&nbsp;&nbsp;</span>Viewing data with matplotlib</a></span><ul class=\"toc-item\"><li><span><a href=\"#1-Can-I-plot--[4,20,6]-as-a-function-of-[2,1,3]-with-a-ligne-?\" data-toc-modified-id=\"1-Can-I-plot--[4,20,6]-as-a-function-of-[2,1,3]-with-a-ligne-?-1.3.1\"><span class=\"toc-item-num\">1.3.1&nbsp;&nbsp;</span>1 Can I plot  [4,20,6] as a function of [2,1,3] with a ligne ?</a></span></li><li><span><a href=\"#2-Can-I-plot--[4,20,6]-as-a-function-of-[2,1,3]-with-dots-?\" data-toc-modified-id=\"2-Can-I-plot--[4,20,6]-as-a-function-of-[2,1,3]-with-dots-?-1.3.2\"><span class=\"toc-item-num\">1.3.2&nbsp;&nbsp;</span>2 Can I plot  [4,20,6] as a function of [2,1,3] with dots ?</a></span></li><li><span><a href=\"#3-Can-I-draw-col1-as-a-function-of-col2-with-dots-?\" data-toc-modified-id=\"3-Can-I-draw-col1-as-a-function-of-col2-with-dots-?-1.3.3\"><span class=\"toc-item-num\">1.3.3&nbsp;&nbsp;</span>3 Can I draw col1 as a function of col2 with dots ?</a></span></li><li><span><a href=\"#4-Can-I-draw-an-histogram-of-col1-?\" data-toc-modified-id=\"4-Can-I-draw-an-histogram-of-col1-?-1.3.4\"><span class=\"toc-item-num\">1.3.4&nbsp;&nbsp;</span>4 Can I draw an histogram of col1 ?</a></span></li><li><span><a href=\"#5-Can-I-draw-a-histogram-of-col1-fro-positive-values-?\" data-toc-modified-id=\"5-Can-I-draw-a-histogram-of-col1-fro-positive-values-?-1.3.5\"><span class=\"toc-item-num\">1.3.5&nbsp;&nbsp;</span>5 Can I draw a histogram of col1 fro positive values ?</a></span></li><li><span><a href=\"#6-Can-I-draw-col1-with-a-line\" data-toc-modified-id=\"6-Can-I-draw-col1-with-a-line-1.3.6\"><span class=\"toc-item-num\">1.3.6&nbsp;&nbsp;</span>6 Can I draw col1 with a line</a></span></li><li><span><a href=\"#7-Can-I-draw-col1-with-barres\" data-toc-modified-id=\"7-Can-I-draw-col1-with-barres-1.3.7\"><span class=\"toc-item-num\">1.3.7&nbsp;&nbsp;</span>7 Can I draw col1 with barres</a></span></li><li><span><a href=\"#8-[harder]-Can-I-draw-an-histogram-of-the-column-cat1-with-categoric-values-?\" data-toc-modified-id=\"8-[harder]-Can-I-draw-an-histogram-of-the-column-cat1-with-categoric-values-?-1.3.8\"><span class=\"toc-item-num\">1.3.8&nbsp;&nbsp;</span>8 [harder] Can I draw an histogram of the column cat1 with categoric values ?</a></span></li></ul></li></ul></li></ul></div>"
   ]
  },
  {
   "cell_type": "markdown",
   "metadata": {},
   "source": [
    "# A few notions to feel more confortable before launching a preprocessing script.\n",
    "Quelques prérequis pour être à l’aise avec les scripts de pré-processing "
   ]
  },
  {
   "cell_type": "markdown",
   "metadata": {},
   "source": [
    "This tutorial is meant for users with a few notions in programming \n",
    "but with little knowledge (or none) in python and \n",
    "the pandas amd matplotlib libraries.\n",
    "\n",
    "Ces prérequis sont destinés aux personnes ayant des bases en \n",
    "programmation mais ayant très peu (ou jamais) codé avec le \n",
    "langage python et notamment avec les librairies pandas et matplotlib. "
   ]
  },
  {
   "cell_type": "markdown",
   "metadata": {},
   "source": [
    "## Managing libraries\n",
    "Gestion des librairies"
   ]
  },
  {
   "cell_type": "markdown",
   "metadata": {},
   "source": [
    "### 1 Can I import the os library ?\n",
    "\n",
    "Est-ce que je sais importer la librairie os ? "
   ]
  },
  {
   "cell_type": "code",
   "execution_count": null,
   "metadata": {
    "ExecuteTime": {
     "end_time": "2019-07-17T07:54:07.096468Z",
     "start_time": "2019-07-17T07:54:07.094312Z"
    }
   },
   "outputs": [],
   "source": [
    "import os"
   ]
  },
  {
   "cell_type": "markdown",
   "metadata": {},
   "source": [
    "### 2 Can I import the pandas librairie under the alias pd ?\n",
    "\n",
    "Est-ce que je sais importer la librairie pandas sous l’alias pd ? "
   ]
  },
  {
   "cell_type": "code",
   "execution_count": null,
   "metadata": {
    "ExecuteTime": {
     "end_time": "2019-07-17T07:54:07.397049Z",
     "start_time": "2019-07-17T07:54:07.101501Z"
    }
   },
   "outputs": [],
   "source": [
    "import pandas as pd"
   ]
  },
  {
   "cell_type": "markdown",
   "metadata": {},
   "source": [
    "### 3 Can I import the sub-library pyplot of the matplotlib librayr under the alis plt ?\n",
    "\n",
    "Est-ce que je sais importer la sous-librairie pyplot de la librairie matplotlib sous l’alias plt ? "
   ]
  },
  {
   "cell_type": "code",
   "execution_count": null,
   "metadata": {
    "ExecuteTime": {
     "end_time": "2019-07-17T07:54:07.529502Z",
     "start_time": "2019-07-17T07:54:07.398320Z"
    }
   },
   "outputs": [],
   "source": [
    "import matplotlib.pyplot as plt"
   ]
  },
  {
   "cell_type": "markdown",
   "metadata": {},
   "source": [
    "## Using librairies\n",
    "\n",
    "Utilisation de la librairie pandas"
   ]
  },
  {
   "cell_type": "markdown",
   "metadata": {},
   "source": [
    "Feel free to view the following link to have more examples of the pandas librairy.\n",
    "\n",
    "1. https://pandas.pydata.org/pandas-docs/stable/getting_started/10min.html#min\n",
    "2. https://pandas.pydata.org/pandas-docs/stable/user_guide/cookbook.html#cookbook\n",
    "3. http://pandas.pydata.org/Pandas_Cheat_Sheet.pdf\n",
    "\n",
    "Ne pas hésiter à regarder les liens suivant pour avoir d'autre exemples d'utiliation de pandas:"
   ]
  },
  {
   "cell_type": "markdown",
   "metadata": {},
   "source": [
    "### 1 Can I import the file dataset.csv in pandas 'dataframe'\n",
    "\n",
    "Est-ce que je sais importer le fichier dataset.csv dans un 'dataframe' pandas ? "
   ]
  },
  {
   "cell_type": "code",
   "execution_count": null,
   "metadata": {
    "ExecuteTime": {
     "end_time": "2019-07-17T07:54:07.539527Z",
     "start_time": "2019-07-17T07:54:07.530678Z"
    }
   },
   "outputs": [],
   "source": [
    "df = pd.read_csv('dataset.csv')"
   ]
  },
  {
   "cell_type": "markdown",
   "metadata": {},
   "source": [
    "### 2 Can I view the first four lines ?\n",
    "\n",
    "Est-ce que je sais visualiser les 4 premières lignes ? "
   ]
  },
  {
   "cell_type": "code",
   "execution_count": null,
   "metadata": {
    "ExecuteTime": {
     "end_time": "2019-07-17T07:54:07.567638Z",
     "start_time": "2019-07-17T07:54:07.541196Z"
    }
   },
   "outputs": [],
   "source": [
    "df.head(n=4)"
   ]
  },
  {
   "cell_type": "markdown",
   "metadata": {},
   "source": [
    "### 3 Can I view the name of the columns ?\n",
    "\n",
    "Est-ce que je sais visualiser les noms des colonnes ? "
   ]
  },
  {
   "cell_type": "code",
   "execution_count": null,
   "metadata": {
    "ExecuteTime": {
     "end_time": "2019-07-17T07:54:07.578770Z",
     "start_time": "2019-07-17T07:54:07.569562Z"
    }
   },
   "outputs": [],
   "source": [
    "df.columns"
   ]
  },
  {
   "cell_type": "markdown",
   "metadata": {},
   "source": [
    "### 4 Can I view the column coi1 ?\n",
    "\n",
    "Est-ce que je sais visualiser la colonne col1 ? "
   ]
  },
  {
   "cell_type": "code",
   "execution_count": null,
   "metadata": {
    "ExecuteTime": {
     "end_time": "2019-07-17T07:54:07.589012Z",
     "start_time": "2019-07-17T07:54:07.580071Z"
    }
   },
   "outputs": [],
   "source": [
    "df['col1'] "
   ]
  },
  {
   "cell_type": "markdown",
   "metadata": {},
   "source": [
    "### 5 Can i view the number of different element in col1 ?\n",
    "\n",
    "Est-ce que je sais visualiser le nombre d’élément différent de la colonne col1 ?"
   ]
  },
  {
   "cell_type": "code",
   "execution_count": null,
   "metadata": {
    "ExecuteTime": {
     "end_time": "2019-07-17T07:54:07.599875Z",
     "start_time": "2019-07-17T07:54:07.590727Z"
    }
   },
   "outputs": [],
   "source": [
    "df['col1'].nunique() "
   ]
  },
  {
   "cell_type": "markdown",
   "metadata": {},
   "source": [
    "### 6 Can I view the different element of col1 with their number of appearance ?\n",
    "\n",
    "Est-ce que je sais visualiser les éléments différents de la colonne col1 avec leur occurrence ? "
   ]
  },
  {
   "cell_type": "code",
   "execution_count": null,
   "metadata": {
    "ExecuteTime": {
     "end_time": "2019-07-17T07:54:07.610540Z",
     "start_time": "2019-07-17T07:54:07.601303Z"
    }
   },
   "outputs": [],
   "source": [
    "df['col1'].value_counts() "
   ]
  },
  {
   "cell_type": "markdown",
   "metadata": {},
   "source": [
    "### 7 Can I view all the positive data in col1\n",
    "\n",
    "Est-ce que je sais visualiser les données filtrées pour des valeurs de col1 positives ? "
   ]
  },
  {
   "cell_type": "code",
   "execution_count": null,
   "metadata": {
    "ExecuteTime": {
     "end_time": "2019-07-17T07:54:07.668223Z",
     "start_time": "2019-07-17T07:54:07.612403Z"
    }
   },
   "outputs": [],
   "source": [
    "df[df['col1'] > 0] "
   ]
  },
  {
   "cell_type": "markdown",
   "metadata": {},
   "source": [
    "### 8 Can I view all the data with positive col1 and negative col2 ?\n",
    "\n",
    "Est-ce que je sais visualiser les données filtrées pour des valeurs de col1 positives et des col2 négatives ? "
   ]
  },
  {
   "cell_type": "code",
   "execution_count": null,
   "metadata": {
    "ExecuteTime": {
     "end_time": "2019-07-17T07:54:07.683343Z",
     "start_time": "2019-07-17T07:54:07.670086Z"
    }
   },
   "outputs": [],
   "source": [
    "df[(df['col1'] > 0) & (df['col2'] < 0)] "
   ]
  },
  {
   "cell_type": "markdown",
   "metadata": {},
   "source": [
    "### 9 Can I view the data with col1 values in [44,2,3] ?\n",
    "\n",
    "Est-ce que je sais visualiser des données filtrées pour des valeurs de col1 incluse dans la liste [44,2,3] ? "
   ]
  },
  {
   "cell_type": "code",
   "execution_count": null,
   "metadata": {
    "ExecuteTime": {
     "end_time": "2019-07-17T07:54:07.707401Z",
     "start_time": "2019-07-17T07:54:07.684544Z"
    }
   },
   "outputs": [],
   "source": [
    "df[df['col1'].isin([44,2,3])] "
   ]
  },
  {
   "cell_type": "markdown",
   "metadata": {},
   "source": [
    "### 10 Can I fill missing values in col1 with 0 ?\n",
    "\n",
    "Est-ce que je sais remplacer les valeurs manquantes de la colonne col1 par 0 ? "
   ]
  },
  {
   "cell_type": "code",
   "execution_count": null,
   "metadata": {
    "ExecuteTime": {
     "end_time": "2019-07-17T07:54:07.716332Z",
     "start_time": "2019-07-17T07:54:07.708667Z"
    }
   },
   "outputs": [],
   "source": [
    "df['col1'] = df['col1'].fillna(0) "
   ]
  },
  {
   "cell_type": "markdown",
   "metadata": {
    "ExecuteTime": {
     "end_time": "2019-02-07T16:42:59.177859Z",
     "start_time": "2019-02-07T16:42:59.169025Z"
    }
   },
   "source": [
    "## Viewing data with matplotlib\n",
    "\n",
    "Visualisation de donnée avec matplotlib"
   ]
  },
  {
   "cell_type": "markdown",
   "metadata": {},
   "source": [
    "### 1 Can I plot  [4,20,6] as a function of [2,1,3] with a ligne ?\n",
    "\n",
    "Est-ce que je sais tracer [4,20,6] en fonction de [2,1,3] avec une ligne ?"
   ]
  },
  {
   "cell_type": "code",
   "execution_count": null,
   "metadata": {
    "ExecuteTime": {
     "end_time": "2019-07-17T07:54:07.930315Z",
     "start_time": "2019-07-17T07:54:07.717803Z"
    }
   },
   "outputs": [],
   "source": [
    "plt.plot([2,1,3] , [4,20,6]) "
   ]
  },
  {
   "cell_type": "markdown",
   "metadata": {},
   "source": [
    "### 2 Can I plot  [4,20,6] as a function of [2,1,3] with dots ?\n",
    "\n",
    "Est-ce que je sais tracer [4,20,6] en fonction de [2,1,3] avec des points ? "
   ]
  },
  {
   "cell_type": "code",
   "execution_count": null,
   "metadata": {
    "ExecuteTime": {
     "end_time": "2019-07-17T07:54:08.130739Z",
     "start_time": "2019-07-17T07:54:07.932121Z"
    }
   },
   "outputs": [],
   "source": [
    "plt.scatter([2,1,3], [4,20,6]) "
   ]
  },
  {
   "cell_type": "markdown",
   "metadata": {},
   "source": [
    "### 3 Can I draw col1 as a function of col2 with dots ?\n",
    "\n",
    "Est-ce que je sais tracer la colonne col1 en fonction de la colonne col2 avec des points ?"
   ]
  },
  {
   "cell_type": "code",
   "execution_count": null,
   "metadata": {
    "ExecuteTime": {
     "end_time": "2019-07-17T07:54:08.317281Z",
     "start_time": "2019-07-17T07:54:08.132093Z"
    }
   },
   "outputs": [],
   "source": [
    "plt.scatter(df['col1'], df['col2']) "
   ]
  },
  {
   "cell_type": "markdown",
   "metadata": {},
   "source": [
    "### 4 Can I draw an histogram of col1 ?\n",
    "\n",
    "Est-ce que je sais tracer un histogramme de la colonne col1 ?"
   ]
  },
  {
   "cell_type": "code",
   "execution_count": null,
   "metadata": {
    "ExecuteTime": {
     "end_time": "2019-07-17T07:54:08.485915Z",
     "start_time": "2019-07-17T07:54:08.319133Z"
    }
   },
   "outputs": [],
   "source": [
    "df['col1'].hist() "
   ]
  },
  {
   "cell_type": "markdown",
   "metadata": {},
   "source": [
    "### 5 Can I draw a histogram of col1 fro positive values ?\n",
    "\n",
    "Est-ce que je sais tracer un histogramme de la colonne col1 pour les valeurs positives ?"
   ]
  },
  {
   "cell_type": "code",
   "execution_count": null,
   "metadata": {
    "ExecuteTime": {
     "end_time": "2019-07-17T07:54:08.671965Z",
     "start_time": "2019-07-17T07:54:08.487223Z"
    }
   },
   "outputs": [],
   "source": [
    "df[df['col1'] > 0 ]['col1'].hist() "
   ]
  },
  {
   "cell_type": "markdown",
   "metadata": {},
   "source": [
    "### 6 Can I draw col1 with a line\n",
    "\n",
    "Est-ce que je sais tracer la colonne col1 avec une ligne ?"
   ]
  },
  {
   "cell_type": "code",
   "execution_count": null,
   "metadata": {
    "ExecuteTime": {
     "end_time": "2019-07-17T07:54:08.850660Z",
     "start_time": "2019-07-17T07:54:08.673855Z"
    }
   },
   "outputs": [],
   "source": [
    "df['col1'].plot('line') "
   ]
  },
  {
   "cell_type": "markdown",
   "metadata": {},
   "source": [
    "### 7 Can I draw col1 with barres\n",
    "\n",
    "Est-ce que je sais tracer la colonne col1 avec des barres ?"
   ]
  },
  {
   "cell_type": "code",
   "execution_count": null,
   "metadata": {
    "ExecuteTime": {
     "end_time": "2019-07-17T07:54:09.597477Z",
     "start_time": "2019-07-17T07:54:08.851959Z"
    }
   },
   "outputs": [],
   "source": [
    "df['col1'].plot('bar') "
   ]
  },
  {
   "cell_type": "markdown",
   "metadata": {},
   "source": [
    "### 8 [harder] Can I draw an histogram of the column cat1 with categoric values ?\n",
    "\n",
    "[Plus dur] Est-ce que je sais tracer un histogramme de la colonne catégorique cat1 ? "
   ]
  },
  {
   "cell_type": "code",
   "execution_count": null,
   "metadata": {
    "ExecuteTime": {
     "end_time": "2019-07-17T07:54:09.735368Z",
     "start_time": "2019-07-17T07:54:09.599304Z"
    }
   },
   "outputs": [],
   "source": [
    "df['cat1'].value_counts().plot(kind='bar') "
   ]
  }
 ],
 "metadata": {
  "kernelspec": {
   "display_name": "venv3_plasticc",
   "language": "python",
   "name": "venv3_plasticc"
  },
  "language_info": {
   "codemirror_mode": {
    "name": "ipython",
    "version": 3
   },
   "file_extension": ".py",
   "mimetype": "text/x-python",
   "name": "python",
   "nbconvert_exporter": "python",
   "pygments_lexer": "ipython3",
   "version": "3.6.8"
  },
  "toc": {
   "base_numbering": 1,
   "nav_menu": {},
   "number_sections": true,
   "sideBar": true,
   "skip_h1_title": false,
   "title_cell": "Table of Contents",
   "title_sidebar": "Contents",
   "toc_cell": true,
   "toc_position": {},
   "toc_section_display": true,
   "toc_window_display": true
  }
 },
 "nbformat": 4,
 "nbformat_minor": 2
}
