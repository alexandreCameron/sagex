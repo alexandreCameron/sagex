{
 "cells": [
  {
   "cell_type": "markdown",
   "metadata": {
    "toc": true
   },
   "source": [
    "<h1>Table of Contents<span class=\"tocSkip\"></span></h1>\n",
    "<div class=\"toc\"><ul class=\"toc-item\"><li><span><a href=\"#Correction-of-the-exercise\" data-toc-modified-id=\"Correction-of-the-exercise-1\"><span class=\"toc-item-num\">1&nbsp;&nbsp;</span>Correction of the exercise</a></span><ul class=\"toc-item\"><li><ul class=\"toc-item\"><li><span><a href=\"#Import-pandas-library\" data-toc-modified-id=\"Import-pandas-library-1.0.1\"><span class=\"toc-item-num\">1.0.1&nbsp;&nbsp;</span>Import pandas library</a></span></li><li><span><a href=\"#Import-data-from-crm.txt\" data-toc-modified-id=\"Import-data-from-crm.txt-1.0.2\"><span class=\"toc-item-num\">1.0.2&nbsp;&nbsp;</span>Import data from <code>crm.txt</code></a></span></li></ul></li></ul></li><li><span><a href=\"#Exercise\" data-toc-modified-id=\"Exercise-2\"><span class=\"toc-item-num\">2&nbsp;&nbsp;</span>Exercise</a></span></li><li><span><a href=\"#Bonus\" data-toc-modified-id=\"Bonus-3\"><span class=\"toc-item-num\">3&nbsp;&nbsp;</span>Bonus</a></span></li></ul></div>"
   ]
  },
  {
   "cell_type": "markdown",
   "metadata": {},
   "source": [
    "# Correction of the exercise"
   ]
  },
  {
   "cell_type": "markdown",
   "metadata": {},
   "source": [
    "### Import pandas library"
   ]
  },
  {
   "cell_type": "code",
   "execution_count": null,
   "metadata": {
    "ExecuteTime": {
     "end_time": "2019-07-17T07:51:07.516302Z",
     "start_time": "2019-07-17T07:51:07.107471Z"
    }
   },
   "outputs": [],
   "source": [
    "import os\n",
    "import pandas as pd"
   ]
  },
  {
   "cell_type": "markdown",
   "metadata": {
    "ExecuteTime": {
     "end_time": "2019-02-18T14:34:22.494346Z",
     "start_time": "2019-02-18T14:34:22.486254Z"
    }
   },
   "source": [
    "### Import data from `crm.txt`"
   ]
  },
  {
   "cell_type": "code",
   "execution_count": null,
   "metadata": {
    "ExecuteTime": {
     "end_time": "2019-07-17T07:51:07.534325Z",
     "start_time": "2019-07-17T07:51:07.517468Z"
    }
   },
   "outputs": [],
   "source": [
    "position_filename = 'crm.txt'\n",
    "df = pd.read_csv(position_filename, delimiter='\\t')"
   ]
  },
  {
   "cell_type": "markdown",
   "metadata": {},
   "source": [
    "***"
   ]
  },
  {
   "cell_type": "markdown",
   "metadata": {},
   "source": [
    "# Exercise\n",
    "\n",
    "Aggregate values using the `item_id` as a groupbykey.\n",
    "\n",
    "Make aggregation using the `mean` `max` and `std` function."
   ]
  },
  {
   "cell_type": "code",
   "execution_count": null,
   "metadata": {
    "ExecuteTime": {
     "end_time": "2019-07-17T07:51:07.540177Z",
     "start_time": "2019-07-17T07:51:07.535808Z"
    }
   },
   "outputs": [],
   "source": [
    "item_id = \"item_id\"\n",
    "selected_cols = ['amt', 'nb', item_id]\n",
    "df_interest = df[selected_cols]"
   ]
  },
  {
   "cell_type": "code",
   "execution_count": null,
   "metadata": {
    "ExecuteTime": {
     "end_time": "2019-07-17T07:51:07.563798Z",
     "start_time": "2019-07-17T07:51:07.541470Z"
    }
   },
   "outputs": [],
   "source": [
    "df_mean = df_interest.groupby(item_id).mean()\n",
    "df_mean.head(n=3)"
   ]
  },
  {
   "cell_type": "code",
   "execution_count": null,
   "metadata": {
    "ExecuteTime": {
     "end_time": "2019-07-17T07:51:07.575048Z",
     "start_time": "2019-07-17T07:51:07.565944Z"
    }
   },
   "outputs": [],
   "source": [
    "# If needed:\n",
    "df_mean_reindex = df_mean.reset_index()\n",
    "df_mean_reindex.head(n=3)"
   ]
  },
  {
   "cell_type": "code",
   "execution_count": null,
   "metadata": {
    "ExecuteTime": {
     "end_time": "2019-07-17T07:51:07.586353Z",
     "start_time": "2019-07-17T07:51:07.576425Z"
    }
   },
   "outputs": [],
   "source": [
    "df_max = df_interest.groupby(item_id).max()\n",
    "df_max.head(n=3)"
   ]
  },
  {
   "cell_type": "code",
   "execution_count": null,
   "metadata": {
    "ExecuteTime": {
     "end_time": "2019-07-17T07:51:07.599049Z",
     "start_time": "2019-07-17T07:51:07.587805Z"
    }
   },
   "outputs": [],
   "source": [
    "df_std = df_interest.groupby(item_id).std()\n",
    "df_std.head(n=3)"
   ]
  },
  {
   "cell_type": "markdown",
   "metadata": {
    "ExecuteTime": {
     "end_time": "2019-02-18T20:25:23.553772Z",
     "start_time": "2019-02-18T20:25:23.543658Z"
    }
   },
   "source": [
    "***"
   ]
  },
  {
   "cell_type": "markdown",
   "metadata": {},
   "source": [
    "# Bonus\n",
    "\n",
    "How would you find the most common `item_id` for each `user_id`."
   ]
  },
  {
   "cell_type": "code",
   "execution_count": null,
   "metadata": {
    "ExecuteTime": {
     "end_time": "2019-07-17T07:51:07.611388Z",
     "start_time": "2019-07-17T07:51:07.600259Z"
    },
    "scrolled": true
   },
   "outputs": [],
   "source": [
    "user_id = \"user_id\"\n",
    "df.groupby([user_id, item_id])[item_id].value_counts()"
   ]
  },
  {
   "cell_type": "code",
   "execution_count": null,
   "metadata": {
    "ExecuteTime": {
     "end_time": "2019-07-17T07:51:08.311860Z",
     "start_time": "2019-07-17T07:51:07.612826Z"
    },
    "scrolled": true
   },
   "outputs": [],
   "source": [
    "df_result = df.groupby([user_id]).apply(lambda row: row[item_id].value_counts().index[0])\n",
    "df_result"
   ]
  },
  {
   "cell_type": "markdown",
   "metadata": {},
   "source": [
    "***"
   ]
  }
 ],
 "metadata": {
  "kernelspec": {
   "display_name": "venv3_plasticc",
   "language": "python",
   "name": "venv3_plasticc"
  },
  "language_info": {
   "codemirror_mode": {
    "name": "ipython",
    "version": 3
   },
   "file_extension": ".py",
   "mimetype": "text/x-python",
   "name": "python",
   "nbconvert_exporter": "python",
   "pygments_lexer": "ipython3",
   "version": "3.6.8"
  },
  "toc": {
   "base_numbering": 1,
   "nav_menu": {
    "height": "254px",
    "width": "311px"
   },
   "number_sections": true,
   "sideBar": true,
   "skip_h1_title": false,
   "title_cell": "Table of Contents",
   "title_sidebar": "Contents",
   "toc_cell": true,
   "toc_position": {
    "height": "calc(100% - 180px)",
    "left": "10px",
    "top": "150px",
    "width": "341px"
   },
   "toc_section_display": true,
   "toc_window_display": true
  }
 },
 "nbformat": 4,
 "nbformat_minor": 2
}
