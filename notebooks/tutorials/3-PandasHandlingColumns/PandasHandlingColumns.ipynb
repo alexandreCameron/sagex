{
 "cells": [
  {
   "cell_type": "markdown",
   "metadata": {
    "toc": true
   },
   "source": [
    "<h1>Table of Contents<span class=\"tocSkip\"></span></h1>\n",
    "<div class=\"toc\"><ul class=\"toc-item\"><li><span><a href=\"#Handling-columns-and-data-within-a-pandas.DataFrame\" data-toc-modified-id=\"Handling-columns-and-data-within-a-pandas.DataFrame-1\"><span class=\"toc-item-num\">1&nbsp;&nbsp;</span>Handling columns and data within a pandas.DataFrame</a></span><ul class=\"toc-item\"><li><span><a href=\"#Initializing-a-dataframe\" data-toc-modified-id=\"Initializing-a-dataframe-1.1\"><span class=\"toc-item-num\">1.1&nbsp;&nbsp;</span>Initializing a dataframe</a></span><ul class=\"toc-item\"><li><span><a href=\"#Import-pandas-library\" data-toc-modified-id=\"Import-pandas-library-1.1.1\"><span class=\"toc-item-num\">1.1.1&nbsp;&nbsp;</span>Import pandas library</a></span></li><li><span><a href=\"#Import-data-from-crm.txt\" data-toc-modified-id=\"Import-data-from-crm.txt-1.1.2\"><span class=\"toc-item-num\">1.1.2&nbsp;&nbsp;</span>Import data from <code>crm.txt</code></a></span></li><li><span><a href=\"#View-general-information-on-the-data\" data-toc-modified-id=\"View-general-information-on-the-data-1.1.3\"><span class=\"toc-item-num\">1.1.3&nbsp;&nbsp;</span>View general information on the data</a></span><ul class=\"toc-item\"><li><span><a href=\"#Name-of-columns\" data-toc-modified-id=\"Name-of-columns-1.1.3.1\"><span class=\"toc-item-num\">1.1.3.1&nbsp;&nbsp;</span>Name of columns</a></span></li><li><span><a href=\"#First-three-lines-of-the-file\" data-toc-modified-id=\"First-three-lines-of-the-file-1.1.3.2\"><span class=\"toc-item-num\">1.1.3.2&nbsp;&nbsp;</span>First three lines of the file</a></span></li><li><span><a href=\"#Shape-of-the-data\" data-toc-modified-id=\"Shape-of-the-data-1.1.3.3\"><span class=\"toc-item-num\">1.1.3.3&nbsp;&nbsp;</span>Shape of the data</a></span></li></ul></li></ul></li><li><span><a href=\"#Rename-column-names\" data-toc-modified-id=\"Rename-column-names-1.2\"><span class=\"toc-item-num\">1.2&nbsp;&nbsp;</span>Rename column names</a></span><ul class=\"toc-item\"><li><span><a href=\"#Rename-column-amt-to-amount-and-nb-to-quantity\" data-toc-modified-id=\"Rename-column-amt-to-amount-and-nb-to-quantity-1.2.1\"><span class=\"toc-item-num\">1.2.1&nbsp;&nbsp;</span>Rename column <code>amt</code> to <code>amount</code> and <code>nb</code> to <code>quantity</code></a></span></li><li><span><a href=\"#Confirm-that-the-columns-have-been-renamed\" data-toc-modified-id=\"Confirm-that-the-columns-have-been-renamed-1.2.2\"><span class=\"toc-item-num\">1.2.2&nbsp;&nbsp;</span>Confirm that the columns have been renamed</a></span></li></ul></li><li><span><a href=\"#View-statistics-on-the-number-of-transaction\" data-toc-modified-id=\"View-statistics-on-the-number-of-transaction-1.3\"><span class=\"toc-item-num\">1.3&nbsp;&nbsp;</span>View statistics on the number of transaction</a></span><ul class=\"toc-item\"><li><span><a href=\"#Get-Number-of-occurence-per-client-for-the-10-most-active-clients\" data-toc-modified-id=\"Get-Number-of-occurence-per-client-for-the-10-most-active-clients-1.3.1\"><span class=\"toc-item-num\">1.3.1&nbsp;&nbsp;</span>Get Number of occurence per client for the 10 most active clients</a></span></li><li><span><a href=\"#Plot-the-transaction-activity\" data-toc-modified-id=\"Plot-the-transaction-activity-1.3.2\"><span class=\"toc-item-num\">1.3.2&nbsp;&nbsp;</span>Plot the transaction activity</a></span></li></ul></li><li><span><a href=\"#View-information-relative-to-user_id-=-4952196\" data-toc-modified-id=\"View-information-relative-to-user_id-=-4952196-1.4\"><span class=\"toc-item-num\">1.4&nbsp;&nbsp;</span>View information relative to user_id = <code>4952196</code></a></span></li><li><span><a href=\"#Compute-the-total-amt-and-total-nb-of-position-for-each-user_id\" data-toc-modified-id=\"Compute-the-total-amt-and-total-nb-of-position-for-each-user_id-1.5\"><span class=\"toc-item-num\">1.5&nbsp;&nbsp;</span>Compute the total <code>amt</code> and total <code>nb</code> of position for each <code>user_id</code></a></span><ul class=\"toc-item\"><li><span><a href=\"#Find-the-proper-columns-to-perform-the-groupby-operation\" data-toc-modified-id=\"Find-the-proper-columns-to-perform-the-groupby-operation-1.5.1\"><span class=\"toc-item-num\">1.5.1&nbsp;&nbsp;</span>Find the proper columns to perform the groupby operation</a></span></li><li><span><a href=\"#Define-the-dataset-of-interest\" data-toc-modified-id=\"Define-the-dataset-of-interest-1.5.2\"><span class=\"toc-item-num\">1.5.2&nbsp;&nbsp;</span>Define the dataset of interest</a></span></li><li><span><a href=\"#Compute-the-sum-on-a-groupby-sample\" data-toc-modified-id=\"Compute-the-sum-on-a-groupby-sample-1.5.3\"><span class=\"toc-item-num\">1.5.3&nbsp;&nbsp;</span>Compute the sum on a groupby sample</a></span></li><li><span><a href=\"#View-information-for-user_id-=-347850\" data-toc-modified-id=\"View-information-for-user_id-=-347850-1.5.4\"><span class=\"toc-item-num\">1.5.4&nbsp;&nbsp;</span>View information for user_id = <code>347850</code></a></span></li><li><span><a href=\"#View-information-for-user_id-=-4952196\" data-toc-modified-id=\"View-information-for-user_id-=-4952196-1.5.5\"><span class=\"toc-item-num\">1.5.5&nbsp;&nbsp;</span>View information for user_id = <code>4952196</code></a></span><ul class=\"toc-item\"><li><span><a href=\"#View-raw-information\" data-toc-modified-id=\"View-raw-information-1.5.5.1\"><span class=\"toc-item-num\">1.5.5.1&nbsp;&nbsp;</span>View raw information</a></span></li><li><span><a href=\"#View-aggregated-information\" data-toc-modified-id=\"View-aggregated-information-1.5.5.2\"><span class=\"toc-item-num\">1.5.5.2&nbsp;&nbsp;</span>View aggregated information</a></span></li><li><span><a href=\"#Reindex-aggregated-dataFrame-df_sum\" data-toc-modified-id=\"Reindex-aggregated-dataFrame-df_sum-1.5.5.3\"><span class=\"toc-item-num\">1.5.5.3&nbsp;&nbsp;</span>Reindex aggregated dataFrame <code>df_sum</code></a></span></li><li><span><a href=\"#Compare-results\" data-toc-modified-id=\"Compare-results-1.5.5.4\"><span class=\"toc-item-num\">1.5.5.4&nbsp;&nbsp;</span>Compare results</a></span></li></ul></li></ul></li></ul></li><li><span><a href=\"#Exercise\" data-toc-modified-id=\"Exercise-2\"><span class=\"toc-item-num\">2&nbsp;&nbsp;</span>Exercise</a></span></li><li><span><a href=\"#Bonus\" data-toc-modified-id=\"Bonus-3\"><span class=\"toc-item-num\">3&nbsp;&nbsp;</span>Bonus</a></span></li></ul></div>"
   ]
  },
  {
   "cell_type": "markdown",
   "metadata": {},
   "source": [
    "# Handling columns and data within a pandas.DataFrame"
   ]
  },
  {
   "cell_type": "markdown",
   "metadata": {},
   "source": [
    "## Initializing a dataframe\n",
    "\n",
    "### Import pandas library"
   ]
  },
  {
   "cell_type": "code",
   "execution_count": null,
   "metadata": {
    "ExecuteTime": {
     "end_time": "2019-07-17T07:52:17.064796Z",
     "start_time": "2019-07-17T07:52:16.811616Z"
    }
   },
   "outputs": [],
   "source": [
    "import pandas as pd"
   ]
  },
  {
   "cell_type": "markdown",
   "metadata": {
    "ExecuteTime": {
     "end_time": "2019-02-18T14:34:22.494346Z",
     "start_time": "2019-02-18T14:34:22.486254Z"
    }
   },
   "source": [
    "### Import data from `crm.txt`"
   ]
  },
  {
   "cell_type": "code",
   "execution_count": null,
   "metadata": {
    "ExecuteTime": {
     "end_time": "2019-07-17T07:52:17.075116Z",
     "start_time": "2019-07-17T07:52:17.068475Z"
    }
   },
   "outputs": [],
   "source": [
    "position_filename = 'crm.txt'\n",
    "\n",
    "df = pd.read_csv(position_filename, delimiter='\\t')"
   ]
  },
  {
   "cell_type": "markdown",
   "metadata": {
    "ExecuteTime": {
     "end_time": "2019-02-18T14:36:19.878445Z",
     "start_time": "2019-02-18T14:36:19.869016Z"
    }
   },
   "source": [
    "### View general information on the data"
   ]
  },
  {
   "cell_type": "markdown",
   "metadata": {
    "ExecuteTime": {
     "end_time": "2019-02-18T14:36:48.113311Z",
     "start_time": "2019-02-18T14:36:48.104805Z"
    }
   },
   "source": [
    "#### Name of columns"
   ]
  },
  {
   "cell_type": "code",
   "execution_count": null,
   "metadata": {
    "ExecuteTime": {
     "end_time": "2019-07-17T07:52:17.088860Z",
     "start_time": "2019-07-17T07:52:17.078641Z"
    }
   },
   "outputs": [],
   "source": [
    "df.columns"
   ]
  },
  {
   "cell_type": "markdown",
   "metadata": {},
   "source": [
    "#### First three lines of the file"
   ]
  },
  {
   "cell_type": "code",
   "execution_count": null,
   "metadata": {
    "ExecuteTime": {
     "end_time": "2019-07-17T07:52:17.104031Z",
     "start_time": "2019-07-17T07:52:17.092158Z"
    }
   },
   "outputs": [],
   "source": [
    "df.head(n=3)"
   ]
  },
  {
   "cell_type": "markdown",
   "metadata": {},
   "source": [
    "#### Shape of the data"
   ]
  },
  {
   "cell_type": "code",
   "execution_count": null,
   "metadata": {
    "ExecuteTime": {
     "end_time": "2019-07-17T07:52:17.113851Z",
     "start_time": "2019-07-17T07:52:17.107428Z"
    }
   },
   "outputs": [],
   "source": [
    "df.shape"
   ]
  },
  {
   "cell_type": "markdown",
   "metadata": {},
   "source": [
    "## Rename column names"
   ]
  },
  {
   "cell_type": "markdown",
   "metadata": {
    "ExecuteTime": {
     "end_time": "2019-02-18T14:40:23.989180Z",
     "start_time": "2019-02-18T14:40:23.976465Z"
    }
   },
   "source": [
    "### Rename column `amt` to `amount` and `nb` to `quantity`"
   ]
  },
  {
   "cell_type": "code",
   "execution_count": null,
   "metadata": {
    "ExecuteTime": {
     "end_time": "2019-07-17T07:52:17.124147Z",
     "start_time": "2019-07-17T07:52:17.118413Z"
    }
   },
   "outputs": [],
   "source": [
    "df_renamed = df.rename(index=str, columns={'amt': 'amount', 'nb': 'quantity'})"
   ]
  },
  {
   "cell_type": "markdown",
   "metadata": {},
   "source": [
    "### Confirm that the columns have been renamed"
   ]
  },
  {
   "cell_type": "code",
   "execution_count": null,
   "metadata": {
    "ExecuteTime": {
     "end_time": "2019-07-17T07:52:17.136877Z",
     "start_time": "2019-07-17T07:52:17.126796Z"
    }
   },
   "outputs": [],
   "source": [
    "df_renamed.columns"
   ]
  },
  {
   "cell_type": "markdown",
   "metadata": {},
   "source": [
    "NB: The `.columns` and `.keys()` funcions have the same properties"
   ]
  },
  {
   "cell_type": "code",
   "execution_count": null,
   "metadata": {
    "ExecuteTime": {
     "end_time": "2019-07-17T07:52:17.153828Z",
     "start_time": "2019-07-17T07:52:17.140432Z"
    }
   },
   "outputs": [],
   "source": [
    "df_renamed.keys()"
   ]
  },
  {
   "cell_type": "markdown",
   "metadata": {},
   "source": [
    "## View statistics on the number of transaction"
   ]
  },
  {
   "cell_type": "markdown",
   "metadata": {},
   "source": [
    "### Get Number of occurence per client for the 10 most active clients"
   ]
  },
  {
   "cell_type": "code",
   "execution_count": null,
   "metadata": {
    "ExecuteTime": {
     "end_time": "2019-07-17T07:52:17.173988Z",
     "start_time": "2019-07-17T07:52:17.157763Z"
    }
   },
   "outputs": [],
   "source": [
    "user_id = \"user_id\"\n",
    "df[user_id].value_counts()[:10]"
   ]
  },
  {
   "cell_type": "markdown",
   "metadata": {},
   "source": [
    "### Plot the transaction activity\n",
    "\n",
    "Number of clients as a function of the number of transaction"
   ]
  },
  {
   "cell_type": "code",
   "execution_count": null,
   "metadata": {
    "ExecuteTime": {
     "end_time": "2019-07-17T07:52:17.268726Z",
     "start_time": "2019-07-17T07:52:17.178145Z"
    }
   },
   "outputs": [],
   "source": [
    "import matplotlib\n",
    "import matplotlib.pyplot as plt"
   ]
  },
  {
   "cell_type": "code",
   "execution_count": null,
   "metadata": {
    "ExecuteTime": {
     "end_time": "2019-07-17T07:52:17.759372Z",
     "start_time": "2019-07-17T07:52:17.272551Z"
    }
   },
   "outputs": [],
   "source": [
    "plt.figure()\n",
    "plt.hist(df[user_id].value_counts().values)\n",
    "plt.yscale('log')\n",
    "\n",
    "plt.title('Histogram of number of transactions')\n",
    "plt.xlabel('Number of Transaction')\n",
    "plt.ylabel('Number of clients')\n",
    "\n",
    "plt.show()"
   ]
  },
  {
   "cell_type": "markdown",
   "metadata": {
    "ExecuteTime": {
     "end_time": "2019-02-18T16:46:01.182040Z",
     "start_time": "2019-02-18T16:46:01.174720Z"
    }
   },
   "source": [
    "## View information relative to user_id = `4952196`"
   ]
  },
  {
   "cell_type": "code",
   "execution_count": null,
   "metadata": {
    "ExecuteTime": {
     "end_time": "2019-07-17T07:52:17.782846Z",
     "start_time": "2019-07-17T07:52:17.764147Z"
    }
   },
   "outputs": [],
   "source": [
    "df_root_11894868 = df[df[user_id]==4952196]\n",
    "df_root_11894868"
   ]
  },
  {
   "cell_type": "markdown",
   "metadata": {},
   "source": [
    "## Compute the total `amt` and total `nb` of position for each `user_id`"
   ]
  },
  {
   "cell_type": "markdown",
   "metadata": {},
   "source": [
    "### Find the proper columns to perform the groupby operation"
   ]
  },
  {
   "cell_type": "code",
   "execution_count": null,
   "metadata": {
    "ExecuteTime": {
     "end_time": "2019-07-17T07:52:17.792308Z",
     "start_time": "2019-07-17T07:52:17.787722Z"
    }
   },
   "outputs": [],
   "source": [
    "col_of_interest = ['amt', 'nb']\n",
    "col_id = [user_id]\n",
    "selected_cols = col_of_interest + col_id\n",
    "print(selected_cols)"
   ]
  },
  {
   "cell_type": "markdown",
   "metadata": {},
   "source": [
    "### Define the dataset of interest"
   ]
  },
  {
   "cell_type": "code",
   "execution_count": null,
   "metadata": {
    "ExecuteTime": {
     "end_time": "2019-07-17T07:52:17.804356Z",
     "start_time": "2019-07-17T07:52:17.795775Z"
    }
   },
   "outputs": [],
   "source": [
    "df_interest = df[selected_cols]"
   ]
  },
  {
   "cell_type": "markdown",
   "metadata": {},
   "source": [
    "### Compute the sum on a groupby sample"
   ]
  },
  {
   "cell_type": "code",
   "execution_count": null,
   "metadata": {
    "ExecuteTime": {
     "end_time": "2019-07-17T07:52:17.827712Z",
     "start_time": "2019-07-17T07:52:17.808816Z"
    }
   },
   "outputs": [],
   "source": [
    "df_sum = df_interest.groupby(user_id).sum()\n",
    "df_sum.head(n=3)"
   ]
  },
  {
   "cell_type": "markdown",
   "metadata": {},
   "source": [
    "### View information for user_id = `347850`"
   ]
  },
  {
   "cell_type": "code",
   "execution_count": null,
   "metadata": {
    "ExecuteTime": {
     "end_time": "2019-07-17T07:52:17.849077Z",
     "start_time": "2019-07-17T07:52:17.832287Z"
    }
   },
   "outputs": [],
   "source": [
    "user_id_1 = 347850\n",
    "df[df[user_id]==user_id_1]"
   ]
  },
  {
   "cell_type": "markdown",
   "metadata": {
    "ExecuteTime": {
     "end_time": "2019-02-18T20:18:34.964328Z",
     "start_time": "2019-02-18T20:18:34.960246Z"
    }
   },
   "source": [
    "### View information for user_id = `4952196`"
   ]
  },
  {
   "cell_type": "markdown",
   "metadata": {},
   "source": [
    "#### View raw information"
   ]
  },
  {
   "cell_type": "code",
   "execution_count": null,
   "metadata": {
    "ExecuteTime": {
     "end_time": "2019-07-17T07:52:17.866681Z",
     "start_time": "2019-07-17T07:52:17.853375Z"
    }
   },
   "outputs": [],
   "source": [
    "user_id_2 = 4952196\n",
    "df[df[user_id]==user_id_2]"
   ]
  },
  {
   "cell_type": "markdown",
   "metadata": {},
   "source": [
    "#### View aggregated information"
   ]
  },
  {
   "cell_type": "code",
   "execution_count": null,
   "metadata": {
    "ExecuteTime": {
     "end_time": "2019-07-17T07:52:17.884670Z",
     "start_time": "2019-07-17T07:52:17.868588Z"
    }
   },
   "outputs": [],
   "source": [
    "df_sum[df_sum.index==user_id_2]"
   ]
  },
  {
   "cell_type": "markdown",
   "metadata": {},
   "source": [
    "You should get the error:\n",
    "```python\n",
    "KeyError: user_id\n",
    "```\n",
    "\n",
    "The aggregated dataframe foes not have user_id as a key but as index.\n",
    "\n",
    "user_id has to be reset as an index in order to do the search"
   ]
  },
  {
   "cell_type": "markdown",
   "metadata": {},
   "source": [
    "#### Reindex aggregated dataFrame `df_sum`"
   ]
  },
  {
   "cell_type": "code",
   "execution_count": null,
   "metadata": {
    "ExecuteTime": {
     "end_time": "2019-07-17T07:52:17.904114Z",
     "start_time": "2019-07-17T07:52:17.888569Z"
    }
   },
   "outputs": [],
   "source": [
    "df_sum_reindex = df_sum.reset_index()\n",
    "df_sum_reindex.head(n=3)"
   ]
  },
  {
   "cell_type": "markdown",
   "metadata": {},
   "source": [
    "#### Compare results"
   ]
  },
  {
   "cell_type": "code",
   "execution_count": null,
   "metadata": {
    "ExecuteTime": {
     "end_time": "2019-07-17T07:52:17.917206Z",
     "start_time": "2019-07-17T07:52:17.907590Z"
    }
   },
   "outputs": [],
   "source": [
    "df_sum_reindex[df_sum_reindex[user_id]==4952196]"
   ]
  },
  {
   "cell_type": "code",
   "execution_count": null,
   "metadata": {
    "ExecuteTime": {
     "end_time": "2019-07-17T07:52:17.935635Z",
     "start_time": "2019-07-17T07:52:17.920058Z"
    }
   },
   "outputs": [],
   "source": [
    "df[df[user_id]==user_id_2]"
   ]
  },
  {
   "cell_type": "code",
   "execution_count": null,
   "metadata": {
    "ExecuteTime": {
     "end_time": "2019-07-17T07:52:17.949211Z",
     "start_time": "2019-07-17T07:52:17.940008Z"
    }
   },
   "outputs": [],
   "source": [
    "df[df[user_id]==user_id_2]['amt'].sum()"
   ]
  },
  {
   "cell_type": "code",
   "execution_count": null,
   "metadata": {
    "ExecuteTime": {
     "end_time": "2019-07-17T07:52:17.961979Z",
     "start_time": "2019-07-17T07:52:17.953312Z"
    }
   },
   "outputs": [],
   "source": [
    "df[df[user_id]==user_id_2]['nb'].sum()"
   ]
  },
  {
   "cell_type": "markdown",
   "metadata": {},
   "source": [
    "***"
   ]
  },
  {
   "cell_type": "markdown",
   "metadata": {},
   "source": [
    "# Exercise\n",
    "\n",
    "Aggregate values using the `item_id` as a groupbykey.\n",
    "\n",
    "Make aggregation using the `mean` `max` and `std` function."
   ]
  },
  {
   "cell_type": "markdown",
   "metadata": {
    "ExecuteTime": {
     "end_time": "2019-02-18T20:25:23.553772Z",
     "start_time": "2019-02-18T20:25:23.543658Z"
    }
   },
   "source": [
    "***"
   ]
  },
  {
   "cell_type": "markdown",
   "metadata": {},
   "source": [
    "# Bonus\n",
    "\n",
    "How would you find the most common `PositionID` for each `RootID`."
   ]
  },
  {
   "cell_type": "markdown",
   "metadata": {},
   "source": [
    "***"
   ]
  }
 ],
 "metadata": {
  "kernelspec": {
   "display_name": "Python 2",
   "language": "python",
   "name": "python2"
  },
  "language_info": {
   "codemirror_mode": {
    "name": "ipython",
    "version": 2
   },
   "file_extension": ".py",
   "mimetype": "text/x-python",
   "name": "python",
   "nbconvert_exporter": "python",
   "pygments_lexer": "ipython2",
   "version": "2.7.15rc1"
  },
  "toc": {
   "base_numbering": 1,
   "nav_menu": {
    "height": "254px",
    "width": "311px"
   },
   "number_sections": true,
   "sideBar": true,
   "skip_h1_title": false,
   "title_cell": "Table of Contents",
   "title_sidebar": "Contents",
   "toc_cell": true,
   "toc_position": {
    "height": "calc(100% - 180px)",
    "left": "10px",
    "top": "150px",
    "width": "341px"
   },
   "toc_section_display": true,
   "toc_window_display": true
  }
 },
 "nbformat": 4,
 "nbformat_minor": 2
}
