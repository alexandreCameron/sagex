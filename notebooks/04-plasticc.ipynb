{
 "cells": [
  {
   "cell_type": "markdown",
   "metadata": {
    "ExecuteTime": {
     "end_time": "2019-07-11T17:20:23.111348Z",
     "start_time": "2019-07-11T17:20:23.105107Z"
    }
   },
   "source": [
    "# Exploring the PLAsTiCC competition\n",
    "\n",
    "First step in a kaggle competition dataset\n",
    "\n",
    "https://www.kaggle.com/c/PLAsTiCC-2018/"
   ]
  },
  {
   "cell_type": "markdown",
   "metadata": {},
   "source": [
    "1. File Descriptions\n",
    "\n",
    "    * data_note: Start here for a more extensive context than we can provide in this space. You'll get helpful background on both this dataset and the relevant astronomy. This is also available on arxiv.org. We've also posted kernels with additional context about the relevant astronomy and the approaches astronomers have taken in the past.\n",
    "    * [training/test]_set_metadata: Information about objects in the that doesn't change over time, like the coordinates of the object.\n",
    "    * [training/test]_set: Time series of observations of the objects. Maps to the metadata via object_id.\n",
    "    * test_set_sample: The first million rows of the test set.\n",
    "    * sample_submission: A valid submission file. You can submit probabilities of precision float64, but we highly recommend sticking to float16 for your initial iterations to minimize upload time.\n",
    "\n",
    "2. Metadata File Column Descriptions\n",
    "\n",
    "    * object_id: unique object identifier. Int32\n",
    "    * ra: right ascension, sky coordinate: co-longitude in degrees. Float32\n",
    "    * decl: declination, sky coordinate: co-latitude in degrees. Float32\n",
    "    * gal_l: galactic longitude in degrees. Float32\n",
    "    * gal_b: galactic latitude in degrees. Float32\n",
    "    * ddf: A flag to identify the object as coming from the DDF survey area (with value DDF = 1 for the DDF, DDF = 0 for the WFD survey). Note that while the DDF fields are contained within the full WFD survey area, the DDF fluxes have significantly smaller uncertainties. Boolean\n",
    "    * hostgal_specz: the spectroscopic redshift of the source. This is an extremely accurate measure of redshift, available for the training set and a small fraction of the test set. Float32\n",
    "    * hostgal_photoz: The photometric redshift of the host galaxy of the astronomical source. While this is meant to be a proxy for hostgal_specz, there can be large differences between the two and should be regarded as a far less accurate version of hostgal_specz. Float32\n",
    "    * hostgal_photoz_err: The uncertainty on the hostgal_photoz based on LSST survey projections. Float32\n",
    "    * distmod: The distance to the source calculated from hostgal_photoz and using general relativity. Float32\n",
    "    * mwebv: MW E(B-V). this ‘extinction’ of light is a property of the Milky Way (MW) dust along the line of sight to the astronomical source, and is thus a function of the sky coordinates of the source ra, decl. This is used to determine a passband dependent dimming and redenning of light from astronomical sources as described in subsection 2.1, and based on the Schlafly et al. (2011) and Schlegel et al. (1998) dust models. Float32\n",
    "    * target: The class of the astronomical source. This is provided in the training data. Correctly determining the target (correctly assigning classification probabilities to the objects) is the ‘goal’ of the classification challenge for the test data. Note that there is one class in the test set that does not occur in the training set: class_99 serves as an \"other\" class for objects that don't belong in any of the 14 classes in the training set. Int8\n",
    "\n",
    "3. Data File Column Descriptions\n",
    "\n",
    "    * object_id: Foreign key with the metadata. Int32\n",
    "    * mjd: the time in Modified Julian Date (MJD) of the observation. Can be read as days since November 17, 1858. Can be converted to Unix epoch time with the formula unix_time = (MJD−40587)×86400. Float64\n",
    "    * passband: The specific LSST passband integer, such that u, g, r, i, z, Y = 0, 1, 2, 3, 4, 5 in which it was viewed. Int8\n",
    "    * flux: the measured flux (brightness) in the passband of observation as listed in the passband column. These values have already been corrected for dust extinction (mwebv), though heavily extincted objects will have larger uncertainties (flux_err) in spite of the correction. Float32\n",
    "    * flux_err: the uncertainty on the measurement of the flux listed above. Float32\n",
    "    * detected: If 1, the object's brightness is significantly different at the 3-sigma level relative to the reference template. Only objects with at least 2 detections are included in the dataset. Boolean\n",
    "\n",
    "4. Caveats: A few caveats about the light-curve data are as follows:\n",
    "\n",
    "    * Data gaps: Different passbands are taken at different times, sometimes many days apart.\n",
    "    * Galactic vs extragalactic: The given redshift for objects in our own galaxy is given as zero.\n",
    "    * Negative Flux: Due to statistical fluctuations (of e.g. the sky brightness) and the way the brightness is estimated, the flux may be negative for dim sources, where the true flux is close to zero. Second, if the pre-survey image actually contains a flux brighter than its true ‘zero’, this can lead to a negative flux when the difference is computed.\n"
   ]
  },
  {
   "cell_type": "markdown",
   "metadata": {},
   "source": [
    "**Loss function**\n",
    "\n",
    "Submissions are evaluated using a weighted multi-class logarithmic loss. The overall effect is such that each class is roughly equally important for the final score.\n",
    "\n",
    "Each object has been labeled with one type. For each object, you must submit a set of predicted probabilities (one for every category). The formula is then:\n",
    "\n",
    "```\n",
    "Log Loss=−⎛⎝∑Mi=1wi⋅∑Nij=1yijNi⋅lnpij∑Mi=1wi⎞⎠\n",
    "```\n",
    "\n",
    "where: \n",
    "1. N is the number of objects in the class set,\n",
    "2. M is the number of classes,  \n",
    "3. ln is the natural logarithm, \n",
    "4. yij is 1 if observation (i) belongs to class (j) and 0 otherwise, \n",
    "5. pij is the predicted probability that observation i belongs to class j .\n",
    "\n",
    "The submitted probabilities for a given object are not required to sum to one because they are rescaled prior to being scored (each row is divided by the row sum). In order to avoid the extremes of the log function, predicted probabilities are replaced with max(min(p,1−10^−15),10^−15) .\n",
    "\n",
    "**Submission File**\n",
    "\n",
    "For each object ID in the test set, you must predict a probability for each of the different possible classes. The file should contain a header and have the following format:\n",
    "\n",
    "```\n",
    "object_id,class_6,class_15,class_16,class_42,class_52,class_53,class_62,class_64,class_65,class_67,class_88,class_90,class_92,class_95,class_99\n",
    "13,0,0.1,0,0.1,0,0.3,0,0,0,0,0,0.5,0,0,0\n",
    "14,0,0,0,0,0,0,0,0,0,0,0,1,0,0,0\n",
    "17,0.75,0.23,0,0,0.01,0,0,0,0,0.01,0,0,0,0,0\n",
    "etc.\n",
    "```"
   ]
  },
  {
   "cell_type": "markdown",
   "metadata": {},
   "source": [
    "**Starter kit of the organizers:**\n",
    "\n",
    "https://www.kaggle.com/michaelapers/the-plasticc-astronomy-starter-kit"
   ]
  },
  {
   "cell_type": "markdown",
   "metadata": {},
   "source": [
    "**Full archive description**\n",
    "\n",
    "https://arxiv.org/pdf/1810.00001.pdf\n",
    "\n",
    "For a PLAsTiCCentry to be valid, it will have to include probabilities for each class andastronomical source, i.e. an entry cannot leave out probabilities on any source, or class. To win the challenge, all entries should be valid and minimize the PLAsTiCC metric score. The metric used for the challenge is a weighted log-loss metric:\n",
    "\n",
    "```\n",
    "L= −∑^{M}_{j= 1} wj · [ ∑^{N}_{i=1} (1 / Nj) τ_{i,j} ln(Pij) / ∑^{M}_{j=1} wj ] ,(1)\n",
    "```\n",
    "\n",
    "where\n",
    "\n",
    "`τ_{i,j}= 1` if the `i`th object comes from the `j`th class and `0` otherwise, \n",
    "\n",
    "and `Nj` is the number of objects in any given class `j`, \n",
    "\n",
    "and `wj` are individual weights per class which reflect relative contribution to the overall metric (depending on e.g. how desireable it is to have objects in class `j` classified correctly). \n",
    "\n",
    "**These wj are hidden to the participants of the challenge.** The averaging over Nj reflects that PLAsTiCC is designed to reward those who classify all objects well on average, rather than focusing on one particular class. This is discussed more in an accompanying paper (see Malz,  Hloˇzeket al.2018 which isreleased with this note)."
   ]
  },
  {
   "cell_type": "markdown",
   "metadata": {},
   "source": [
    "## Setings\n",
    "### Notebook configuration"
   ]
  },
  {
   "cell_type": "code",
   "execution_count": null,
   "metadata": {
    "ExecuteTime": {
     "end_time": "2019-07-25T15:55:00.373654Z",
     "start_time": "2019-07-25T15:55:00.024999Z"
    }
   },
   "outputs": [],
   "source": [
    "%load_ext autoreload\n",
    "%autoreload 2\n",
    "%matplotlib inline"
   ]
  },
  {
   "cell_type": "markdown",
   "metadata": {
    "ExecuteTime": {
     "end_time": "2019-07-11T17:23:24.456714Z",
     "start_time": "2019-07-11T17:23:24.446198Z"
    }
   },
   "source": [
    "### Packages"
   ]
  },
  {
   "cell_type": "code",
   "execution_count": null,
   "metadata": {
    "ExecuteTime": {
     "end_time": "2019-07-25T15:55:01.466841Z",
     "start_time": "2019-07-25T15:55:00.661205Z"
    }
   },
   "outputs": [],
   "source": [
    "import os  # manage path and os interaction\n",
    "import numpy as np  # manage array and math operation\n",
    "import pandas as pd  # manage table\n",
    "\n",
    "import matplotlib as mpl  # plot data\n",
    "import matplotlib.pyplot as plt  # plot data\n",
    "\n",
    "import pandas_profiling"
   ]
  },
  {
   "cell_type": "code",
   "execution_count": null,
   "metadata": {
    "ExecuteTime": {
     "end_time": "2019-07-25T15:55:01.662239Z",
     "start_time": "2019-07-25T15:55:01.468315Z"
    }
   },
   "outputs": [],
   "source": [
    "from sklearn import preprocessing\n",
    "from sklearn.model_selection import train_test_split"
   ]
  },
  {
   "cell_type": "markdown",
   "metadata": {},
   "source": [
    "### Boolean execution"
   ]
  },
  {
   "cell_type": "code",
   "execution_count": null,
   "metadata": {
    "ExecuteTime": {
     "end_time": "2019-07-25T15:55:01.685793Z",
     "start_time": "2019-07-25T15:55:01.664377Z"
    }
   },
   "outputs": [],
   "source": [
    "create_profile = False\n",
    "load_set = False"
   ]
  },
  {
   "cell_type": "markdown",
   "metadata": {
    "ExecuteTime": {
     "end_time": "2019-07-11T17:31:04.281549Z",
     "start_time": "2019-07-11T17:31:04.216551Z"
    }
   },
   "source": [
    "## Import data"
   ]
  },
  {
   "cell_type": "code",
   "execution_count": null,
   "metadata": {
    "ExecuteTime": {
     "end_time": "2019-07-25T15:55:01.726795Z",
     "start_time": "2019-07-25T15:55:01.688122Z"
    }
   },
   "outputs": [],
   "source": [
    "data_path = '../data/PLAsTiCC-2018/'\n",
    "df_meta = pd.read_csv(data_path + 'training_set_metadata.csv')\n",
    "if create_profile:\n",
    "    profile_set = pandas_profiling.ProfileReport(df_set)\n",
    "    profile_set.to_file(output_file=\"plasticc_set_pandas_profile.html\")"
   ]
  },
  {
   "cell_type": "code",
   "execution_count": null,
   "metadata": {
    "ExecuteTime": {
     "end_time": "2019-07-25T15:55:01.792207Z",
     "start_time": "2019-07-25T15:55:01.769483Z"
    }
   },
   "outputs": [],
   "source": [
    "if load_set:\n",
    "    df_set = pd.read_csv(data_path + 'training_set.csv.zip', compression='zip')\n",
    "    if create_profile:\n",
    "        profile_meta = pandas_profiling.ProfileReport(df_meta)\n",
    "        profile_meta.to_file(output_file=\"plasticc_meta_pandas_profile.html\")"
   ]
  },
  {
   "cell_type": "markdown",
   "metadata": {
    "ExecuteTime": {
     "end_time": "2019-07-19T09:34:00.454952Z",
     "start_time": "2019-07-19T09:34:00.439936Z"
    }
   },
   "source": [
    "## First classification use meta data"
   ]
  },
  {
   "cell_type": "markdown",
   "metadata": {},
   "source": [
    "### Define meta data"
   ]
  },
  {
   "cell_type": "code",
   "execution_count": null,
   "metadata": {
    "ExecuteTime": {
     "end_time": "2019-07-25T15:55:02.352040Z",
     "start_time": "2019-07-25T15:55:02.331515Z"
    }
   },
   "outputs": [],
   "source": [
    "target_col = \"target\"\n",
    "id_col = \"object_id\"\n",
    "except_cols = [target_col, id_col]\n",
    "input_cols = [col for col in df_meta.columns if col not in except_cols]"
   ]
  },
  {
   "cell_type": "markdown",
   "metadata": {},
   "source": [
    "### Exploration"
   ]
  },
  {
   "cell_type": "code",
   "execution_count": null,
   "metadata": {
    "ExecuteTime": {
     "end_time": "2019-07-25T15:55:03.049272Z",
     "start_time": "2019-07-25T15:55:03.002668Z"
    }
   },
   "outputs": [],
   "source": [
    "df_meta.head()"
   ]
  },
  {
   "cell_type": "code",
   "execution_count": null,
   "metadata": {
    "ExecuteTime": {
     "end_time": "2019-07-25T15:55:03.171637Z",
     "start_time": "2019-07-25T15:55:03.154913Z"
    }
   },
   "outputs": [],
   "source": [
    "df_meta.isnull().sum()"
   ]
  },
  {
   "cell_type": "code",
   "execution_count": null,
   "metadata": {
    "ExecuteTime": {
     "end_time": "2019-07-25T15:55:03.336201Z",
     "start_time": "2019-07-25T15:55:03.313925Z"
    }
   },
   "outputs": [],
   "source": [
    "len(df_meta)"
   ]
  },
  {
   "cell_type": "code",
   "execution_count": null,
   "metadata": {
    "ExecuteTime": {
     "end_time": "2019-07-25T15:55:03.466265Z",
     "start_time": "2019-07-25T15:55:03.450079Z"
    }
   },
   "outputs": [],
   "source": [
    "df_meta[id_col].nunique()"
   ]
  },
  {
   "cell_type": "markdown",
   "metadata": {},
   "source": [
    "## Define X and y"
   ]
  },
  {
   "cell_type": "code",
   "execution_count": null,
   "metadata": {
    "ExecuteTime": {
     "end_time": "2019-07-25T15:55:03.738864Z",
     "start_time": "2019-07-25T15:55:03.722938Z"
    }
   },
   "outputs": [],
   "source": [
    "ids = df_meta[id_col]\n",
    "X = df_meta[input_cols]\n",
    "y = df_meta[target_col]"
   ]
  },
  {
   "cell_type": "markdown",
   "metadata": {},
   "source": [
    "## Split"
   ]
  },
  {
   "cell_type": "code",
   "execution_count": null,
   "metadata": {
    "ExecuteTime": {
     "end_time": "2019-07-25T15:55:04.328231Z",
     "start_time": "2019-07-25T15:55:04.286577Z"
    }
   },
   "outputs": [],
   "source": [
    "from sklearn.model_selection import StratifiedShuffleSplit\n",
    "\n",
    "sss = StratifiedShuffleSplit(n_splits=1, test_size=0.2, random_state=0)\n",
    "sss.get_n_splits(X, y)\n",
    "\n",
    "for train_index, test_index in sss.split(X, y):\n",
    "    X_train, X_test = X[X.index.isin(train_index)], X[X.index.isin(test_index)]\n",
    "    y_train, y_test = y[y.index.isin(train_index)], y[y.index.isin(test_index)]\n",
    "    ids_train, ids_test = ids[ids.index.isin(train_index)], ids[ids.index.isin(test_index)]"
   ]
  },
  {
   "cell_type": "markdown",
   "metadata": {},
   "source": [
    "### Check split"
   ]
  },
  {
   "cell_type": "code",
   "execution_count": null,
   "metadata": {
    "ExecuteTime": {
     "end_time": "2019-07-25T15:55:04.599343Z",
     "start_time": "2019-07-25T15:55:04.576645Z"
    }
   },
   "outputs": [],
   "source": [
    "np.sort(test_index)[:10]"
   ]
  },
  {
   "cell_type": "code",
   "execution_count": null,
   "metadata": {
    "ExecuteTime": {
     "end_time": "2019-07-25T15:55:04.874460Z",
     "start_time": "2019-07-25T15:55:04.851205Z"
    }
   },
   "outputs": [],
   "source": [
    "ids_test[:10].index.values"
   ]
  },
  {
   "cell_type": "code",
   "execution_count": null,
   "metadata": {
    "ExecuteTime": {
     "end_time": "2019-07-25T15:55:05.008422Z",
     "start_time": "2019-07-25T15:55:04.992911Z"
    }
   },
   "outputs": [],
   "source": [
    "all(np.sort(test_index)[:10] == ids_test[:10].index.values)"
   ]
  },
  {
   "cell_type": "markdown",
   "metadata": {},
   "source": [
    "### Process inputs with nan"
   ]
  },
  {
   "cell_type": "code",
   "execution_count": null,
   "metadata": {
    "ExecuteTime": {
     "end_time": "2019-07-25T15:55:05.338264Z",
     "start_time": "2019-07-25T15:55:05.323696Z"
    }
   },
   "outputs": [],
   "source": [
    "dist_mod_idx = X_train.columns.values.tolist().index('distmod')\n",
    "print(dist_mod_idx)\n",
    "print(\"check selection of columns. This will be need for the inputer\")\n",
    "print(X_train.columns[dist_mod_idx])"
   ]
  },
  {
   "cell_type": "markdown",
   "metadata": {},
   "source": [
    "### No nan distribution"
   ]
  },
  {
   "cell_type": "code",
   "execution_count": null,
   "metadata": {
    "ExecuteTime": {
     "end_time": "2019-07-25T15:55:05.878876Z",
     "start_time": "2019-07-25T15:55:05.649371Z"
    }
   },
   "outputs": [],
   "source": [
    "X_train[\"distmod\"].hist()"
   ]
  },
  {
   "cell_type": "markdown",
   "metadata": {},
   "source": [
    "### Possible replace value"
   ]
  },
  {
   "cell_type": "code",
   "execution_count": null,
   "metadata": {
    "ExecuteTime": {
     "end_time": "2019-07-25T15:55:06.067858Z",
     "start_time": "2019-07-25T15:55:06.048949Z"
    }
   },
   "outputs": [],
   "source": [
    "X_train[\"distmod\"].min()"
   ]
  },
  {
   "cell_type": "code",
   "execution_count": null,
   "metadata": {
    "ExecuteTime": {
     "end_time": "2019-07-25T15:55:06.276321Z",
     "start_time": "2019-07-25T15:55:06.249131Z"
    }
   },
   "outputs": [],
   "source": [
    "X_train[\"distmod\"].max()"
   ]
  },
  {
   "cell_type": "code",
   "execution_count": null,
   "metadata": {
    "ExecuteTime": {
     "end_time": "2019-07-25T15:55:06.450187Z",
     "start_time": "2019-07-25T15:55:06.434313Z"
    }
   },
   "outputs": [],
   "source": [
    "X_train[\"distmod\"].mean()"
   ]
  },
  {
   "cell_type": "code",
   "execution_count": null,
   "metadata": {
    "ExecuteTime": {
     "end_time": "2019-07-25T15:55:06.633793Z",
     "start_time": "2019-07-25T15:55:06.618326Z"
    }
   },
   "outputs": [],
   "source": [
    "X_train[\"distmod\"].median()"
   ]
  },
  {
   "cell_type": "markdown",
   "metadata": {},
   "source": [
    "### NaN indicator"
   ]
  },
  {
   "cell_type": "code",
   "execution_count": null,
   "metadata": {
    "ExecuteTime": {
     "end_time": "2019-07-25T15:55:07.068840Z",
     "start_time": "2019-07-25T15:55:06.970833Z"
    }
   },
   "outputs": [],
   "source": [
    "X_train[\"distmod_NaN_indicator\"] = X_train[\"distmod\"].isnull().astype(int)\n",
    "X_test[\"distmod_NaN_indicator\"] = X_test[\"distmod\"].isnull().astype(int)"
   ]
  },
  {
   "cell_type": "markdown",
   "metadata": {},
   "source": [
    "### Imputer (classifier)"
   ]
  },
  {
   "cell_type": "code",
   "execution_count": null,
   "metadata": {
    "ExecuteTime": {
     "end_time": "2019-07-25T15:55:07.386575Z",
     "start_time": "2019-07-25T15:55:07.361350Z"
    }
   },
   "outputs": [],
   "source": [
    "from sklearn.experimental import enable_iterative_imputer\n",
    "from sklearn.impute import IterativeImputer\n",
    "\n",
    "imp = IterativeImputer(max_iter=100, random_state=0)"
   ]
  },
  {
   "cell_type": "code",
   "execution_count": null,
   "metadata": {
    "ExecuteTime": {
     "end_time": "2019-07-25T15:55:07.604313Z",
     "start_time": "2019-07-25T15:55:07.529826Z"
    }
   },
   "outputs": [],
   "source": [
    "imp.fit(X_train)"
   ]
  },
  {
   "cell_type": "code",
   "execution_count": null,
   "metadata": {
    "ExecuteTime": {
     "end_time": "2019-07-25T15:55:07.770373Z",
     "start_time": "2019-07-25T15:55:07.745742Z"
    }
   },
   "outputs": [],
   "source": [
    "new_vals = imp.transform(X_train)[:,dist_mod_idx]"
   ]
  },
  {
   "cell_type": "code",
   "execution_count": null,
   "metadata": {
    "ExecuteTime": {
     "end_time": "2019-07-25T15:55:08.266916Z",
     "start_time": "2019-07-25T15:55:07.937870Z"
    }
   },
   "outputs": [],
   "source": [
    "plt.figure()\n",
    "\n",
    "plt.hist(X_train[X_train[\"distmod_NaN_indicator\"].values == 0][\"distmod\"],\n",
    "         alpha=0.6, label=\"True values start\", edgecolor='black', linewidth=5)\n",
    "plt.hist(new_vals[X_train[\"distmod_NaN_indicator\"].values == 0],\n",
    "         alpha=0.8, label=\"True values\")\n",
    "\n",
    "plt.hist(new_vals[X_train[\"distmod_NaN_indicator\"].values == 1],\n",
    "         label=\"Replaced values\")\n",
    "\n",
    "plt.legend()\n",
    "\n",
    "plt.show()"
   ]
  },
  {
   "cell_type": "markdown",
   "metadata": {},
   "source": [
    "### Catboost"
   ]
  },
  {
   "cell_type": "code",
   "execution_count": null,
   "metadata": {
    "ExecuteTime": {
     "end_time": "2019-07-25T15:55:08.425032Z",
     "start_time": "2019-07-25T15:55:08.344861Z"
    }
   },
   "outputs": [],
   "source": [
    "from catboost import CatBoostRegressor"
   ]
  },
  {
   "cell_type": "code",
   "execution_count": null,
   "metadata": {
    "ExecuteTime": {
     "end_time": "2019-07-25T15:55:08.675385Z",
     "start_time": "2019-07-25T15:55:08.648818Z"
    },
    "scrolled": false
   },
   "outputs": [],
   "source": [
    "not_distmod_cols = [col for col in X_train.columns\n",
    "                    if col not in [\"distmod_NaN_indicator\", \"distmod\"]]\n",
    "\n",
    "X_distmod_train = X_train[X_train[\"distmod_NaN_indicator\"].values == 0][not_distmod_cols]\n",
    "y_distmod_train = X_train[X_train[\"distmod_NaN_indicator\"].values == 0][\"distmod\"]\n",
    "\n",
    "X_distmod_test = X_train[X_train[\"distmod_NaN_indicator\"].values == 1][not_distmod_cols]\n",
    "y_distmod_test = X_train[X_train[\"distmod_NaN_indicator\"].values == 1][\"distmod\"]"
   ]
  },
  {
   "cell_type": "markdown",
   "metadata": {},
   "source": [
    "#### Catboost check overfit"
   ]
  },
  {
   "cell_type": "code",
   "execution_count": null,
   "metadata": {
    "ExecuteTime": {
     "end_time": "2019-07-25T15:55:09.415724Z",
     "start_time": "2019-07-25T15:55:09.048906Z"
    }
   },
   "outputs": [],
   "source": [
    "reg = CatBoostRegressor(l2_leaf_reg=1e-6, iterations=300)\n",
    "reg.fit(X_distmod_train[:100], y_distmod_train[:100], plot=True, logging_level=\"Silent\")"
   ]
  },
  {
   "cell_type": "code",
   "execution_count": null,
   "metadata": {
    "ExecuteTime": {
     "end_time": "2019-07-25T15:55:09.839604Z",
     "start_time": "2019-07-25T15:55:09.529497Z"
    }
   },
   "outputs": [],
   "source": [
    "plt.plot()\n",
    "plt.scatter(y_distmod_train[100:], reg.predict(X_distmod_train[100:]).flatten()- y_distmod_train[100:])\n",
    "plt.show()"
   ]
  },
  {
   "cell_type": "code",
   "execution_count": null,
   "metadata": {
    "ExecuteTime": {
     "end_time": "2019-07-25T15:55:12.451663Z",
     "start_time": "2019-07-25T15:55:09.841851Z"
    }
   },
   "outputs": [],
   "source": [
    "reg_1 = CatBoostRegressor(l2_leaf_reg=1e-5, iterations=500)\n",
    "reg_1.fit(X_distmod_train, y_distmod_train, plot=True, logging_level=\"Silent\")"
   ]
  },
  {
   "cell_type": "code",
   "execution_count": null,
   "metadata": {
    "ExecuteTime": {
     "end_time": "2019-07-25T15:55:12.488589Z",
     "start_time": "2019-07-25T15:55:12.452823Z"
    }
   },
   "outputs": [],
   "source": [
    "new_vals_catboost = reg_1.predict(X_distmod_test)"
   ]
  },
  {
   "cell_type": "code",
   "execution_count": null,
   "metadata": {
    "ExecuteTime": {
     "end_time": "2019-07-25T15:55:12.762148Z",
     "start_time": "2019-07-25T15:55:12.492577Z"
    }
   },
   "outputs": [],
   "source": [
    "plt.figure()\n",
    "\n",
    "plt.hist(X_train[X_train[\"distmod_NaN_indicator\"].values == 0][\"distmod\"],\n",
    "         alpha=0.6, label=\"True values start\", edgecolor='black', linewidth=5)\n",
    "plt.hist(new_vals[X_train[\"distmod_NaN_indicator\"].values == 0],\n",
    "         alpha=0.8, label=\"True values\")\n",
    "\n",
    "plt.hist(new_vals[X_train[\"distmod_NaN_indicator\"].values == 1],\n",
    "         label=\"Replaced values\")\n",
    "\n",
    "plt.hist(new_vals_catboost, label=\"Catboost fillna\")\n",
    "\n",
    "plt.legend()\n",
    "\n",
    "plt.show()"
   ]
  },
  {
   "cell_type": "markdown",
   "metadata": {
    "ExecuteTime": {
     "end_time": "2019-07-24T13:53:08.514316Z",
     "start_time": "2019-07-24T13:53:08.486284Z"
    }
   },
   "source": [
    "### Fill missing values and train dataset"
   ]
  },
  {
   "cell_type": "markdown",
   "metadata": {},
   "source": [
    "#### Check index of test before replacing"
   ]
  },
  {
   "cell_type": "code",
   "execution_count": null,
   "metadata": {
    "ExecuteTime": {
     "end_time": "2019-07-25T15:55:12.810233Z",
     "start_time": "2019-07-25T15:55:12.793085Z"
    }
   },
   "outputs": [],
   "source": [
    "X_distmod_test.index.values"
   ]
  },
  {
   "cell_type": "code",
   "execution_count": null,
   "metadata": {
    "ExecuteTime": {
     "end_time": "2019-07-25T15:55:12.997672Z",
     "start_time": "2019-07-25T15:55:12.978880Z"
    }
   },
   "outputs": [],
   "source": [
    "X_train[X_train[\"distmod\"].isnull()][\"distmod\"].index.values"
   ]
  },
  {
   "cell_type": "code",
   "execution_count": null,
   "metadata": {
    "ExecuteTime": {
     "end_time": "2019-07-25T15:55:13.238824Z",
     "start_time": "2019-07-25T15:55:13.213253Z"
    }
   },
   "outputs": [],
   "source": [
    "X_distmod_test.index.values == X_train[X_train[\"distmod\"].isnull()][\"distmod\"].index.values"
   ]
  },
  {
   "cell_type": "code",
   "execution_count": null,
   "metadata": {
    "ExecuteTime": {
     "end_time": "2019-07-25T15:55:13.389639Z",
     "start_time": "2019-07-25T15:55:13.370930Z"
    }
   },
   "outputs": [],
   "source": [
    "all(X_distmod_test.index.values == X_train[X_train[\"distmod\"].isnull()][\"distmod\"].index.values)"
   ]
  },
  {
   "cell_type": "markdown",
   "metadata": {},
   "source": [
    "#### Replace missing values in train"
   ]
  },
  {
   "cell_type": "code",
   "execution_count": null,
   "metadata": {
    "ExecuteTime": {
     "end_time": "2019-07-25T15:55:13.784772Z",
     "start_time": "2019-07-25T15:55:13.721194Z"
    }
   },
   "outputs": [],
   "source": [
    "X_train.loc[X_train[\"distmod\"].isnull(), \"distmod\"] = new_vals_catboost"
   ]
  },
  {
   "cell_type": "code",
   "execution_count": null,
   "metadata": {
    "ExecuteTime": {
     "end_time": "2019-07-25T15:55:14.160530Z",
     "start_time": "2019-07-25T15:55:14.144867Z"
    }
   },
   "outputs": [],
   "source": [
    "X_train[X_train[\"distmod_NaN_indicator\"].values == 1][\"distmod\"].max()"
   ]
  },
  {
   "cell_type": "code",
   "execution_count": null,
   "metadata": {
    "ExecuteTime": {
     "end_time": "2019-07-25T15:55:14.797884Z",
     "start_time": "2019-07-25T15:55:14.594598Z"
    }
   },
   "outputs": [],
   "source": [
    "plt.figure()\n",
    "\n",
    "plt.hist(X_train[\"distmod\"],\n",
    "         label=\"All\")\n",
    "\n",
    "plt.hist(X_train[X_train[\"distmod_NaN_indicator\"].values == 0][\"distmod\"],\n",
    "         label=\"Initial\")\n",
    "\n",
    "plt.hist(X_train[X_train[\"distmod_NaN_indicator\"].values == 1][\"distmod\"],\n",
    "         label=\"Applied to NaN\")\n",
    "\n",
    "\n",
    "plt.legend()\n",
    "\n",
    "plt.show()"
   ]
  },
  {
   "cell_type": "markdown",
   "metadata": {},
   "source": [
    "#### Replace missing values in test"
   ]
  },
  {
   "cell_type": "code",
   "execution_count": null,
   "metadata": {
    "ExecuteTime": {
     "end_time": "2019-07-25T15:55:15.645004Z",
     "start_time": "2019-07-25T15:55:15.572923Z"
    }
   },
   "outputs": [],
   "source": [
    "X_distmod_test_test = X_test[X_test[\"distmod_NaN_indicator\"].values == 1][not_distmod_cols]\n",
    "new_vals_catboost_test = reg_1.predict(X_distmod_test_test)\n",
    "X_test.loc[X_test[\"distmod\"].isnull(), \"distmod\"] = new_vals_catboost_test"
   ]
  },
  {
   "cell_type": "markdown",
   "metadata": {},
   "source": [
    "### Train catboost"
   ]
  },
  {
   "cell_type": "code",
   "execution_count": null,
   "metadata": {
    "ExecuteTime": {
     "end_time": "2019-07-25T15:55:16.277960Z",
     "start_time": "2019-07-25T15:55:16.253618Z"
    }
   },
   "outputs": [],
   "source": [
    "from catboost import CatBoostClassifier"
   ]
  },
  {
   "cell_type": "code",
   "execution_count": null,
   "metadata": {
    "ExecuteTime": {
     "end_time": "2019-07-25T16:00:08.137221Z",
     "start_time": "2019-07-25T16:00:08.112498Z"
    }
   },
   "outputs": [],
   "source": [
    "class_counts = y.value_counts().to_dict()\n",
    "display(class_counts)"
   ]
  },
  {
   "cell_type": "code",
   "execution_count": null,
   "metadata": {
    "ExecuteTime": {
     "end_time": "2019-07-25T16:01:04.633086Z",
     "start_time": "2019-07-25T16:01:04.604314Z"
    }
   },
   "outputs": [],
   "source": [
    "sorted_class, sorted_counts = zip(*sorted(zip(class_counts.keys(), class_counts.values())))\n",
    "class_weights = np.array([1. / count for count in sorted_counts])\n",
    "print(sorted_class)\n",
    "print(sorted_counts)\n",
    "print(class_weights)"
   ]
  },
  {
   "cell_type": "code",
   "execution_count": null,
   "metadata": {
    "ExecuteTime": {
     "end_time": "2019-07-25T16:32:12.060873Z",
     "start_time": "2019-07-25T16:32:11.864878Z"
    }
   },
   "outputs": [],
   "source": [
    "clf_1 = CatBoostClassifier(loss_function='MultiClass',\n",
    "                           iterations=3,\n",
    "                           learning_rate=1e-2,\n",
    "                           class_weights=class_weights)\n",
    "clf_1.fit(X_train, y_train, plot=True, logging_level='Silent')"
   ]
  },
  {
   "cell_type": "markdown",
   "metadata": {},
   "source": [
    "### Evaluate on test"
   ]
  },
  {
   "cell_type": "code",
   "execution_count": null,
   "metadata": {
    "ExecuteTime": {
     "end_time": "2019-07-25T16:32:13.354290Z",
     "start_time": "2019-07-25T16:32:13.330112Z"
    }
   },
   "outputs": [],
   "source": [
    "y_pred = clf_1.predict_proba(X_test)"
   ]
  },
  {
   "cell_type": "code",
   "execution_count": null,
   "metadata": {
    "ExecuteTime": {
     "end_time": "2019-07-25T16:32:14.098806Z",
     "start_time": "2019-07-25T16:32:14.078002Z"
    }
   },
   "outputs": [],
   "source": [
    "from sklearn.metrics import log_loss"
   ]
  },
  {
   "cell_type": "code",
   "execution_count": null,
   "metadata": {
    "ExecuteTime": {
     "end_time": "2019-07-25T16:32:16.323307Z",
     "start_time": "2019-07-25T16:32:16.307607Z"
    }
   },
   "outputs": [],
   "source": [
    "log_loss(y_test, y_pred)"
   ]
  },
  {
   "cell_type": "markdown",
   "metadata": {},
   "source": [
    "## Simple aggregation of spectral information"
   ]
  },
  {
   "cell_type": "code",
   "execution_count": null,
   "metadata": {},
   "outputs": [],
   "source": []
  },
  {
   "cell_type": "markdown",
   "metadata": {},
   "source": [
    "## Beyond\n",
    "\n",
    "1. Pay attention to the definition of the target and the specific case\n",
    "\n",
    "2. use your imagination and feature engineering\n",
    "\n",
    "3. cross validation\n",
    "\n",
    "4. ensemble"
   ]
  },
  {
   "cell_type": "markdown",
   "metadata": {},
   "source": [
    "# End of script"
   ]
  }
 ],
 "metadata": {
  "kernelspec": {
   "display_name": "venv3_plasticc",
   "language": "python",
   "name": "venv3_plasticc"
  },
  "language_info": {
   "codemirror_mode": {
    "name": "ipython",
    "version": 3
   },
   "file_extension": ".py",
   "mimetype": "text/x-python",
   "name": "python",
   "nbconvert_exporter": "python",
   "pygments_lexer": "ipython3",
   "version": "3.6.8"
  },
  "toc": {
   "base_numbering": 1,
   "nav_menu": {},
   "number_sections": true,
   "sideBar": true,
   "skip_h1_title": false,
   "title_cell": "Table of Contents",
   "title_sidebar": "Contents",
   "toc_cell": false,
   "toc_position": {},
   "toc_section_display": true,
   "toc_window_display": false
  }
 },
 "nbformat": 4,
 "nbformat_minor": 2
}
