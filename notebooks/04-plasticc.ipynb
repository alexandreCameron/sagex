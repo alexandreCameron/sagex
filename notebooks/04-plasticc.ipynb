{
 "cells": [
  {
   "cell_type": "markdown",
   "metadata": {
    "ExecuteTime": {
     "end_time": "2019-07-11T17:20:23.111348Z",
     "start_time": "2019-07-11T17:20:23.105107Z"
    }
   },
   "source": [
    "# Exploring the PLAsTiCC competition\n",
    "\n",
    "First step in a kaggle competition dataset\n",
    "\n",
    "https://www.kaggle.com/c/PLAsTiCC-2018/"
   ]
  },
  {
   "cell_type": "markdown",
   "metadata": {},
   "source": [
    "1. File Descriptions\n",
    "\n",
    "    * data_note: Start here for a more extensive context than we can provide in this space. You'll get helpful background on both this dataset and the relevant astronomy. This is also available on arxiv.org. We've also posted kernels with additional context about the relevant astronomy and the approaches astronomers have taken in the past.\n",
    "    * [training/test]_set_metadata: Information about objects in the that doesn't change over time, like the coordinates of the object.\n",
    "    * [training/test]_set: Time series of observations of the objects. Maps to the metadata via object_id.\n",
    "    * test_set_sample: The first million rows of the test set.\n",
    "    * sample_submission: A valid submission file. You can submit probabilities of precision float64, but we highly recommend sticking to float16 for your initial iterations to minimize upload time.\n",
    "\n",
    "2. Metadata File Column Descriptions\n",
    "\n",
    "    * object_id: unique object identifier. Int32\n",
    "    * ra: right ascension, sky coordinate: co-longitude in degrees. Float32\n",
    "    * decl: declination, sky coordinate: co-latitude in degrees. Float32\n",
    "    * gal_l: galactic longitude in degrees. Float32\n",
    "    * gal_b: galactic latitude in degrees. Float32\n",
    "    * ddf: A flag to identify the object as coming from the DDF survey area (with value DDF = 1 for the DDF, DDF = 0 for the WFD survey). Note that while the DDF fields are contained within the full WFD survey area, the DDF fluxes have significantly smaller uncertainties. Boolean\n",
    "    * hostgal_specz: the spectroscopic redshift of the source. This is an extremely accurate measure of redshift, available for the training set and a small fraction of the test set. Float32\n",
    "    * hostgal_photoz: The photometric redshift of the host galaxy of the astronomical source. While this is meant to be a proxy for hostgal_specz, there can be large differences between the two and should be regarded as a far less accurate version of hostgal_specz. Float32\n",
    "    * hostgal_photoz_err: The uncertainty on the hostgal_photoz based on LSST survey projections. Float32\n",
    "    * distmod: The distance to the source calculated from hostgal_photoz and using general relativity. Float32\n",
    "    * mwebv: MW E(B-V). this ‘extinction’ of light is a property of the Milky Way (MW) dust along the line of sight to the astronomical source, and is thus a function of the sky coordinates of the source ra, decl. This is used to determine a passband dependent dimming and redenning of light from astronomical sources as described in subsection 2.1, and based on the Schlafly et al. (2011) and Schlegel et al. (1998) dust models. Float32\n",
    "    * target: The class of the astronomical source. This is provided in the training data. Correctly determining the target (correctly assigning classification probabilities to the objects) is the ‘goal’ of the classification challenge for the test data. Note that there is one class in the test set that does not occur in the training set: class_99 serves as an \"other\" class for objects that don't belong in any of the 14 classes in the training set. Int8\n",
    "\n",
    "3. Data File Column Descriptions\n",
    "\n",
    "    * object_id: Foreign key with the metadata. Int32\n",
    "    * mjd: the time in Modified Julian Date (MJD) of the observation. Can be read as days since November 17, 1858. Can be converted to Unix epoch time with the formula unix_time = (MJD−40587)×86400. Float64\n",
    "    * passband: The specific LSST passband integer, such that u, g, r, i, z, Y = 0, 1, 2, 3, 4, 5 in which it was viewed. Int8\n",
    "    * flux: the measured flux (brightness) in the passband of observation as listed in the passband column. These values have already been corrected for dust extinction (mwebv), though heavily extincted objects will have larger uncertainties (flux_err) in spite of the correction. Float32\n",
    "    * flux_err: the uncertainty on the measurement of the flux listed above. Float32\n",
    "    * detected: If 1, the object's brightness is significantly different at the 3-sigma level relative to the reference template. Only objects with at least 2 detections are included in the dataset. Boolean\n",
    "\n",
    "4. Caveats: A few caveats about the light-curve data are as follows:\n",
    "\n",
    "    * Data gaps: Different passbands are taken at different times, sometimes many days apart.\n",
    "    * Galactic vs extragalactic: The given redshift for objects in our own galaxy is given as zero.\n",
    "    * Negative Flux: Due to statistical fluctuations (of e.g. the sky brightness) and the way the brightness is estimated, the flux may be negative for dim sources, where the true flux is close to zero. Second, if the pre-survey image actually contains a flux brighter than its true ‘zero’, this can lead to a negative flux when the difference is computed.\n"
   ]
  },
  {
   "cell_type": "markdown",
   "metadata": {},
   "source": [
    "**Loss function**\n",
    "\n",
    "Submissions are evaluated using a weighted multi-class logarithmic loss. The overall effect is such that each class is roughly equally important for the final score.\n",
    "\n",
    "Each object has been labeled with one type. For each object, you must submit a set of predicted probabilities (one for every category). The formula is then:\n",
    "\n",
    "```\n",
    "Log Loss=−⎛⎝∑Mi=1wi⋅∑Nij=1yijNi⋅lnpij∑Mi=1wi⎞⎠\n",
    "```\n",
    "\n",
    "where: \n",
    "1. N is the number of objects in the class set,\n",
    "2. M is the number of classes,  \n",
    "3. ln is the natural logarithm, \n",
    "4. yij is 1 if observation (i) belongs to class (j) and 0 otherwise, \n",
    "5. pij is the predicted probability that observation i belongs to class j .\n",
    "\n",
    "The submitted probabilities for a given object are not required to sum to one because they are rescaled prior to being scored (each row is divided by the row sum). In order to avoid the extremes of the log function, predicted probabilities are replaced with max(min(p,1−10^−15),10^−15) .\n",
    "\n",
    "**Submission File**\n",
    "\n",
    "For each object ID in the test set, you must predict a probability for each of the different possible classes. The file should contain a header and have the following format:\n",
    "\n",
    "```\n",
    "object_id,class_6,class_15,class_16,class_42,class_52,class_53,class_62,class_64,class_65,class_67,class_88,class_90,class_92,class_95,class_99\n",
    "13,0,0.1,0,0.1,0,0.3,0,0,0,0,0,0.5,0,0,0\n",
    "14,0,0,0,0,0,0,0,0,0,0,0,1,0,0,0\n",
    "17,0.75,0.23,0,0,0.01,0,0,0,0,0.01,0,0,0,0,0\n",
    "etc.\n",
    "```"
   ]
  },
  {
   "cell_type": "markdown",
   "metadata": {},
   "source": [
    "**Starter kit of the organizers:**\n",
    "\n",
    "https://www.kaggle.com/michaelapers/the-plasticc-astronomy-starter-kit"
   ]
  },
  {
   "cell_type": "markdown",
   "metadata": {},
   "source": [
    "**Full archive description**\n",
    "\n",
    "https://arxiv.org/pdf/1810.00001.pdf\n",
    "\n",
    "For a PLAsTiCCentry to be valid, it will have to include probabilities for each class andastronomical source, i.e. an entry cannot leave out probabilities on any source, or class. To win the challenge, all entries should be valid and minimize the PLAsTiCC metric score. The metric used for the challenge is a weighted log-loss metric:\n",
    "\n",
    "```\n",
    "L= −∑^{M}_{j= 1} wj · [ ∑^{N}_{i=1} (1 / Nj) τ_{i,j} ln(Pij) / ∑^{M}_{j=1} wj ] ,(1)\n",
    "```\n",
    "\n",
    "where\n",
    "\n",
    "`τ_{i,j}= 1` if the `i`th object comes from the `j`th class and `0` otherwise, \n",
    "\n",
    "and `Nj` is the number of objects in any given class `j`, \n",
    "\n",
    "and `wj` are individual weights per class which reflect relative contribution to the overall metric (depending on e.g. how desireable it is to have objects in class `j` classified correctly). \n",
    "\n",
    "**These wj are hidden to the participants of the challenge.** The averaging over Nj reflects that PLAsTiCC is designed to reward those who classify all objects well on average, rather than focusing on one particular class. This is discussed more in an accompanying paper (see Malz,  Hloˇzeket al.2018 which isreleased with this note)."
   ]
  },
  {
   "cell_type": "markdown",
   "metadata": {},
   "source": [
    "## Setings\n",
    "### Notebook configuration"
   ]
  },
  {
   "cell_type": "code",
   "execution_count": null,
   "metadata": {
    "ExecuteTime": {
     "end_time": "2019-07-29T10:47:23.736725Z",
     "start_time": "2019-07-29T10:47:23.460264Z"
    }
   },
   "outputs": [],
   "source": [
    "%load_ext autoreload\n",
    "%autoreload 2\n",
    "%matplotlib inline"
   ]
  },
  {
   "cell_type": "markdown",
   "metadata": {
    "ExecuteTime": {
     "end_time": "2019-07-11T17:23:24.456714Z",
     "start_time": "2019-07-11T17:23:24.446198Z"
    }
   },
   "source": [
    "### Packages"
   ]
  },
  {
   "cell_type": "code",
   "execution_count": null,
   "metadata": {
    "ExecuteTime": {
     "end_time": "2019-07-29T10:47:24.161003Z",
     "start_time": "2019-07-29T10:47:23.738206Z"
    }
   },
   "outputs": [],
   "source": [
    "import os  # manage path and os interaction\n",
    "import numpy as np  # manage array and math operation\n",
    "import pandas as pd  # manage table\n",
    "\n",
    "import matplotlib as mpl  # plot data\n",
    "import matplotlib.pyplot as plt  # plot data\n",
    "\n",
    "import pandas_profiling"
   ]
  },
  {
   "cell_type": "code",
   "execution_count": null,
   "metadata": {
    "ExecuteTime": {
     "end_time": "2019-07-29T10:47:24.323363Z",
     "start_time": "2019-07-29T10:47:24.162231Z"
    }
   },
   "outputs": [],
   "source": [
    "from sklearn import preprocessing\n",
    "from sklearn.model_selection import train_test_split"
   ]
  },
  {
   "cell_type": "markdown",
   "metadata": {},
   "source": [
    "### Boolean execution"
   ]
  },
  {
   "cell_type": "code",
   "execution_count": null,
   "metadata": {
    "ExecuteTime": {
     "end_time": "2019-07-29T10:47:24.337459Z",
     "start_time": "2019-07-29T10:47:24.325055Z"
    }
   },
   "outputs": [],
   "source": [
    "create_profile = False\n",
    "load_set = False"
   ]
  },
  {
   "cell_type": "markdown",
   "metadata": {
    "ExecuteTime": {
     "end_time": "2019-07-11T17:31:04.281549Z",
     "start_time": "2019-07-11T17:31:04.216551Z"
    }
   },
   "source": [
    "## Import data"
   ]
  },
  {
   "cell_type": "code",
   "execution_count": null,
   "metadata": {
    "ExecuteTime": {
     "end_time": "2019-07-29T10:47:24.350036Z",
     "start_time": "2019-07-29T10:47:24.338899Z"
    }
   },
   "outputs": [],
   "source": [
    "import os"
   ]
  },
  {
   "cell_type": "code",
   "execution_count": null,
   "metadata": {
    "ExecuteTime": {
     "end_time": "2019-07-29T10:47:24.375022Z",
     "start_time": "2019-07-29T10:47:24.351827Z"
    }
   },
   "outputs": [],
   "source": [
    "os.listdir(\"../data/PLAsTiCC-2018/\")"
   ]
  },
  {
   "cell_type": "code",
   "execution_count": null,
   "metadata": {
    "ExecuteTime": {
     "end_time": "2019-07-29T10:47:24.415638Z",
     "start_time": "2019-07-29T10:47:24.377085Z"
    }
   },
   "outputs": [],
   "source": [
    "data_path = '../data/PLAsTiCC-2018/'\n",
    "df_meta = pd.read_csv(data_path + 'training_set_metadata.csv')\n",
    "if create_profile:\n",
    "    profile_set = pandas_profiling.ProfileReport(df_set)\n",
    "    profile_set.to_file(output_file=\"plasticc_set_pandas_profile.html\")"
   ]
  },
  {
   "cell_type": "code",
   "execution_count": null,
   "metadata": {
    "ExecuteTime": {
     "end_time": "2019-07-29T10:47:24.429541Z",
     "start_time": "2019-07-29T10:47:24.417384Z"
    }
   },
   "outputs": [],
   "source": [
    "if load_set:\n",
    "    df_set = pd.read_csv(data_path + 'training_set.csv.zip', compression='zip')\n",
    "    if create_profile:\n",
    "        profile_meta = pandas_profiling.ProfileReport(df_meta)\n",
    "        profile_meta.to_file(output_file=\"plasticc_meta_pandas_profile.html\")"
   ]
  },
  {
   "cell_type": "markdown",
   "metadata": {
    "ExecuteTime": {
     "end_time": "2019-07-19T09:34:00.454952Z",
     "start_time": "2019-07-19T09:34:00.439936Z"
    }
   },
   "source": [
    "## First classification use meta data"
   ]
  },
  {
   "cell_type": "markdown",
   "metadata": {},
   "source": [
    "### Define meta data"
   ]
  },
  {
   "cell_type": "code",
   "execution_count": null,
   "metadata": {
    "ExecuteTime": {
     "end_time": "2019-07-29T10:47:41.942957Z",
     "start_time": "2019-07-29T10:47:41.910828Z"
    }
   },
   "outputs": [],
   "source": [
    "target_col = \"target\"\n",
    "id_col = \"object_id\"\n",
    "except_cols = [target_col]\n",
    "input_cols = [col for col in df_meta.columns if col not in except_cols]"
   ]
  },
  {
   "cell_type": "markdown",
   "metadata": {},
   "source": [
    "### Exploration"
   ]
  },
  {
   "cell_type": "code",
   "execution_count": null,
   "metadata": {
    "ExecuteTime": {
     "end_time": "2019-07-29T10:47:42.540289Z",
     "start_time": "2019-07-29T10:47:42.503916Z"
    }
   },
   "outputs": [],
   "source": [
    "df_meta.head()"
   ]
  },
  {
   "cell_type": "code",
   "execution_count": null,
   "metadata": {
    "ExecuteTime": {
     "end_time": "2019-07-29T10:47:42.638289Z",
     "start_time": "2019-07-29T10:47:42.620819Z"
    }
   },
   "outputs": [],
   "source": [
    "df_meta.isnull().sum()"
   ]
  },
  {
   "cell_type": "code",
   "execution_count": null,
   "metadata": {
    "ExecuteTime": {
     "end_time": "2019-07-29T10:47:42.760975Z",
     "start_time": "2019-07-29T10:47:42.737950Z"
    }
   },
   "outputs": [],
   "source": [
    "len(df_meta)"
   ]
  },
  {
   "cell_type": "code",
   "execution_count": null,
   "metadata": {
    "ExecuteTime": {
     "end_time": "2019-07-29T10:47:42.882891Z",
     "start_time": "2019-07-29T10:47:42.863764Z"
    }
   },
   "outputs": [],
   "source": [
    "df_meta[id_col].nunique()"
   ]
  },
  {
   "cell_type": "markdown",
   "metadata": {},
   "source": [
    "## Define X and y"
   ]
  },
  {
   "cell_type": "code",
   "execution_count": null,
   "metadata": {
    "ExecuteTime": {
     "end_time": "2019-07-29T10:47:43.279690Z",
     "start_time": "2019-07-29T10:47:43.259385Z"
    }
   },
   "outputs": [],
   "source": [
    "ids = df_meta[id_col]\n",
    "X = df_meta[input_cols]\n",
    "y = df_meta[target_col]"
   ]
  },
  {
   "cell_type": "markdown",
   "metadata": {},
   "source": [
    "## Split"
   ]
  },
  {
   "cell_type": "code",
   "execution_count": null,
   "metadata": {
    "ExecuteTime": {
     "end_time": "2019-07-29T10:47:43.660113Z",
     "start_time": "2019-07-29T10:47:43.617311Z"
    }
   },
   "outputs": [],
   "source": [
    "from sklearn.model_selection import StratifiedShuffleSplit\n",
    "\n",
    "sss = StratifiedShuffleSplit(n_splits=1, test_size=0.2, random_state=0)\n",
    "sss.get_n_splits(X, y)\n",
    "\n",
    "for train_index, test_index in sss.split(X, y):\n",
    "    X_train, X_test = X[X.index.isin(train_index)], X[X.index.isin(test_index)]\n",
    "    y_train, y_test = y[y.index.isin(train_index)], y[y.index.isin(test_index)]\n",
    "    ids_train, ids_test = ids[ids.index.isin(train_index)], ids[ids.index.isin(test_index)]"
   ]
  },
  {
   "cell_type": "markdown",
   "metadata": {},
   "source": [
    "### Check split"
   ]
  },
  {
   "cell_type": "code",
   "execution_count": null,
   "metadata": {
    "ExecuteTime": {
     "end_time": "2019-07-29T10:47:44.028443Z",
     "start_time": "2019-07-29T10:47:44.005631Z"
    }
   },
   "outputs": [],
   "source": [
    "np.sort(test_index)[:10]"
   ]
  },
  {
   "cell_type": "code",
   "execution_count": null,
   "metadata": {
    "ExecuteTime": {
     "end_time": "2019-07-29T10:47:44.138753Z",
     "start_time": "2019-07-29T10:47:44.124360Z"
    }
   },
   "outputs": [],
   "source": [
    "ids_test[:10].index.values"
   ]
  },
  {
   "cell_type": "code",
   "execution_count": null,
   "metadata": {
    "ExecuteTime": {
     "end_time": "2019-07-29T10:47:44.320289Z",
     "start_time": "2019-07-29T10:47:44.284767Z"
    }
   },
   "outputs": [],
   "source": [
    "all(np.sort(test_index)[:10] == ids_test[:10].index.values)"
   ]
  },
  {
   "cell_type": "markdown",
   "metadata": {},
   "source": [
    "### Process inputs with nan"
   ]
  },
  {
   "cell_type": "code",
   "execution_count": null,
   "metadata": {
    "ExecuteTime": {
     "end_time": "2019-07-29T10:47:44.708798Z",
     "start_time": "2019-07-29T10:47:44.680760Z"
    }
   },
   "outputs": [],
   "source": [
    "dist_mod_idx = X_train.columns.values.tolist().index('distmod')\n",
    "print(dist_mod_idx)\n",
    "print(\"check selection of columns. This will be need for the inputer\")\n",
    "print(X_train.columns[dist_mod_idx])"
   ]
  },
  {
   "cell_type": "markdown",
   "metadata": {},
   "source": [
    "### No nan distribution"
   ]
  },
  {
   "cell_type": "code",
   "execution_count": null,
   "metadata": {
    "ExecuteTime": {
     "end_time": "2019-07-29T10:47:45.115873Z",
     "start_time": "2019-07-29T10:47:44.916784Z"
    }
   },
   "outputs": [],
   "source": [
    "X_train[\"distmod\"].hist()"
   ]
  },
  {
   "cell_type": "markdown",
   "metadata": {},
   "source": [
    "### Possible replace value"
   ]
  },
  {
   "cell_type": "code",
   "execution_count": null,
   "metadata": {
    "ExecuteTime": {
     "end_time": "2019-07-29T10:47:45.217982Z",
     "start_time": "2019-07-29T10:47:45.202525Z"
    }
   },
   "outputs": [],
   "source": [
    "X_train[\"distmod\"].min()"
   ]
  },
  {
   "cell_type": "code",
   "execution_count": null,
   "metadata": {
    "ExecuteTime": {
     "end_time": "2019-07-29T10:47:45.360397Z",
     "start_time": "2019-07-29T10:47:45.341810Z"
    }
   },
   "outputs": [],
   "source": [
    "X_train[\"distmod\"].max()"
   ]
  },
  {
   "cell_type": "code",
   "execution_count": null,
   "metadata": {
    "ExecuteTime": {
     "end_time": "2019-07-29T10:47:45.622038Z",
     "start_time": "2019-07-29T10:47:45.603406Z"
    }
   },
   "outputs": [],
   "source": [
    "X_train[\"distmod\"].mean()"
   ]
  },
  {
   "cell_type": "code",
   "execution_count": null,
   "metadata": {
    "ExecuteTime": {
     "end_time": "2019-07-29T10:47:45.789441Z",
     "start_time": "2019-07-29T10:47:45.772290Z"
    }
   },
   "outputs": [],
   "source": [
    "X_train[\"distmod\"].median()"
   ]
  },
  {
   "cell_type": "markdown",
   "metadata": {},
   "source": [
    "### NaN indicator"
   ]
  },
  {
   "cell_type": "code",
   "execution_count": null,
   "metadata": {
    "ExecuteTime": {
     "end_time": "2019-07-29T10:47:46.289151Z",
     "start_time": "2019-07-29T10:47:46.188508Z"
    }
   },
   "outputs": [],
   "source": [
    "X_train[\"distmod_NaN_indicator\"] = X_train[\"distmod\"].isnull().astype(int)\n",
    "X_test[\"distmod_NaN_indicator\"] = X_test[\"distmod\"].isnull().astype(int)"
   ]
  },
  {
   "cell_type": "markdown",
   "metadata": {},
   "source": [
    "### Imputer (classifier)"
   ]
  },
  {
   "cell_type": "code",
   "execution_count": null,
   "metadata": {
    "ExecuteTime": {
     "end_time": "2019-07-29T10:47:46.704396Z",
     "start_time": "2019-07-29T10:47:46.677094Z"
    }
   },
   "outputs": [],
   "source": [
    "from sklearn.experimental import enable_iterative_imputer\n",
    "from sklearn.impute import IterativeImputer\n",
    "\n",
    "imp = IterativeImputer(max_iter=100, random_state=0)"
   ]
  },
  {
   "cell_type": "code",
   "execution_count": null,
   "metadata": {
    "ExecuteTime": {
     "end_time": "2019-07-29T10:47:46.991076Z",
     "start_time": "2019-07-29T10:47:46.922367Z"
    }
   },
   "outputs": [],
   "source": [
    "imp.fit(X_train)"
   ]
  },
  {
   "cell_type": "code",
   "execution_count": null,
   "metadata": {
    "ExecuteTime": {
     "end_time": "2019-07-29T10:47:47.092553Z",
     "start_time": "2019-07-29T10:47:47.061211Z"
    }
   },
   "outputs": [],
   "source": [
    "new_vals = imp.transform(X_train)[:,dist_mod_idx]"
   ]
  },
  {
   "cell_type": "code",
   "execution_count": null,
   "metadata": {
    "ExecuteTime": {
     "end_time": "2019-07-29T10:47:47.419877Z",
     "start_time": "2019-07-29T10:47:47.213755Z"
    }
   },
   "outputs": [],
   "source": [
    "plt.figure()\n",
    "\n",
    "plt.hist(X_train[X_train[\"distmod_NaN_indicator\"].values == 0][\"distmod\"],\n",
    "         alpha=0.6, label=\"True values start\", edgecolor='black', linewidth=5)\n",
    "plt.hist(new_vals[X_train[\"distmod_NaN_indicator\"].values == 0],\n",
    "         alpha=0.8, label=\"True values\")\n",
    "\n",
    "plt.hist(new_vals[X_train[\"distmod_NaN_indicator\"].values == 1],\n",
    "         label=\"Replaced values\")\n",
    "\n",
    "plt.legend()\n",
    "\n",
    "plt.show()"
   ]
  },
  {
   "cell_type": "markdown",
   "metadata": {},
   "source": [
    "### Catboost"
   ]
  },
  {
   "cell_type": "code",
   "execution_count": null,
   "metadata": {
    "ExecuteTime": {
     "end_time": "2019-07-29T10:47:47.632015Z",
     "start_time": "2019-07-29T10:47:47.587579Z"
    }
   },
   "outputs": [],
   "source": [
    "from catboost import CatBoostRegressor"
   ]
  },
  {
   "cell_type": "code",
   "execution_count": null,
   "metadata": {
    "ExecuteTime": {
     "end_time": "2019-07-29T10:47:47.748323Z",
     "start_time": "2019-07-29T10:47:47.728137Z"
    },
    "scrolled": false
   },
   "outputs": [],
   "source": [
    "not_distmod_cols = [col for col in X_train.columns\n",
    "                    if col not in [\"distmod_NaN_indicator\", \"distmod\"]]\n",
    "\n",
    "X_distmod_train = X_train[X_train[\"distmod_NaN_indicator\"].values == 0][not_distmod_cols]\n",
    "y_distmod_train = X_train[X_train[\"distmod_NaN_indicator\"].values == 0][\"distmod\"]\n",
    "\n",
    "X_distmod_test = X_train[X_train[\"distmod_NaN_indicator\"].values == 1][not_distmod_cols]\n",
    "y_distmod_test = X_train[X_train[\"distmod_NaN_indicator\"].values == 1][\"distmod\"]"
   ]
  },
  {
   "cell_type": "markdown",
   "metadata": {},
   "source": [
    "#### Catboost check overfit"
   ]
  },
  {
   "cell_type": "code",
   "execution_count": null,
   "metadata": {
    "ExecuteTime": {
     "end_time": "2019-07-29T10:47:48.421451Z",
     "start_time": "2019-07-29T10:47:48.054995Z"
    }
   },
   "outputs": [],
   "source": [
    "reg = CatBoostRegressor(l2_leaf_reg=1e-6, iterations=300)\n",
    "reg.fit(X_distmod_train[:100], y_distmod_train[:100], plot=True, logging_level=\"Silent\")"
   ]
  },
  {
   "cell_type": "code",
   "execution_count": null,
   "metadata": {
    "ExecuteTime": {
     "end_time": "2019-07-29T10:47:48.748500Z",
     "start_time": "2019-07-29T10:47:48.481443Z"
    }
   },
   "outputs": [],
   "source": [
    "plt.plot()\n",
    "plt.scatter(y_distmod_train[100:], reg.predict(X_distmod_train[100:]).flatten()- y_distmod_train[100:])\n",
    "plt.show()"
   ]
  },
  {
   "cell_type": "code",
   "execution_count": null,
   "metadata": {
    "ExecuteTime": {
     "end_time": "2019-07-29T10:47:51.561305Z",
     "start_time": "2019-07-29T10:47:48.752262Z"
    }
   },
   "outputs": [],
   "source": [
    "reg_1 = CatBoostRegressor(l2_leaf_reg=1e-5, iterations=500)\n",
    "reg_1.fit(X_distmod_train, y_distmod_train, plot=True, logging_level=\"Silent\")"
   ]
  },
  {
   "cell_type": "code",
   "execution_count": null,
   "metadata": {
    "ExecuteTime": {
     "end_time": "2019-07-29T10:47:51.595310Z",
     "start_time": "2019-07-29T10:47:51.564406Z"
    }
   },
   "outputs": [],
   "source": [
    "new_vals_catboost = reg_1.predict(X_distmod_test)"
   ]
  },
  {
   "cell_type": "code",
   "execution_count": null,
   "metadata": {
    "ExecuteTime": {
     "end_time": "2019-07-29T10:47:51.840668Z",
     "start_time": "2019-07-29T10:47:51.597508Z"
    }
   },
   "outputs": [],
   "source": [
    "plt.figure()\n",
    "\n",
    "plt.hist(X_train[X_train[\"distmod_NaN_indicator\"].values == 0][\"distmod\"],\n",
    "         label=\"True values start\", alpha=0.6, edgecolor='black', linewidth=5)\n",
    "plt.hist(new_vals[X_train[\"distmod_NaN_indicator\"].values == 0],\n",
    "         label=\"True values\", alpha=0.8)\n",
    "\n",
    "plt.hist(new_vals[X_train[\"distmod_NaN_indicator\"].values == 1],\n",
    "         label=\"Replaced values\")\n",
    "\n",
    "plt.hist(new_vals_catboost, label=\"Catboost fillna\")\n",
    "\n",
    "plt.legend()\n",
    "\n",
    "plt.show()"
   ]
  },
  {
   "cell_type": "markdown",
   "metadata": {
    "ExecuteTime": {
     "end_time": "2019-07-24T13:53:08.514316Z",
     "start_time": "2019-07-24T13:53:08.486284Z"
    }
   },
   "source": [
    "### Fill missing values and train dataset"
   ]
  },
  {
   "cell_type": "markdown",
   "metadata": {},
   "source": [
    "#### Check index of test before replacing"
   ]
  },
  {
   "cell_type": "code",
   "execution_count": null,
   "metadata": {
    "ExecuteTime": {
     "end_time": "2019-07-29T10:47:51.857960Z",
     "start_time": "2019-07-29T10:47:51.842396Z"
    }
   },
   "outputs": [],
   "source": [
    "X_distmod_test.index.values"
   ]
  },
  {
   "cell_type": "code",
   "execution_count": null,
   "metadata": {
    "ExecuteTime": {
     "end_time": "2019-07-29T10:47:51.874689Z",
     "start_time": "2019-07-29T10:47:51.859597Z"
    }
   },
   "outputs": [],
   "source": [
    "X_train[X_train[\"distmod\"].isnull()][\"distmod\"].index.values"
   ]
  },
  {
   "cell_type": "code",
   "execution_count": null,
   "metadata": {
    "ExecuteTime": {
     "end_time": "2019-07-29T10:47:51.894682Z",
     "start_time": "2019-07-29T10:47:51.877404Z"
    }
   },
   "outputs": [],
   "source": [
    "X_distmod_test.index.values == X_train[X_train[\"distmod\"].isnull()][\"distmod\"].index.values"
   ]
  },
  {
   "cell_type": "code",
   "execution_count": null,
   "metadata": {
    "ExecuteTime": {
     "end_time": "2019-07-29T10:47:51.913085Z",
     "start_time": "2019-07-29T10:47:51.897139Z"
    }
   },
   "outputs": [],
   "source": [
    "all(X_distmod_test.index.values == X_train[X_train[\"distmod\"].isnull()][\"distmod\"].index.values)"
   ]
  },
  {
   "cell_type": "markdown",
   "metadata": {},
   "source": [
    "#### Replace missing values in train"
   ]
  },
  {
   "cell_type": "code",
   "execution_count": null,
   "metadata": {
    "ExecuteTime": {
     "end_time": "2019-07-29T10:47:51.965687Z",
     "start_time": "2019-07-29T10:47:51.914268Z"
    }
   },
   "outputs": [],
   "source": [
    "X_train.loc[X_train[\"distmod\"].isnull(), \"distmod\"] = new_vals_catboost"
   ]
  },
  {
   "cell_type": "code",
   "execution_count": null,
   "metadata": {
    "ExecuteTime": {
     "end_time": "2019-07-29T10:47:51.984294Z",
     "start_time": "2019-07-29T10:47:51.967640Z"
    }
   },
   "outputs": [],
   "source": [
    "X_train[X_train[\"distmod_NaN_indicator\"].values == 1][\"distmod\"].max()"
   ]
  },
  {
   "cell_type": "code",
   "execution_count": null,
   "metadata": {
    "ExecuteTime": {
     "end_time": "2019-07-29T10:47:52.213933Z",
     "start_time": "2019-07-29T10:47:51.986076Z"
    }
   },
   "outputs": [],
   "source": [
    "plt.figure()\n",
    "\n",
    "plt.hist(X_train[\"distmod\"],\n",
    "         label=\"All\", alpha=0.6, edgecolor='black', linewidth=5)\n",
    "\n",
    "plt.hist(X_train[X_train[\"distmod_NaN_indicator\"].values == 0][\"distmod\"],\n",
    "         label=\"Initial\", alpha=0.8)\n",
    "\n",
    "plt.hist(X_train[X_train[\"distmod_NaN_indicator\"].values == 1][\"distmod\"],\n",
    "         label=\"Applied to NaN\")\n",
    "\n",
    "\n",
    "plt.legend()\n",
    "\n",
    "plt.show()"
   ]
  },
  {
   "cell_type": "markdown",
   "metadata": {},
   "source": [
    "#### Replace missing values in test"
   ]
  },
  {
   "cell_type": "code",
   "execution_count": null,
   "metadata": {
    "ExecuteTime": {
     "end_time": "2019-07-29T10:47:52.276132Z",
     "start_time": "2019-07-29T10:47:52.215386Z"
    }
   },
   "outputs": [],
   "source": [
    "X_distmod_test_test = X_test[X_test[\"distmod_NaN_indicator\"].values == 1][not_distmod_cols]\n",
    "new_vals_catboost_test = reg_1.predict(X_distmod_test_test)\n",
    "X_test.loc[X_test[\"distmod\"].isnull(), \"distmod\"] = new_vals_catboost_test"
   ]
  },
  {
   "cell_type": "markdown",
   "metadata": {},
   "source": [
    "### Train catboost"
   ]
  },
  {
   "cell_type": "code",
   "execution_count": null,
   "metadata": {
    "ExecuteTime": {
     "end_time": "2019-07-29T10:47:52.293471Z",
     "start_time": "2019-07-29T10:47:52.277416Z"
    }
   },
   "outputs": [],
   "source": [
    "from catboost import CatBoostClassifier"
   ]
  },
  {
   "cell_type": "code",
   "execution_count": null,
   "metadata": {
    "ExecuteTime": {
     "end_time": "2019-07-29T10:47:52.309017Z",
     "start_time": "2019-07-29T10:47:52.294970Z"
    }
   },
   "outputs": [],
   "source": [
    "class_counts = y.value_counts().to_dict()\n",
    "display(class_counts)"
   ]
  },
  {
   "cell_type": "code",
   "execution_count": null,
   "metadata": {
    "ExecuteTime": {
     "end_time": "2019-07-29T10:47:52.322508Z",
     "start_time": "2019-07-29T10:47:52.310283Z"
    }
   },
   "outputs": [],
   "source": [
    "sorted_class, sorted_counts = zip(*sorted(zip(class_counts.keys(), class_counts.values())))\n",
    "class_weights = np.array([1. / count for count in sorted_counts])\n",
    "print(sorted_class)\n",
    "print(sorted_counts)\n",
    "print(class_weights)"
   ]
  },
  {
   "cell_type": "code",
   "execution_count": null,
   "metadata": {
    "ExecuteTime": {
     "end_time": "2019-07-29T10:47:58.691160Z",
     "start_time": "2019-07-29T10:47:52.809034Z"
    }
   },
   "outputs": [],
   "source": [
    "clf_1 = CatBoostClassifier(loss_function='MultiClass',\n",
    "                           iterations=300,\n",
    "                           learning_rate=1e-2,\n",
    "                           class_weights=class_weights)\n",
    "clf_1.fit(X_train, y_train, plot=True, logging_level='Silent')"
   ]
  },
  {
   "cell_type": "code",
   "execution_count": null,
   "metadata": {
    "ExecuteTime": {
     "end_time": "2019-07-29T10:49:06.172546Z",
     "start_time": "2019-07-29T10:47:58.698334Z"
    }
   },
   "outputs": [],
   "source": [
    "clf_2 = CatBoostClassifier(loss_function='MultiClass',\n",
    "                           iterations=500,\n",
    "                           learning_rate=1e-2,\n",
    "                           class_weights=class_weights)\n",
    "clf_2.fit(X_train, y_train, plot=True, logging_level='Silent')"
   ]
  },
  {
   "cell_type": "code",
   "execution_count": null,
   "metadata": {
    "ExecuteTime": {
     "end_time": "2019-07-29T10:49:11.992025Z",
     "start_time": "2019-07-29T10:49:06.174871Z"
    }
   },
   "outputs": [],
   "source": [
    "clf_3 = CatBoostClassifier(loss_function='MultiClass',\n",
    "                           iterations=250,\n",
    "#                           od_type=\"IncToDec\", od_pval=1e14,\n",
    "                           learning_rate=1e0,\n",
    "                           class_weights=class_weights)\n",
    "clf_3.fit(X_train, y_train, plot=True, logging_level='Silent',)"
   ]
  },
  {
   "cell_type": "markdown",
   "metadata": {},
   "source": [
    "### Evaluate on test"
   ]
  },
  {
   "cell_type": "code",
   "execution_count": null,
   "metadata": {
    "ExecuteTime": {
     "end_time": "2019-07-29T10:49:12.026751Z",
     "start_time": "2019-07-29T10:49:11.996648Z"
    }
   },
   "outputs": [],
   "source": [
    "from sklearn.metrics import log_loss"
   ]
  },
  {
   "cell_type": "code",
   "execution_count": null,
   "metadata": {
    "ExecuteTime": {
     "end_time": "2019-07-29T10:49:12.085560Z",
     "start_time": "2019-07-29T10:49:12.032365Z"
    }
   },
   "outputs": [],
   "source": [
    "y_pred_1 = clf_1.predict_proba(X_test)\n",
    "print(\"Log loss\")\n",
    "print(log_loss(y_test, y_pred_1))"
   ]
  },
  {
   "cell_type": "code",
   "execution_count": null,
   "metadata": {
    "ExecuteTime": {
     "end_time": "2019-07-29T10:49:12.131261Z",
     "start_time": "2019-07-29T10:49:12.088152Z"
    }
   },
   "outputs": [],
   "source": [
    "y_pred_2 = clf_2.predict_proba(X_test)\n",
    "print(\"Log loss\")\n",
    "print(log_loss(y_test, y_pred_2))"
   ]
  },
  {
   "cell_type": "code",
   "execution_count": null,
   "metadata": {
    "ExecuteTime": {
     "end_time": "2019-07-29T10:49:12.157970Z",
     "start_time": "2019-07-29T10:49:12.132734Z"
    }
   },
   "outputs": [],
   "source": [
    "y_pred_3 = clf_3.predict_proba(X_test)\n",
    "print(\"Log loss\")\n",
    "print(log_loss(y_test, y_pred_3))"
   ]
  },
  {
   "cell_type": "markdown",
   "metadata": {},
   "source": [
    "## Simple aggregation of spectral information"
   ]
  },
  {
   "cell_type": "code",
   "execution_count": null,
   "metadata": {
    "ExecuteTime": {
     "end_time": "2019-07-29T10:49:13.189828Z",
     "start_time": "2019-07-29T10:49:12.159299Z"
    }
   },
   "outputs": [],
   "source": [
    "df_train = pd.read_csv('../data/PLAsTiCC-2018/training_set.csv.zip',\n",
    "                       compression='zip')"
   ]
  },
  {
   "cell_type": "markdown",
   "metadata": {},
   "source": [
    "### Find mean value of the flux"
   ]
  },
  {
   "cell_type": "code",
   "execution_count": null,
   "metadata": {
    "ExecuteTime": {
     "end_time": "2019-07-29T10:49:59.837298Z",
     "start_time": "2019-07-29T10:49:59.201305Z"
    }
   },
   "outputs": [],
   "source": [
    "df_flux_mjd_mean = pd.DataFrame(df_train.groupby(\"mjd\").mean()[\"flux\"]).rename(columns={\"flux\": \"mean\"})\n",
    "df_flux_mjd_max = pd.DataFrame(df_train.groupby(\"mjd\").max()[\"flux\"]).rename(columns={\"flux\": \"max\"})\n",
    "df_flux_mjd_min = pd.DataFrame(df_train.groupby(\"mjd\").min()[\"flux\"]).rename(columns={\"flux\": \"min\"})"
   ]
  },
  {
   "cell_type": "code",
   "execution_count": null,
   "metadata": {
    "ExecuteTime": {
     "end_time": "2019-07-29T10:49:59.874683Z",
     "start_time": "2019-07-29T10:49:59.838931Z"
    }
   },
   "outputs": [],
   "source": [
    "df_flux = pd.merge(df_flux_mjd_max, df_flux_mjd_min, right_index=True, left_index=True)\n",
    "df_flux[\"max-min\"] = df_flux[\"max\"] - df_flux[\"min\"] \n",
    "df_flux.head(n=5)"
   ]
  },
  {
   "cell_type": "code",
   "execution_count": null,
   "metadata": {
    "ExecuteTime": {
     "end_time": "2019-07-29T10:50:00.409387Z",
     "start_time": "2019-07-29T10:50:00.239710Z"
    }
   },
   "outputs": [],
   "source": [
    "plt.figure()\n",
    "plt.hist(df_flux[\"max-min\"])\n",
    "plt.show()"
   ]
  },
  {
   "cell_type": "code",
   "execution_count": null,
   "metadata": {
    "ExecuteTime": {
     "end_time": "2019-07-29T10:50:00.858296Z",
     "start_time": "2019-07-29T10:50:00.674668Z"
    },
    "scrolled": true
   },
   "outputs": [],
   "source": [
    "plt.figure()\n",
    "plt.hist(df_flux[\"max-min\"].clip(0, 1e3))\n",
    "plt.show()"
   ]
  },
  {
   "cell_type": "markdown",
   "metadata": {
    "ExecuteTime": {
     "end_time": "2019-07-29T07:47:44.396130Z",
     "start_time": "2019-07-29T07:47:44.367957Z"
    }
   },
   "source": [
    "#### Observation\n",
    "\n",
    "Taking into account the luminosity of the sky at a given day will be chalenging considering the\n",
    "wide rage of values of the min and max luminosity every day.\n",
    "\n",
    "It has been done by the winner of the kaggle competition, but I just trying to have a simple results in a notebook\n"
   ]
  },
  {
   "cell_type": "markdown",
   "metadata": {},
   "source": [
    "### Compute value"
   ]
  },
  {
   "cell_type": "code",
   "execution_count": null,
   "metadata": {
    "ExecuteTime": {
     "end_time": "2019-07-29T10:50:02.294047Z",
     "start_time": "2019-07-29T10:50:02.194972Z"
    }
   },
   "outputs": [],
   "source": [
    "# Average flux for passband \n",
    "df_obj_pass = pd.DataFrame(df_train.groupby([id_col, \"passband\"]).mean()[\"flux\"]).reset_index()"
   ]
  },
  {
   "cell_type": "code",
   "execution_count": null,
   "metadata": {
    "ExecuteTime": {
     "end_time": "2019-07-29T10:50:02.733528Z",
     "start_time": "2019-07-29T10:50:02.707845Z"
    }
   },
   "outputs": [],
   "source": [
    "# Minimal flux for object\n",
    "df_obj_pass_min = df_obj_pass.groupby([id_col]).min()[\"flux\"].reset_index().rename(columns={\"flux\": \"flux_min\"})"
   ]
  },
  {
   "cell_type": "code",
   "execution_count": null,
   "metadata": {
    "ExecuteTime": {
     "end_time": "2019-07-29T10:50:03.094739Z",
     "start_time": "2019-07-29T10:50:03.071163Z"
    }
   },
   "outputs": [],
   "source": [
    "# Correct flux with lowest intensity\n",
    "df_obj_pass = df_obj_pass.merge(df_obj_pass_min, right_on='object_id', left_on='object_id', how=\"left\")\n",
    "df_obj_pass[\"flux_corrected\"] = df_obj_pass[\"flux\"] - df_obj_pass[\"flux_min\"]"
   ]
  },
  {
   "cell_type": "markdown",
   "metadata": {},
   "source": [
    "### Pivot table to have the godd format"
   ]
  },
  {
   "cell_type": "code",
   "execution_count": null,
   "metadata": {
    "ExecuteTime": {
     "end_time": "2019-07-29T10:50:03.861918Z",
     "start_time": "2019-07-29T10:50:03.826858Z"
    },
    "scrolled": true
   },
   "outputs": [],
   "source": [
    "df_obj_pivot = df_obj_pass.pivot(index='object_id', columns='passband')"
   ]
  },
  {
   "cell_type": "code",
   "execution_count": null,
   "metadata": {
    "ExecuteTime": {
     "end_time": "2019-07-29T10:50:04.206754Z",
     "start_time": "2019-07-29T10:50:04.186346Z"
    }
   },
   "outputs": [],
   "source": [
    "df_obj_pivot.columns = [\"_\".join([str(i), str(j)]) for i,j in df_obj_pivot.columns]"
   ]
  },
  {
   "cell_type": "code",
   "execution_count": null,
   "metadata": {
    "ExecuteTime": {
     "end_time": "2019-07-29T10:50:04.529903Z",
     "start_time": "2019-07-29T10:50:04.510428Z"
    }
   },
   "outputs": [],
   "source": [
    "df_obj_pivot.reset_index(inplace=True)"
   ]
  },
  {
   "cell_type": "code",
   "execution_count": null,
   "metadata": {
    "ExecuteTime": {
     "end_time": "2019-07-29T10:50:04.892092Z",
     "start_time": "2019-07-29T10:50:04.862449Z"
    }
   },
   "outputs": [],
   "source": [
    "df_obj_pivot.head(n=5)"
   ]
  },
  {
   "cell_type": "markdown",
   "metadata": {},
   "source": [
    "## Merge and test"
   ]
  },
  {
   "cell_type": "code",
   "execution_count": null,
   "metadata": {
    "ExecuteTime": {
     "end_time": "2019-07-29T10:50:15.435868Z",
     "start_time": "2019-07-29T10:50:15.388912Z"
    }
   },
   "outputs": [],
   "source": [
    "X_train_augment = X_train.merge(df_obj_pivot, left_on=id_col, right_on=id_col, how=\"left\")\n",
    "X_test_augment = X_test.merge(df_obj_pivot, left_on=id_col, right_on=id_col, how=\"left\")"
   ]
  },
  {
   "cell_type": "code",
   "execution_count": null,
   "metadata": {
    "ExecuteTime": {
     "end_time": "2019-07-29T10:55:08.689484Z",
     "start_time": "2019-07-29T10:53:07.299526Z"
    }
   },
   "outputs": [],
   "source": [
    "clf_4 = CatBoostClassifier(loss_function='MultiClass',\n",
    "                           iterations=500,\n",
    "                           learning_rate=1e-2,\n",
    "                           class_weights=class_weights)\n",
    "clf_4.fit(X_train_augment, y_train, plot=True, logging_level='Silent')"
   ]
  },
  {
   "cell_type": "code",
   "execution_count": null,
   "metadata": {
    "ExecuteTime": {
     "end_time": "2019-07-29T10:55:48.037875Z",
     "start_time": "2019-07-29T10:55:48.004549Z"
    }
   },
   "outputs": [],
   "source": [
    "y_pred_4 = clf_4.predict_proba(X_test_augment)\n",
    "print(\"Log loss\")\n",
    "print(log_loss(y_test, y_pred_4))"
   ]
  },
  {
   "cell_type": "markdown",
   "metadata": {},
   "source": [
    "## Beyond\n",
    "\n",
    "1. pay attention to the definition of the target and the specific cases\n",
    "\n",
    "2. use your imagination and feature engineering\n",
    "\n",
    "3. cross validation\n",
    "\n",
    "4. ensemble\n",
    "\n",
    "5. grid search hyperparameters\n",
    "\n",
    "6. use test input statistics\n",
    "\n",
    "7. probe leaderboard to get more information\n",
    "\n",
    "8. if it's a kaggle competetion read the insight of the other participants "
   ]
  },
  {
   "cell_type": "markdown",
   "metadata": {},
   "source": [
    "# End of script"
   ]
  }
 ],
 "metadata": {
  "kernelspec": {
   "display_name": "venv3_plasticc",
   "language": "python",
   "name": "venv3_plasticc"
  },
  "language_info": {
   "codemirror_mode": {
    "name": "ipython",
    "version": 3
   },
   "file_extension": ".py",
   "mimetype": "text/x-python",
   "name": "python",
   "nbconvert_exporter": "python",
   "pygments_lexer": "ipython3",
   "version": "3.6.8"
  },
  "toc": {
   "base_numbering": 1,
   "nav_menu": {},
   "number_sections": true,
   "sideBar": true,
   "skip_h1_title": false,
   "title_cell": "Table of Contents",
   "title_sidebar": "Contents",
   "toc_cell": false,
   "toc_position": {},
   "toc_section_display": true,
   "toc_window_display": false
  }
 },
 "nbformat": 4,
 "nbformat_minor": 2
}
