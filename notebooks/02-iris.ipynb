{
 "cells": [
  {
   "cell_type": "markdown",
   "metadata": {
    "ExecuteTime": {
     "end_time": "2019-07-11T17:20:23.111348Z",
     "start_time": "2019-07-11T17:20:23.105107Z"
    },
    "slideshow": {
     "slide_type": "skip"
    }
   },
   "source": [
    "# Finding iris species\n",
    "\n",
    "The problem is similar to finding the boundaries in a phase transition problem.\n",
    "\n",
    "To make slides:\n",
    "\n",
    "1. Run notebook\n",
    "\n",
    "2. Save notebook\n",
    "\n",
    "3. Execute\n",
    "\n",
    "```\n",
    "jupyter nbconvert 02-iris.ipynb --to slides --post serve\n",
    "```\n",
    "\n",
    "## Reference\n",
    "\n",
    "https://medium.com/@mjspeck/presenting-code-using-jupyter-notebook-slides-a8a3c3b59d67\n"
   ]
  },
  {
   "cell_type": "markdown",
   "metadata": {
    "slideshow": {
     "slide_type": "skip"
    }
   },
   "source": [
    "## Setings\n",
    "### Notebook configuration"
   ]
  },
  {
   "cell_type": "code",
   "execution_count": null,
   "metadata": {
    "ExecuteTime": {
     "end_time": "2019-07-16T09:00:22.947748Z",
     "start_time": "2019-07-16T09:00:22.690654Z"
    },
    "slideshow": {
     "slide_type": "skip"
    }
   },
   "outputs": [],
   "source": [
    "%load_ext autoreload\n",
    "%autoreload 2\n",
    "%matplotlib inline"
   ]
  },
  {
   "cell_type": "markdown",
   "metadata": {
    "ExecuteTime": {
     "end_time": "2019-07-11T17:23:24.456714Z",
     "start_time": "2019-07-11T17:23:24.446198Z"
    },
    "slideshow": {
     "slide_type": "skip"
    }
   },
   "source": [
    "### Packages"
   ]
  },
  {
   "cell_type": "code",
   "execution_count": null,
   "metadata": {
    "ExecuteTime": {
     "end_time": "2019-07-16T09:00:23.102333Z",
     "start_time": "2019-07-16T09:00:22.948930Z"
    },
    "slideshow": {
     "slide_type": "skip"
    }
   },
   "outputs": [],
   "source": [
    "import os  # manage path and os interaction\n",
    "import numpy as np  # manage array and math operation\n",
    "import pandas as pd  # manage table\n",
    "\n",
    "from tqdm.notebook import tqdm\n",
    "\n",
    "import matplotlib as mpl  # plot data\n",
    "import matplotlib.pyplot as plt  # plot data"
   ]
  },
  {
   "cell_type": "code",
   "execution_count": null,
   "metadata": {
    "slideshow": {
     "slide_type": "skip"
    }
   },
   "outputs": [],
   "source": [
    "FIGSIZE = (10, 10)"
   ]
  },
  {
   "cell_type": "markdown",
   "metadata": {
    "ExecuteTime": {
     "end_time": "2019-07-11T17:31:04.281549Z",
     "start_time": "2019-07-11T17:31:04.216551Z"
    },
    "slideshow": {
     "slide_type": "skip"
    }
   },
   "source": [
    "## Import data"
   ]
  },
  {
   "cell_type": "code",
   "execution_count": null,
   "metadata": {
    "ExecuteTime": {
     "end_time": "2019-07-16T09:00:23.116004Z",
     "start_time": "2019-07-16T09:00:23.103455Z"
    },
    "slideshow": {
     "slide_type": "skip"
    }
   },
   "outputs": [],
   "source": [
    "data_path = '../data/iris/Iris.csv'\n",
    "df = pd.read_csv(data_path)\n",
    "target_col = \"Species\""
   ]
  },
  {
   "cell_type": "markdown",
   "metadata": {
    "ExecuteTime": {
     "end_time": "2019-07-11T17:32:12.598345Z",
     "start_time": "2019-07-11T17:32:12.554580Z"
    },
    "slideshow": {
     "slide_type": "skip"
    }
   },
   "source": [
    "## Explore data"
   ]
  },
  {
   "cell_type": "code",
   "execution_count": null,
   "metadata": {
    "ExecuteTime": {
     "end_time": "2019-07-16T09:00:23.141711Z",
     "start_time": "2019-07-16T09:00:23.117764Z"
    },
    "slideshow": {
     "slide_type": "slide"
    }
   },
   "outputs": [],
   "source": [
    "df.head(n=3)"
   ]
  },
  {
   "cell_type": "markdown",
   "metadata": {
    "slideshow": {
     "slide_type": "skip"
    }
   },
   "source": [
    "### Input and target cols"
   ]
  },
  {
   "cell_type": "code",
   "execution_count": null,
   "metadata": {
    "ExecuteTime": {
     "end_time": "2019-07-16T09:00:23.158106Z",
     "start_time": "2019-07-16T09:00:23.143446Z"
    },
    "slideshow": {
     "slide_type": "skip"
    }
   },
   "outputs": [],
   "source": [
    "def plot_target_bar(df, taget_col, figsize=FIGSIZE):\n",
    "    plt.figure(figsize=figsize)\n",
    "    plt.title(\"Target distribution\")\n",
    "    df[target_col].value_counts().plot(kind=\"bar\")\n",
    "    plt.xticks(rotation=0)\n",
    "    plt.legend()\n",
    "    plt.show()"
   ]
  },
  {
   "cell_type": "code",
   "execution_count": null,
   "metadata": {
    "slideshow": {
     "slide_type": "slide"
    }
   },
   "outputs": [],
   "source": [
    " plot_target_bar(df, target_col, figsize=FIGSIZE)"
   ]
  },
  {
   "cell_type": "code",
   "execution_count": null,
   "metadata": {
    "ExecuteTime": {
     "end_time": "2019-07-16T09:00:23.197316Z",
     "start_time": "2019-07-16T09:00:23.159690Z"
    },
    "slideshow": {
     "slide_type": "fragment"
    }
   },
   "outputs": [],
   "source": [
    "label_0 = df[target_col].unique()[0]\n",
    "label_1 = df[target_col].unique()[1]\n",
    "label_2 = df[target_col].unique()[2]\n",
    "print(label_0, label_1, label_2)"
   ]
  },
  {
   "cell_type": "code",
   "execution_count": null,
   "metadata": {
    "ExecuteTime": {
     "end_time": "2019-07-16T09:00:23.214808Z",
     "start_time": "2019-07-16T09:00:23.199240Z"
    },
    "slideshow": {
     "slide_type": "skip"
    }
   },
   "outputs": [],
   "source": [
    "input_cols = [col for col in df.columns if col not in [\"Id\", target_col]]\n",
    "print(input_cols)"
   ]
  },
  {
   "cell_type": "markdown",
   "metadata": {
    "ExecuteTime": {
     "end_time": "2019-07-16T07:46:33.465010Z",
     "start_time": "2019-07-16T07:46:33.438873Z"
    },
    "slideshow": {
     "slide_type": "skip"
    }
   },
   "source": [
    "## Scatter plots"
   ]
  },
  {
   "cell_type": "markdown",
   "metadata": {
    "slideshow": {
     "slide_type": "skip"
    }
   },
   "source": [
    "### Sepal analysis"
   ]
  },
  {
   "cell_type": "code",
   "execution_count": null,
   "metadata": {},
   "outputs": [],
   "source": [
    "df_0 = df[df[target_col]==label_0]\n",
    "df_1 = df[df[target_col]==label_1]\n",
    "df_2 = df[df[target_col]==label_2]"
   ]
  },
  {
   "cell_type": "code",
   "execution_count": null,
   "metadata": {
    "ExecuteTime": {
     "end_time": "2019-07-16T09:00:23.407741Z",
     "start_time": "2019-07-16T09:00:23.218117Z"
    },
    "slideshow": {
     "slide_type": "skip"
    }
   },
   "outputs": [],
   "source": [
    "def scatter_1(sz_inc=50):\n",
    "    plt.figure(figsize=FIGSIZE)\n",
    "\n",
    "    plt.scatter(x=df_0[input_cols[0]], y=df_0[input_cols[1]], s=sz_inc*df_0[input_cols[3]], marker='^', c='r', label=label_0)\n",
    "    plt.scatter(x=df_1[input_cols[0]], y=df_1[input_cols[1]], s=sz_inc*df_1[input_cols[3]], marker='o', c='y', label=label_1)\n",
    "    plt.scatter(x=df_2[input_cols[0]], y=df_2[input_cols[1]], s=sz_inc*df_2[input_cols[3]], marker='*', c='b', label=label_2)\n",
    "\n",
    "    plt.legend()\n",
    "\n",
    "    plt.xlabel(input_cols[0])\n",
    "    plt.ylabel(input_cols[1])\n",
    "    plt.title(f\"Iris `{target_col}` given by `{input_cols[2]}`\")\n",
    "\n",
    "    plt.show()"
   ]
  },
  {
   "cell_type": "code",
   "execution_count": null,
   "metadata": {
    "slideshow": {
     "slide_type": "slide"
    }
   },
   "outputs": [],
   "source": [
    "scatter_1()"
   ]
  },
  {
   "cell_type": "markdown",
   "metadata": {
    "slideshow": {
     "slide_type": "skip"
    }
   },
   "source": [
    "### Petal analysis"
   ]
  },
  {
   "cell_type": "code",
   "execution_count": null,
   "metadata": {
    "ExecuteTime": {
     "end_time": "2019-07-16T09:00:23.557136Z",
     "start_time": "2019-07-16T09:00:23.409175Z"
    },
    "slideshow": {
     "slide_type": "skip"
    }
   },
   "outputs": [],
   "source": [
    "def scatter_2(sz_inc=20):\n",
    "    plt.figure(figsize=FIGSIZE)\n",
    "\n",
    "    plt.scatter(x=df_0[input_cols[2]], y=df_0[input_cols[3]], s=sz_inc*df_0[input_cols[1]], marker='^', c='r', label=label_0)\n",
    "    plt.scatter(x=df_1[input_cols[2]], y=df_1[input_cols[3]], s=sz_inc*df_1[input_cols[1]], marker='o', c='y', label=label_1)\n",
    "    plt.scatter(x=df_2[input_cols[2]], y=df_2[input_cols[3]], s=sz_inc*df_1[input_cols[1]], marker='*', c='b', label=label_2)\n",
    "\n",
    "    plt.legend()\n",
    "\n",
    "    plt.xlabel(input_cols[2])\n",
    "    plt.ylabel(input_cols[3])\n",
    "    plt.title(f\"Iris `{target_col}` given by `{input_cols[1]}`\")\n",
    "\n",
    "    plt.show()"
   ]
  },
  {
   "cell_type": "code",
   "execution_count": null,
   "metadata": {
    "slideshow": {
     "slide_type": "slide"
    }
   },
   "outputs": [],
   "source": [
    "scatter_2()"
   ]
  },
  {
   "cell_type": "markdown",
   "metadata": {
    "slideshow": {
     "slide_type": "skip"
    }
   },
   "source": [
    "### Contour plot example"
   ]
  },
  {
   "cell_type": "markdown",
   "metadata": {
    "slideshow": {
     "slide_type": "skip"
    }
   },
   "source": [
    "#### Dummy Example"
   ]
  },
  {
   "cell_type": "code",
   "execution_count": null,
   "metadata": {
    "ExecuteTime": {
     "end_time": "2019-07-16T09:00:23.728624Z",
     "start_time": "2019-07-16T09:00:23.558984Z"
    },
    "slideshow": {
     "slide_type": "skip"
    }
   },
   "outputs": [],
   "source": [
    "x_min, x_max = 1, 10\n",
    "y_min, y_max = 5, 15\n",
    "h = 0.1\n",
    "\n",
    "xx, yy = np.meshgrid(np.arange(x_min, x_max, h), np.arange(y_min, y_max, h))\n",
    "zz_mult = np.multiply(xx, yy)\n",
    "\n",
    "plt.figure(figsize=FIGSIZE)\n",
    "plt.contourf(xx, yy, zz_mult, cmap=plt.cm.RdBu, alpha=.8)\n",
    "plt.show()"
   ]
  },
  {
   "cell_type": "markdown",
   "metadata": {
    "slideshow": {
     "slide_type": "skip"
    }
   },
   "source": [
    "#### Application for iris"
   ]
  },
  {
   "cell_type": "code",
   "execution_count": null,
   "metadata": {
    "ExecuteTime": {
     "end_time": "2019-07-16T09:00:23.752547Z",
     "start_time": "2019-07-16T09:00:23.731198Z"
    },
    "slideshow": {
     "slide_type": "skip"
    }
   },
   "outputs": [],
   "source": [
    "# Prepare mesh\n",
    "cm = plt.cm.RdYlBu\n",
    "\n",
    "x_min, x_max = 0.9*df[input_cols[2]].min(), 1.1*df[input_cols[2]].max()\n",
    "y_min, y_max = 0 * 0.7*df[input_cols[3]].min(), 1.1*df[input_cols[3]].max()\n",
    "\n",
    "xx, yy = np.meshgrid(np.arange(x_min, x_max, (x_max - x_min) / 100 ),\n",
    "                     np.arange(y_min, y_max, (y_max - y_min) / 100 ))"
   ]
  },
  {
   "cell_type": "code",
   "execution_count": null,
   "metadata": {
    "ExecuteTime": {
     "end_time": "2019-07-16T09:00:23.938771Z",
     "start_time": "2019-07-16T09:00:23.754372Z"
    },
    "slideshow": {
     "slide_type": "skip"
    }
   },
   "outputs": [],
   "source": [
    "zz_eng = np.zeros(xx.shape)\n",
    "\n",
    "# Classify species\n",
    "for x_id, x_val in enumerate(xx[0]):\n",
    "    for y_id, y_val in enumerate(yy[:,0]):\n",
    "        if (x_val < 2.) and (y_val < 0.7):\n",
    "            zz_eng[y_id, x_id] = 1\n",
    "        elif ((x_val > 2.8) and (x_val < 5)) and ((y_val > 0.9) and (y_val < 1.65)):\n",
    "            zz_eng[y_id, x_id] = 2\n",
    "        elif ((x_val > 5)  and (x_val < 7)) and ((y_val > 1.6) and (y_val < 2.55)):\n",
    "            zz_eng[y_id, x_id] = 3\n",
    "        else:\n",
    "            zz_eng[y_id, x_id] = np.nan"
   ]
  },
  {
   "cell_type": "code",
   "execution_count": null,
   "metadata": {
    "ExecuteTime": {
     "end_time": "2019-07-16T09:00:24.152794Z",
     "start_time": "2019-07-16T09:00:23.939971Z"
    },
    "slideshow": {
     "slide_type": "skip"
    }
   },
   "outputs": [],
   "source": [
    "def scatter_3(sz_inc=20):\n",
    "    ## View results\n",
    "    plt.figure(figsize=FIGSIZE)\n",
    "\n",
    "    plt.contourf(xx, yy, zz_eng, cmap=cm, alpha=.8)\n",
    "\n",
    "    plt.scatter(x=df_0[input_cols[2]], y=df_0[input_cols[3]], s=sz_inc*df_0[input_cols[1]], marker='^', c='r', label=label_0)\n",
    "    plt.scatter(x=df_1[input_cols[2]], y=df_1[input_cols[3]], s=sz_inc*df_1[input_cols[1]], marker='o', c='y', label=label_1)\n",
    "    plt.scatter(x=df_2[input_cols[2]], y=df_2[input_cols[3]], s=sz_inc*df_1[input_cols[1]], marker='*', c='b', label=label_2)\n",
    "\n",
    "\n",
    "    plt.xlabel(input_cols[2])\n",
    "    plt.ylabel(input_cols[3])\n",
    "    plt.title(f\"Manual separation of species\")\n",
    "    plt.legend()\n",
    "    plt.xlim(x_min, x_max)\n",
    "    plt.show()"
   ]
  },
  {
   "cell_type": "code",
   "execution_count": null,
   "metadata": {
    "slideshow": {
     "slide_type": "slide"
    }
   },
   "outputs": [],
   "source": [
    "scatter_3()"
   ]
  },
  {
   "cell_type": "markdown",
   "metadata": {
    "ExecuteTime": {
     "end_time": "2019-07-16T08:54:32.086449Z",
     "start_time": "2019-07-16T08:54:32.061034Z"
    },
    "slideshow": {
     "slide_type": "skip"
    }
   },
   "source": [
    "## Use machine learning"
   ]
  },
  {
   "cell_type": "markdown",
   "metadata": {
    "slideshow": {
     "slide_type": "skip"
    }
   },
   "source": [
    "### Encode target\n",
    "\n",
    "The label encoder is equivalent to a map with the index of the species as defined previsious.\n",
    "\n",
    "But the method is more generic and should preferent over tweeking aroung."
   ]
  },
  {
   "cell_type": "code",
   "execution_count": null,
   "metadata": {
    "ExecuteTime": {
     "end_time": "2019-07-16T09:05:40.465104Z",
     "start_time": "2019-07-16T09:05:40.433184Z"
    },
    "slideshow": {
     "slide_type": "skip"
    }
   },
   "outputs": [],
   "source": [
    "from sklearn.preprocessing import LabelEncoder\n",
    "\n",
    "le = LabelEncoder()\n",
    "le.fit(df[target_col].values)\n",
    "\n",
    "print(\"Class of the encoder\")\n",
    "print(list(le.classes_))\n",
    "print(\"\")\n",
    "print(\"Associated values\")\n",
    "print(le.transform(list(le.classes_)))"
   ]
  },
  {
   "cell_type": "markdown",
   "metadata": {
    "slideshow": {
     "slide_type": "skip"
    }
   },
   "source": [
    "### Split dataset"
   ]
  },
  {
   "cell_type": "code",
   "execution_count": null,
   "metadata": {
    "ExecuteTime": {
     "end_time": "2019-07-16T09:06:23.186367Z",
     "start_time": "2019-07-16T09:06:23.150090Z"
    },
    "slideshow": {
     "slide_type": "skip"
    }
   },
   "outputs": [],
   "source": [
    "from sklearn.model_selection import train_test_split\n",
    "\n",
    "## Define input and output\n",
    "X, y = df[input_cols], le.transform(df[target_col])\n",
    "\n",
    "## Split in train and test\n",
    "X_train, X_test, y_train, y_test = train_test_split(X, y, test_size=0.2, random_state=42)"
   ]
  },
  {
   "cell_type": "code",
   "execution_count": null,
   "metadata": {
    "ExecuteTime": {
     "end_time": "2019-07-16T09:10:06.432748Z",
     "start_time": "2019-07-16T09:10:06.214908Z"
    },
    "slideshow": {
     "slide_type": "skip"
    }
   },
   "outputs": [],
   "source": [
    "def scatter_4(sz_inc=20):\n",
    "    plt.figure(figsize=FIGSIZE)\n",
    "    plt.scatter(x=X_train[input_cols[2]], y=X_train[input_cols[3]], s=sz_inc*X_train[input_cols[1]], \n",
    "                marker='d', c='m', label=\"train\")\n",
    "    plt.scatter(x=X_test[input_cols[2]], y=X_test[input_cols[3]], s=sz_inc*X_test[input_cols[1]],\n",
    "                marker='s', c='c', alpha=0.7, label=\"test\")\n",
    "    plt.xlabel(input_cols[2])\n",
    "    plt.ylabel(input_cols[3])\n",
    "    plt.title(f\"Iris train-test split\")\n",
    "    plt.legend()\n",
    "    plt.show()"
   ]
  },
  {
   "cell_type": "code",
   "execution_count": null,
   "metadata": {
    "slideshow": {
     "slide_type": "slide"
    }
   },
   "outputs": [],
   "source": [
    "scatter_4()"
   ]
  },
  {
   "cell_type": "markdown",
   "metadata": {
    "ExecuteTime": {
     "end_time": "2019-07-16T09:10:31.325100Z",
     "start_time": "2019-07-16T09:10:31.303943Z"
    },
    "slideshow": {
     "slide_type": "skip"
    }
   },
   "source": [
    "### Train classifier"
   ]
  },
  {
   "cell_type": "code",
   "execution_count": null,
   "metadata": {
    "ExecuteTime": {
     "end_time": "2019-07-16T09:10:49.265180Z",
     "start_time": "2019-07-16T09:10:49.097893Z"
    },
    "slideshow": {
     "slide_type": "skip"
    }
   },
   "outputs": [],
   "source": [
    "from catboost import CatBoostClassifier"
   ]
  },
  {
   "cell_type": "code",
   "execution_count": null,
   "metadata": {
    "ExecuteTime": {
     "end_time": "2019-07-16T09:14:37.554741Z",
     "start_time": "2019-07-16T09:14:37.521444Z"
    },
    "slideshow": {
     "slide_type": "skip"
    }
   },
   "outputs": [],
   "source": [
    "# Check the paramter to optimize the fit\n",
    "\n",
    "clf_0 = CatBoostClassifier(learning_rate=3e-2, early_stopping_rounds=20, iterations=10000)\n",
    "clf_0.fit(X_train, y_train, plot=True, logging_level='Silent')\n",
    "y_pred_0 = clf_0.predict(X_test)"
   ]
  },
  {
   "cell_type": "code",
   "execution_count": null,
   "metadata": {
    "ExecuteTime": {
     "end_time": "2019-07-16T09:37:16.822511Z",
     "start_time": "2019-07-16T09:37:16.722577Z"
    },
    "slideshow": {
     "slide_type": "skip"
    }
   },
   "outputs": [],
   "source": [
    "clf_1 = CatBoostClassifier(loss_function='MultiClass',\n",
    "                           iterations=25,\n",
    "                           learning_rate=1,\n",
    "                           depth=4)\n",
    "clf_1.fit(X_train, y_train, plot=True, logging_level='Silent')\n",
    "y_pred_1 = clf_1.predict(X_test)"
   ]
  },
  {
   "cell_type": "code",
   "execution_count": null,
   "metadata": {
    "ExecuteTime": {
     "end_time": "2019-07-16T09:32:30.130598Z",
     "start_time": "2019-07-16T09:32:30.105241Z"
    },
    "slideshow": {
     "slide_type": "skip"
    }
   },
   "outputs": [],
   "source": [
    "y_pred = y_pred_1.ravel()"
   ]
  },
  {
   "cell_type": "markdown",
   "metadata": {
    "ExecuteTime": {
     "end_time": "2019-07-16T09:38:31.214686Z",
     "start_time": "2019-07-16T09:38:31.194437Z"
    },
    "slideshow": {
     "slide_type": "skip"
    }
   },
   "source": [
    "### View results"
   ]
  },
  {
   "cell_type": "code",
   "execution_count": null,
   "metadata": {
    "ExecuteTime": {
     "end_time": "2019-07-16T09:32:31.948911Z",
     "start_time": "2019-07-16T09:32:31.693266Z"
    },
    "slideshow": {
     "slide_type": "skip"
    }
   },
   "outputs": [],
   "source": [
    "def scatter_5(sz_inc=20):\n",
    "    plt.figure(figsize=FIGSIZE)\n",
    "\n",
    "    plt.scatter(x=X_test[y_test==0][input_cols[2]],\n",
    "                y=X_test[y_test==0][input_cols[3]],\n",
    "                s=sz_inc*X_test[y_test==0][input_cols[1]],\n",
    "                marker='^', c='r', label=label_0)\n",
    "    plt.scatter(x=X_test[y_test==1][input_cols[2]],\n",
    "                y=X_test[y_test==1][input_cols[3]],\n",
    "                s=sz_inc*X_test[y_test==1][input_cols[1]],\n",
    "                marker='o', c='y', label=label_1)\n",
    "    plt.scatter(x=X_test[y_test==2][input_cols[2]],\n",
    "                y=X_test[y_test==2][input_cols[3]],\n",
    "                s=sz_inc*X_test[y_test==2][input_cols[1]],\n",
    "                marker='*', c='b', label=label_2)\n",
    "\n",
    "    plt.scatter(x=X_test[y_pred==0][input_cols[2]].values,\n",
    "                y=X_test[y_pred==0][input_cols[3]].values,\n",
    "                s=sz_inc*20,\n",
    "                marker='^', edgecolors='r', facecolors='none', label=label_0 + '_pred')\n",
    "    plt.scatter(x=X_test[y_pred==1][input_cols[2]].values,\n",
    "                y=X_test[y_pred==1][input_cols[3]].values,\n",
    "                s=sz_inc*20,\n",
    "                marker='o', edgecolors='y', facecolors='none', label=label_0 + '_pred')\n",
    "    plt.scatter(x=X_test[y_pred==2][input_cols[2]].values,\n",
    "                y=X_test[y_pred==2][input_cols[3]].values,\n",
    "                s=sz_inc*20,\n",
    "                marker='*', edgecolors='b', facecolors='none', label=label_0 + '_pred')\n",
    "\n",
    "\n",
    "    plt.legend()\n",
    "\n",
    "    plt.xlabel(input_cols[2])\n",
    "    plt.ylabel(input_cols[3])\n",
    "    plt.title(f\"Prediction on test set\")\n",
    "\n",
    "    plt.show()"
   ]
  },
  {
   "cell_type": "code",
   "execution_count": null,
   "metadata": {
    "slideshow": {
     "slide_type": "slide"
    }
   },
   "outputs": [],
   "source": [
    "scatter_5()"
   ]
  },
  {
   "cell_type": "markdown",
   "metadata": {
    "slideshow": {
     "slide_type": "skip"
    }
   },
   "source": [
    "### Draw contour"
   ]
  },
  {
   "cell_type": "code",
   "execution_count": null,
   "metadata": {
    "ExecuteTime": {
     "end_time": "2019-07-16T09:59:12.290609Z",
     "start_time": "2019-07-16T09:58:27.648876Z"
    },
    "slideshow": {
     "slide_type": "skip"
    }
   },
   "outputs": [],
   "source": [
    "zz_pred = np.zeros(xx.shape)\n",
    "\n",
    "med_0 = df[input_cols[0]].median()\n",
    "med_1 = df[input_cols[1]].median()\n",
    "\n",
    "for x_id, x_val in enumerate(tqdm(xx[0])):\n",
    "    for y_id, y_val in enumerate(yy[:,0]):\n",
    "        zz_pred[y_id, x_id] = clf_1.predict([med_0, med_1, x_val, y_val])"
   ]
  },
  {
   "cell_type": "code",
   "execution_count": null,
   "metadata": {
    "ExecuteTime": {
     "end_time": "2019-07-16T09:59:19.286544Z",
     "start_time": "2019-07-16T09:59:19.025459Z"
    },
    "slideshow": {
     "slide_type": "skip"
    }
   },
   "outputs": [],
   "source": [
    "def scatter_6(sz_inc=20):\n",
    "    ## View results\n",
    "    plt.figure(figsize=FIGSIZE)\n",
    "\n",
    "    plt.contourf(xx, yy, zz_pred, cmap=cm, alpha=.8)\n",
    "\n",
    "    plt.scatter(x=df_0[input_cols[2]], y=df_0[input_cols[3]], s=sz_inc*df_0[input_cols[1]],\n",
    "                marker='^', c='r', label=label_0)\n",
    "    plt.scatter(x=df_1[input_cols[2]], y=df_1[input_cols[3]], s=sz_inc*df_1[input_cols[1]],\n",
    "                marker='o', c='y', label=label_1)\n",
    "    plt.scatter(x=df_2[input_cols[2]], y=df_2[input_cols[3]], s=sz_inc*df_1[input_cols[1]],\n",
    "                marker='*', c='b', label=label_2)\n",
    "\n",
    "\n",
    "    plt.xlabel(input_cols[2])\n",
    "    plt.ylabel(input_cols[3])\n",
    "    plt.title(f\"Manual separation of species\")\n",
    "    plt.legend()\n",
    "    plt.xlim(x_min, x_max)\n",
    "    plt.show()"
   ]
  },
  {
   "cell_type": "code",
   "execution_count": null,
   "metadata": {
    "slideshow": {
     "slide_type": "slide"
    }
   },
   "outputs": [],
   "source": [
    "scatter_6()"
   ]
  },
  {
   "cell_type": "markdown",
   "metadata": {
    "ExecuteTime": {
     "end_time": "2019-07-16T09:38:49.550718Z",
     "start_time": "2019-07-16T09:38:49.526811Z"
    },
    "slideshow": {
     "slide_type": "skip"
    }
   },
   "source": [
    "### Compute metric "
   ]
  },
  {
   "cell_type": "code",
   "execution_count": null,
   "metadata": {
    "ExecuteTime": {
     "end_time": "2019-07-16T10:01:21.376649Z",
     "start_time": "2019-07-16T10:01:21.353755Z"
    },
    "slideshow": {
     "slide_type": "skip"
    }
   },
   "outputs": [],
   "source": [
    "y_train_pred = clf_1.predict(X_train).ravel()"
   ]
  },
  {
   "cell_type": "code",
   "execution_count": null,
   "metadata": {
    "ExecuteTime": {
     "end_time": "2019-07-16T10:01:28.189544Z",
     "start_time": "2019-07-16T10:01:28.159485Z"
    },
    "slideshow": {
     "slide_type": "skip"
    }
   },
   "outputs": [],
   "source": [
    "from sklearn.metrics import accuracy_score\n",
    "\n",
    "acc_test = accuracy_score(y_test, y_pred)\n",
    "acc_train = accuracy_score(y_train, y_train_pred)"
   ]
  },
  {
   "cell_type": "code",
   "execution_count": null,
   "metadata": {
    "ExecuteTime": {
     "end_time": "2019-07-16T10:05:36.217689Z",
     "start_time": "2019-07-16T10:05:36.193383Z"
    },
    "slideshow": {
     "slide_type": "skip"
    }
   },
   "outputs": [],
   "source": [
    "print(\"Results on test\")\n",
    "print(acc_test)\n",
    "print(all(y_test == y_pred))\n",
    "\n",
    "print(\"\")\n",
    "\n",
    "print(\"Results on train\")\n",
    "print(acc_train)\n",
    "print(all(y_train == y_train_pred))"
   ]
  },
  {
   "cell_type": "markdown",
   "metadata": {
    "ExecuteTime": {
     "end_time": "2019-07-16T10:02:40.518792Z",
     "start_time": "2019-07-16T10:02:40.482289Z"
    },
    "slideshow": {
     "slide_type": "skip"
    }
   },
   "source": [
    "#### Confirm train results"
   ]
  },
  {
   "cell_type": "code",
   "execution_count": null,
   "metadata": {
    "ExecuteTime": {
     "end_time": "2019-07-16T10:08:05.665801Z",
     "start_time": "2019-07-16T10:08:05.457139Z"
    },
    "slideshow": {
     "slide_type": "skip"
    }
   },
   "outputs": [],
   "source": [
    "def scatter_6(sz_inc=20):\n",
    "    plt.figure(figsize=FIGSIZE)\n",
    "    plt.scatter(x=X_train[y_train==0][input_cols[2]],\n",
    "                y=X_train[y_train==0][input_cols[3]],\n",
    "                s=sz_inc*X_train[y_train==0][input_cols[1]],\n",
    "                marker='^', c='r', label=label_0)\n",
    "    plt.scatter(x=X_train[y_train==1][input_cols[2]],\n",
    "                y=X_train[y_train==1][input_cols[3]],\n",
    "                s=sz_inc*X_train[y_train==1][input_cols[1]],\n",
    "                marker='o', c='y', label=label_1)\n",
    "    plt.scatter(x=X_train[y_train==2][input_cols[2]],\n",
    "                y=X_train[y_train==2][input_cols[3]],\n",
    "                s=sz_inc*X_train[y_train==2][input_cols[1]],\n",
    "                marker='*', c='b', label=label_2)\n",
    "\n",
    "    plt.scatter(x=X_train[y_train_pred==0][input_cols[2]].values,\n",
    "                y=X_train[y_train_pred==0][input_cols[3]].values,\n",
    "                s=sz_inc*20,\n",
    "                marker='^', edgecolors='r', facecolors='none', label=label_0 + '_pred')\n",
    "    plt.scatter(x=X_train[y_train_pred==1][input_cols[2]].values,\n",
    "                y=X_train[y_train_pred==1][input_cols[3]].values,\n",
    "                s=sz_inc*20,\n",
    "                marker='o', edgecolors='y', facecolors='none', label=label_0 + '_pred')\n",
    "    plt.scatter(x=X_train[y_train_pred==2][input_cols[2]].values,\n",
    "                y=X_train[y_train_pred==2][input_cols[3]].values,\n",
    "                s=sz_inc*20,\n",
    "                marker='*', edgecolors='b', facecolors='none', label=label_0 + '_pred')\n",
    "    plt.legend()\n",
    "    plt.xlabel(input_cols[2])\n",
    "    plt.ylabel(input_cols[3])\n",
    "    plt.title(f\"Prediction on full dataset\")\n",
    "    plt.show()"
   ]
  },
  {
   "cell_type": "code",
   "execution_count": null,
   "metadata": {
    "slideshow": {
     "slide_type": "slide"
    }
   },
   "outputs": [],
   "source": [
    "scatter_6()"
   ]
  },
  {
   "cell_type": "markdown",
   "metadata": {
    "slideshow": {
     "slide_type": "skip"
    }
   },
   "source": [
    "#### Focus"
   ]
  },
  {
   "cell_type": "code",
   "execution_count": null,
   "metadata": {
    "ExecuteTime": {
     "end_time": "2019-07-16T10:16:20.403690Z",
     "start_time": "2019-07-16T10:16:20.371691Z"
    },
    "slideshow": {
     "slide_type": "skip"
    }
   },
   "outputs": [],
   "source": [
    "X_focus = X_train[(X_train[input_cols[2]]>4.5) & (X_train[input_cols[2]]<5.25) \n",
    "                   & (X_train[input_cols[3]]>1.4) & (X_train[input_cols[3]]<2)]\n",
    "y_focus = y_train[(X_train[input_cols[2]]>4.5) & (X_train[input_cols[2]]<5.25) \n",
    "                   & (X_train[input_cols[3]]>1.4) & (X_train[input_cols[3]]<2)]\n",
    "y_focus_pred = y_train_pred[(X_train[input_cols[2]]>4.5) & (X_train[input_cols[2]]<5.25) \n",
    "                   & (X_train[input_cols[3]]>1.4) & (X_train[input_cols[3]]<2)]"
   ]
  },
  {
   "cell_type": "code",
   "execution_count": null,
   "metadata": {
    "ExecuteTime": {
     "end_time": "2019-07-16T10:17:06.580355Z",
     "start_time": "2019-07-16T10:17:06.377407Z"
    },
    "slideshow": {
     "slide_type": "skip"
    }
   },
   "outputs": [],
   "source": [
    "def scatter_7(sz_inc=20):\n",
    "    plt.figure(figsize=FIGSIZE)\n",
    "\n",
    "    plt.scatter(x=X_focus[y_focus==0][input_cols[2]],\n",
    "                y=X_focus[y_focus==0][input_cols[3]],\n",
    "                s=sz_inc*X_focus[y_focus==0][input_cols[1]],\n",
    "                marker='^', c='r', label=label_0)\n",
    "    plt.scatter(x=X_focus[y_focus==1][input_cols[2]],\n",
    "                y=X_focus[y_focus==1][input_cols[3]],\n",
    "                s=sz_inc*X_focus[y_focus==1][input_cols[1]],\n",
    "                marker='o', c='y', label=label_1)\n",
    "    plt.scatter(x=X_focus[y_focus==2][input_cols[2]],\n",
    "                y=X_focus[y_focus==2][input_cols[3]],\n",
    "                s=sz_inc*X_focus[y_focus==2][input_cols[1]],\n",
    "                marker='*', c='b', label=label_2)\n",
    "\n",
    "    plt.scatter(x=X_focus[y_focus_pred==0][input_cols[2]].values,\n",
    "                y=X_focus[y_focus_pred==0][input_cols[3]].values,\n",
    "                s=sz_inc*20,\n",
    "                marker='^', edgecolors='r', facecolors='none', label=label_0 + '_pred')\n",
    "    plt.scatter(x=X_focus[y_focus_pred==1][input_cols[2]].values,\n",
    "                y=X_focus[y_focus_pred==1][input_cols[3]].values,\n",
    "                s=sz_inc*20,\n",
    "                marker='o', edgecolors='y', facecolors='none', label=label_0 + '_pred')\n",
    "    plt.scatter(x=X_focus[y_focus_pred==2][input_cols[2]].values,\n",
    "                y=X_focus[y_focus_pred==2][input_cols[3]].values,\n",
    "                s=sz_inc*20,\n",
    "                marker='*', edgecolors='b', facecolors='none', label=label_0 + '_pred')\n",
    "    plt.xlabel(input_cols[2])\n",
    "    plt.ylabel(input_cols[3])\n",
    "    plt.title(f\"Iris in mixed zone 1\")\n",
    "\n",
    "    plt.show()\n"
   ]
  },
  {
   "cell_type": "code",
   "execution_count": null,
   "metadata": {
    "slideshow": {
     "slide_type": "slide"
    }
   },
   "outputs": [],
   "source": [
    "scatter_7()"
   ]
  },
  {
   "cell_type": "code",
   "execution_count": null,
   "metadata": {
    "ExecuteTime": {
     "end_time": "2019-07-16T10:21:13.169327Z",
     "start_time": "2019-07-16T10:21:13.133881Z"
    },
    "slideshow": {
     "slide_type": "slide"
    }
   },
   "outputs": [],
   "source": [
    "df[(df[input_cols[2]] < 4.85) & (df[input_cols[2]] > 4.75)\n",
    "   & (df[input_cols[3]] < 1.85) & (df[input_cols[3]] > 1.75)]"
   ]
  },
  {
   "cell_type": "code",
   "execution_count": null,
   "metadata": {
    "ExecuteTime": {
     "end_time": "2019-07-16T10:21:56.081222Z",
     "start_time": "2019-07-16T10:21:55.940485Z"
    },
    "slideshow": {
     "slide_type": "skip"
    }
   },
   "outputs": [],
   "source": [
    "def scatter_8(sz_inc=20):    \n",
    "    plt.figure(figsize=FIGSIZE)\n",
    "\n",
    "    plt.scatter(x=X_focus[y_focus==0][input_cols[2]],\n",
    "                y=X_focus[y_focus==0][input_cols[3]],\n",
    "                s=sz_inc*X_focus[y_focus==0][input_cols[1]],\n",
    "                marker='^', c='r', label=label_0)\n",
    "    plt.scatter(x=X_focus[y_focus==1][input_cols[2]],\n",
    "                y=X_focus[y_focus==1][input_cols[3]],\n",
    "                s=sz_inc*X_focus[y_focus==1][input_cols[1]],\n",
    "                marker='o', c='y', label=label_1)\n",
    "    plt.scatter(x=X_focus[y_focus==2][input_cols[2]],\n",
    "                y=X_focus[y_focus==2][input_cols[3]],\n",
    "                s=sz_inc*X_focus[y_focus==2][input_cols[1]],\n",
    "                marker='*', c='b', label=label_2)\n",
    "\n",
    "    plt.scatter(x=X_focus[y_focus_pred==0][input_cols[2]].values,\n",
    "                y=X_focus[y_focus_pred==0][input_cols[3]].values,\n",
    "                s=sz_inc*20,\n",
    "                marker='^', edgecolors='r', facecolors='none', label=label_0 + '_pred')\n",
    "    plt.scatter(x=X_focus[y_focus_pred==1][input_cols[2]].values,\n",
    "                y=X_focus[y_focus_pred==1][input_cols[3]].values,\n",
    "                s=sz_inc*20,\n",
    "                marker='o', edgecolors='y', facecolors='none', label=label_0 + '_pred')\n",
    "    plt.scatter(x=X_focus[y_focus_pred==2][input_cols[2]].values,\n",
    "                y=X_focus[y_focus_pred==2][input_cols[3]].values,\n",
    "                s=sz_inc*20,\n",
    "                marker='*', edgecolors='b', facecolors='none', label=label_0 + '_pred')\n",
    "\n",
    "    # plt.legend()\n",
    "\n",
    "    plt.xlabel(input_cols[2])\n",
    "    plt.ylabel(input_cols[3])\n",
    "    plt.title(f\"Iris in mixed zone 2\")\n",
    "\n",
    "    plt.xlim(4.75, 4.85)\n",
    "    plt.ylim(1.75, 1.85)\n",
    "\n",
    "    plt.show()"
   ]
  },
  {
   "cell_type": "code",
   "execution_count": null,
   "metadata": {
    "slideshow": {
     "slide_type": "slide"
    }
   },
   "outputs": [],
   "source": [
    "scatter_8()"
   ]
  },
  {
   "cell_type": "markdown",
   "metadata": {
    "slideshow": {
     "slide_type": "skip"
    }
   },
   "source": [
    "#### Change axis"
   ]
  },
  {
   "cell_type": "code",
   "execution_count": null,
   "metadata": {
    "ExecuteTime": {
     "end_time": "2019-07-16T10:17:07.964988Z",
     "start_time": "2019-07-16T10:17:07.723626Z"
    },
    "slideshow": {
     "slide_type": "skip"
    }
   },
   "outputs": [],
   "source": [
    "def scatter_9(sz_inc=20):\n",
    "    plt.figure(figsize=FIGSIZE)\n",
    "\n",
    "    plt.scatter(x=X_focus[y_focus==0][input_cols[0]],\n",
    "                y=X_focus[y_focus==0][input_cols[1]],\n",
    "                s=sz_inc*X_focus[y_focus==0][input_cols[1]],\n",
    "                marker='^', c='r', label=label_0)\n",
    "    plt.scatter(x=X_focus[y_focus==1][input_cols[0]],\n",
    "                y=X_focus[y_focus==1][input_cols[1]],\n",
    "                s=sz_inc*X_focus[y_focus==1][input_cols[1]],\n",
    "                marker='o', c='y', label=label_1)\n",
    "    plt.scatter(x=X_focus[y_focus==2][input_cols[0]],\n",
    "                y=X_focus[y_focus==2][input_cols[1]],\n",
    "                s=sz_inc*X_focus[y_focus==2][input_cols[1]],\n",
    "                marker='*', c='b', label=label_2)\n",
    "\n",
    "    plt.scatter(x=X_focus[y_focus_pred==0][input_cols[0]].values,\n",
    "                y=X_focus[y_focus_pred==0][input_cols[1]].values,\n",
    "                s=sz_inc*20,\n",
    "                marker='^', edgecolors='r', facecolors='none', label=label_0 + '_pred')\n",
    "    plt.scatter(x=X_focus[y_focus_pred==1][input_cols[0]].values,\n",
    "                y=X_focus[y_focus_pred==1][input_cols[1]].values,\n",
    "                s=sz_inc*20,\n",
    "                marker='o', edgecolors='y', facecolors='none', label=label_0 + '_pred')\n",
    "    plt.scatter(x=X_focus[y_focus_pred==2][input_cols[0]].values,\n",
    "                y=X_focus[y_focus_pred==2][input_cols[1]].values,\n",
    "                s=sz_inc*20,\n",
    "                marker='*', edgecolors='b', facecolors='none', label=label_0 + '_pred')\n",
    "\n",
    "\n",
    "    plt.legend()\n",
    "\n",
    "    plt.xlabel(input_cols[0])\n",
    "    plt.ylabel(input_cols[1])\n",
    "    plt.title(f\"Iris in mixed zone 3\")\n",
    "\n",
    "    plt.show()"
   ]
  },
  {
   "cell_type": "code",
   "execution_count": null,
   "metadata": {
    "slideshow": {
     "slide_type": "slide"
    }
   },
   "outputs": [],
   "source": [
    "scatter_9()"
   ]
  },
  {
   "cell_type": "code",
   "execution_count": null,
   "metadata": {
    "ExecuteTime": {
     "end_time": "2019-07-16T10:19:00.456885Z",
     "start_time": "2019-07-16T10:19:00.425354Z"
    },
    "slideshow": {
     "slide_type": "slide"
    }
   },
   "outputs": [],
   "source": [
    "df[(df[input_cols[0]] < 6.4) & (df[input_cols[0]] > 6.2) & (df[input_cols[1]] < 2.6) & (df[input_cols[1]] > 2.4)]"
   ]
  },
  {
   "cell_type": "markdown",
   "metadata": {
    "slideshow": {
     "slide_type": "skip"
    }
   },
   "source": [
    "# Conclusion\n",
    "\n",
    "Using all the all variable the classifier is able to detect all the case.\n",
    "\n",
    "This task is not obvious for the human eye."
   ]
  },
  {
   "cell_type": "markdown",
   "metadata": {
    "slideshow": {
     "slide_type": "skip"
    }
   },
   "source": [
    "# End of script"
   ]
  },
  {
   "cell_type": "code",
   "execution_count": null,
   "metadata": {},
   "outputs": [],
   "source": []
  }
 ],
 "metadata": {
  "celltoolbar": "Slideshow",
  "kernelspec": {
   "display_name": "venv3_plasticc",
   "language": "python",
   "name": "venv3_plasticc"
  },
  "language_info": {
   "codemirror_mode": {
    "name": "ipython",
    "version": 3
   },
   "file_extension": ".py",
   "mimetype": "text/x-python",
   "name": "python",
   "nbconvert_exporter": "python",
   "pygments_lexer": "ipython3",
   "version": "3.6.8"
  },
  "toc": {
   "base_numbering": 1,
   "nav_menu": {},
   "number_sections": true,
   "sideBar": true,
   "skip_h1_title": false,
   "title_cell": "Table of Contents",
   "title_sidebar": "Contents",
   "toc_cell": false,
   "toc_position": {},
   "toc_section_display": true,
   "toc_window_display": false
  }
 },
 "nbformat": 4,
 "nbformat_minor": 2
}
